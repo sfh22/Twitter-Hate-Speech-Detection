{
 "cells": [
  {
   "cell_type": "markdown",
   "metadata": {
    "id": "rh_Vg-V1NUN5"
   },
   "source": [
    "# Importing Libraries"
   ]
  },
  {
   "cell_type": "code",
   "execution_count": 10,
   "metadata": {
    "colab": {
     "base_uri": "https://localhost:8080/"
    },
    "id": "LUIh4LF7BLGy",
    "outputId": "fc493a2a-de77-4fd2-acc1-4d7ce3ce2a42"
   },
   "outputs": [
    {
     "name": "stdout",
     "output_type": "stream",
     "text": [
      "Requirement already satisfied: emoji in /usr/local/lib/python3.7/dist-packages (1.2.0)\n",
      "Requirement already satisfied: pyarabic in /usr/local/lib/python3.7/dist-packages (0.6.10)\n",
      "Requirement already satisfied: tashaphyne in /usr/local/lib/python3.7/dist-packages (0.3.4.1)\n",
      "Requirement already satisfied: pyarabic in /usr/local/lib/python3.7/dist-packages (from tashaphyne) (0.6.10)\n",
      "Requirement already satisfied: arabic_reshaper in /usr/local/lib/python3.7/dist-packages (2.1.3)\n",
      "Requirement already satisfied: setuptools in /usr/local/lib/python3.7/dist-packages (from arabic_reshaper) (56.0.0)\n",
      "Requirement already satisfied: future in /usr/local/lib/python3.7/dist-packages (from arabic_reshaper) (0.16.0)\n",
      "\u001b[31mERROR: Could not find a version that satisfies the requirement bidi (from versions: none)\u001b[0m\n",
      "\u001b[31mERROR: No matching distribution found for bidi\u001b[0m\n",
      "[nltk_data] Downloading package stopwords to /root/nltk_data...\n",
      "[nltk_data]   Package stopwords is already up-to-date!\n",
      "[nltk_data] Downloading package punkt to /root/nltk_data...\n",
      "[nltk_data]   Package punkt is already up-to-date!\n"
     ]
    },
    {
     "data": {
      "text/plain": [
       "True"
      ]
     },
     "execution_count": 10,
     "metadata": {
      "tags": []
     },
     "output_type": "execute_result"
    }
   ],
   "source": [
    "# !pip install emoji\n",
    "# !pip install pyarabic\n",
    "# !pip install tashaphyne\n",
    "# !pip install arabic_reshaper\n",
    "# !pip install bidi\n",
    "# import nltk\n",
    "# nltk.download('stopwords')\n",
    "# nltk.download('punkt')"
   ]
  },
  {
   "cell_type": "code",
   "execution_count": 1,
   "metadata": {
    "id": "LBZI2-8q4v3i"
   },
   "outputs": [],
   "source": [
    "import pandas as pd\n",
    "import numpy as np\n",
    "import matplotlib.pyplot as plt\n",
    "import re\n",
    "import emoji\n",
    "import pickle\n",
    "import seaborn as sns\n",
    "import os\n",
    "import numpy as np\n",
    "import joblib\n",
    "import arabic_reshaper\n",
    "from bidi.algorithm import get_display\n",
    "\n",
    "import warnings\n",
    "warnings.filterwarnings('ignore')\n",
    "\n",
    "from textblob import TextBlob\n",
    "import pickle\n",
    "import pyarabic.araby as araby\n",
    "import tashaphyne.arabic_const as arabconst\n",
    "from tashaphyne.stemming import ArabicLightStemmer\n",
    "\n",
    "import nltk\n",
    "from nltk.corpus import stopwords\n",
    "from nltk.tokenize import word_tokenize\n",
    "from nltk.stem.isri import ISRIStemmer\n",
    "from nltk.tokenize import TweetTokenizer\n",
    "\n",
    "from wordcloud import WordCloud\n",
    "\n",
    "from sklearn.feature_extraction.text import CountVectorizer, TfidfTransformer\n",
    "from sklearn.model_selection import train_test_split\n",
    "from sklearn import preprocessing\n",
    "from sklearn.pipeline import make_pipeline\n",
    "from sklearn.pipeline import Pipeline\n",
    "from sklearn.model_selection import GridSearchCV\n",
    "from sklearn.naive_bayes import MultinomialNB\n",
    "from sklearn.decomposition import TruncatedSVD\n",
    "from sklearn.linear_model import LogisticRegression\n",
    "from sklearn.svm import SVC\n",
    "from sklearn.linear_model import SGDClassifier\n",
    "from sklearn.ensemble import RandomForestClassifier\n",
    "from sklearn.neighbors import KNeighborsClassifier\n",
    "from sklearn.ensemble import AdaBoostClassifier\n",
    "from sklearn.naive_bayes import GaussianNB\n",
    "from sklearn.preprocessing import FunctionTransformer\n",
    "from sklearn.ensemble import GradientBoostingClassifier\n",
    "from sklearn.ensemble import VotingClassifier\n",
    "from sklearn.metrics import confusion_matrix\n",
    "from sklearn.metrics import classification_report"
   ]
  },
  {
   "cell_type": "markdown",
   "metadata": {
    "id": "nvOV45NhAB6j"
   },
   "source": [
    "# Loading and Discovering the Dataset"
   ]
  },
  {
   "cell_type": "code",
   "execution_count": 2,
   "metadata": {
    "id": "clhgAmYds38H"
   },
   "outputs": [],
   "source": [
    "url = 'https://raw.githubusercontent.com/Hala-Mulki/L-HSAB-First-Arabic-Levantine-HateSpeech-Dataset/master/Dataset/L-HSAB'\n",
    "data = pd.read_csv(url, sep='\\t')"
   ]
  },
  {
   "cell_type": "code",
   "execution_count": 3,
   "metadata": {
    "colab": {
     "base_uri": "https://localhost:8080/",
     "height": 343
    },
    "id": "sDcQtibm6x85",
    "outputId": "fad01a4b-466f-4b26-d4f0-4d1f8d6961b3"
   },
   "outputs": [
    {
     "data": {
      "text/html": [
       "<div>\n",
       "<style scoped>\n",
       "    .dataframe tbody tr th:only-of-type {\n",
       "        vertical-align: middle;\n",
       "    }\n",
       "\n",
       "    .dataframe tbody tr th {\n",
       "        vertical-align: top;\n",
       "    }\n",
       "\n",
       "    .dataframe thead th {\n",
       "        text-align: right;\n",
       "    }\n",
       "</style>\n",
       "<table border=\"1\" class=\"dataframe\">\n",
       "  <thead>\n",
       "    <tr style=\"text-align: right;\">\n",
       "      <th></th>\n",
       "      <th>Tweet</th>\n",
       "      <th>Class</th>\n",
       "    </tr>\n",
       "  </thead>\n",
       "  <tbody>\n",
       "    <tr>\n",
       "      <th>0</th>\n",
       "      <td>الوزير جبران باسيل تاج راسك يا جربان ممنوع بعد...</td>\n",
       "      <td>abusive</td>\n",
       "    </tr>\n",
       "    <tr>\n",
       "      <th>1</th>\n",
       "      <td>صديقي انت ابن جامعه اللعبه اكبر من داعش اللعبه...</td>\n",
       "      <td>normal</td>\n",
       "    </tr>\n",
       "    <tr>\n",
       "      <th>2</th>\n",
       "      <td>و مصلحة لبنان تبدأ باستخراج النفط و الغاز لوقف...</td>\n",
       "      <td>normal</td>\n",
       "    </tr>\n",
       "    <tr>\n",
       "      <th>3</th>\n",
       "      <td>وليد جنبلاط كاتب الحكمة يا قذر</td>\n",
       "      <td>abusive</td>\n",
       "    </tr>\n",
       "    <tr>\n",
       "      <th>4</th>\n",
       "      <td>شو بتلبقلك كلمة خنزير بتجي مفصله على قياسك وشك...</td>\n",
       "      <td>abusive</td>\n",
       "    </tr>\n",
       "    <tr>\n",
       "      <th>5</th>\n",
       "      <td>يا جبران باسيل يا معلم يا ريس يا استاذ بدك حضن...</td>\n",
       "      <td>normal</td>\n",
       "    </tr>\n",
       "    <tr>\n",
       "      <th>6</th>\n",
       "      <td>ما سمعنا جعاركم مبارح على القصف الإسرائيلي يلي...</td>\n",
       "      <td>hate</td>\n",
       "    </tr>\n",
       "    <tr>\n",
       "      <th>7</th>\n",
       "      <td>نصيحة احكي مع الرئيس ميشال عون او هاجم جبران ب...</td>\n",
       "      <td>normal</td>\n",
       "    </tr>\n",
       "    <tr>\n",
       "      <th>8</th>\n",
       "      <td>صافي يا بقر</td>\n",
       "      <td>abusive</td>\n",
       "    </tr>\n",
       "    <tr>\n",
       "      <th>9</th>\n",
       "      <td>لا تعتب عليه هيدا اسمه ابو صرماي</td>\n",
       "      <td>abusive</td>\n",
       "    </tr>\n",
       "  </tbody>\n",
       "</table>\n",
       "</div>"
      ],
      "text/plain": [
       "                                               Tweet    Class\n",
       "0  الوزير جبران باسيل تاج راسك يا جربان ممنوع بعد...  abusive\n",
       "1  صديقي انت ابن جامعه اللعبه اكبر من داعش اللعبه...   normal\n",
       "2  و مصلحة لبنان تبدأ باستخراج النفط و الغاز لوقف...   normal\n",
       "3                    وليد جنبلاط كاتب الحكمة يا قذر   abusive\n",
       "4  شو بتلبقلك كلمة خنزير بتجي مفصله على قياسك وشك...  abusive\n",
       "5  يا جبران باسيل يا معلم يا ريس يا استاذ بدك حضن...   normal\n",
       "6  ما سمعنا جعاركم مبارح على القصف الإسرائيلي يلي...     hate\n",
       "7  نصيحة احكي مع الرئيس ميشال عون او هاجم جبران ب...   normal\n",
       "8                                        صافي يا بقر  abusive\n",
       "9                  لا تعتب عليه هيدا اسمه ابو صرماي   abusive"
      ]
     },
     "execution_count": 3,
     "metadata": {},
     "output_type": "execute_result"
    }
   ],
   "source": [
    "data.head(10)"
   ]
  },
  {
   "cell_type": "code",
   "execution_count": 4,
   "metadata": {
    "colab": {
     "base_uri": "https://localhost:8080/"
    },
    "id": "dhItu7LiIGGp",
    "outputId": "fa02b24a-1241-4dd3-8160-ce960c530124"
   },
   "outputs": [
    {
     "data": {
      "text/plain": [
       "(5846, 2)"
      ]
     },
     "execution_count": 4,
     "metadata": {},
     "output_type": "execute_result"
    }
   ],
   "source": [
    "data.shape"
   ]
  },
  {
   "cell_type": "code",
   "execution_count": 5,
   "metadata": {
    "colab": {
     "base_uri": "https://localhost:8080/"
    },
    "id": "Lah6r8XglKyl",
    "outputId": "d5f01d47-bba1-451b-c680-b0c048941061"
   },
   "outputs": [
    {
     "name": "stdout",
     "output_type": "stream",
     "text": [
      "<class 'pandas.core.frame.DataFrame'>\n",
      "RangeIndex: 5846 entries, 0 to 5845\n",
      "Data columns (total 2 columns):\n",
      " #   Column  Non-Null Count  Dtype \n",
      "---  ------  --------------  ----- \n",
      " 0   Tweet   5846 non-null   object\n",
      " 1   Class   5846 non-null   object\n",
      "dtypes: object(2)\n",
      "memory usage: 91.5+ KB\n"
     ]
    }
   ],
   "source": [
    "data.info()"
   ]
  },
  {
   "cell_type": "code",
   "execution_count": 6,
   "metadata": {
    "colab": {
     "base_uri": "https://localhost:8080/"
    },
    "id": "L1Z3TqM56zEE",
    "outputId": "3192276f-05a4-4896-e7f8-f6df29027bd3"
   },
   "outputs": [
    {
     "data": {
      "text/plain": [
       "array(['abusive', 'hate', 'normal'], dtype=object)"
      ]
     },
     "execution_count": 6,
     "metadata": {},
     "output_type": "execute_result"
    }
   ],
   "source": [
    "np.unique(data['Class'])"
   ]
  },
  {
   "cell_type": "markdown",
   "metadata": {
    "id": "533BdXK1s38J"
   },
   "source": [
    "# Exploratory Data Analysis"
   ]
  },
  {
   "cell_type": "markdown",
   "metadata": {
    "id": "a9ZleSHAs38K"
   },
   "source": [
    "### Number of Tweets per Class"
   ]
  },
  {
   "cell_type": "code",
   "execution_count": 11,
   "metadata": {
    "id": "WXqUJXjqs38K",
    "outputId": "7666384a-fb76-41d2-c4fb-3645cb8bec72"
   },
   "outputs": [
    {
     "data": {
      "image/png": "[encoded data removed]",
      "text/plain": [
       "<Figure size 792x504 with 1 Axes>"
      ]
     },
     "metadata": {
      "needs_background": "light"
     },
     "output_type": "display_data"
    }
   ],
   "source": [
    "plt.figure(figsize=(11,7))\n",
    "\n",
    "ax = sns.countplot(y=data['Class'], data=data, palette=\"Blues_d\", order = data['Class'].value_counts().index)\n",
    "\n",
    "plt.xlabel('')\n",
    "plt.ylabel('')\n",
    "plt.title('Number of Tweets per Each Class')\n",
    "\n",
    "plt.show()"
   ]
  },
  {
   "cell_type": "markdown",
   "metadata": {
    "id": "l-vx4twTs38K"
   },
   "source": [
    "### Word Cloud for the Most Frequent Words"
   ]
  },
  {
   "cell_type": "code",
   "execution_count": 8,
   "metadata": {
    "id": "UdhKGvMbs38L"
   },
   "outputs": [],
   "source": [
    "texts = data['Tweet']\n",
    "texts = [comment.split(\" \") for comment in texts]\n",
    "texts = [' '.join(comment) for comment in texts]\n",
    "texts = ' '.join(texts)\n",
    "\n",
    "reshaped_text = arabic_reshaper.reshape(texts)\n",
    "bidi_text = get_display(reshaped_text)"
   ]
  },
  {
   "cell_type": "code",
   "execution_count": 27,
   "metadata": {
    "id": "csbtGQAas38L",
    "outputId": "c95a63ac-e2ae-43cd-ef90-b0e005180394"
   },
   "outputs": [
    {
     "data": {
      "image/png": "[encoded data removed]",
      "text/plain": [
       "<Figure size 1008x720 with 1 Axes>"
      ]
     },
     "metadata": {
      "needs_background": "light"
     },
     "output_type": "display_data"
    }
   ],
   "source": [
    "wordcloud = WordCloud(font_path = 'tahoma.ttf',\n",
    "                      background_color='black',\n",
    "                      stopwords=(stops and stop_word_comp),\n",
    "                      max_words=200, \n",
    "                      random_state=42).generate(bidi_text)\n",
    "\n",
    "plt.figure(figsize=(14,10))\n",
    "plt.axis(\"off\")\n",
    "plt.title(\"Words frequented in text\", fontsize=15)\n",
    "plt.imshow(wordcloud.recolor(colormap= 'ocean' , random_state=42), alpha=0.98)\n",
    "plt.show()"
   ]
  },
  {
   "cell_type": "markdown",
   "metadata": {
    "id": "L6o_-L3zs38L"
   },
   "source": [
    "### Top Unigrams after Removing Stop Words"
   ]
  },
  {
   "cell_type": "code",
   "execution_count": 22,
   "metadata": {
    "id": "H1hLjrnds38M",
    "outputId": "bdc1dca7-eaee-422c-f3b4-1e580e4c175f"
   },
   "outputs": [
    {
     "name": "stdout",
     "output_type": "stream",
     "text": [
      "يا 1347\n",
      "جبران 1080\n",
      "باسيل 1078\n",
      "انت 536\n",
      "بس 384\n",
      "شو 383\n",
      "الله 353\n",
      "عم 331\n",
      "لبنان 277\n",
      "مش 244\n",
      "هوا 204\n",
      "وهاب 204\n",
      "كول 194\n",
      "شي 188\n",
      "قطر 179\n",
      "الوزير 170\n",
      "كلب 163\n",
      "يلي 157\n",
      "مين 156\n",
      "هيك 144\n"
     ]
    }
   ],
   "source": [
    "def get_top_n_words(corpus, n=None):\n",
    "    vec = CountVectorizer(stop_words = stops and stop_word_comp).fit(corpus)\n",
    "    bag_of_words = vec.transform(corpus)\n",
    "    sum_words = bag_of_words.sum(axis=0) \n",
    "    words_freq = [(word, sum_words[0, idx]) for word, idx in vec.vocabulary_.items()]\n",
    "    words_freq =sorted(words_freq, key = lambda x: x[1], reverse=True)\n",
    "    return words_freq[:n]\n",
    "\n",
    "common_words = get_top_n_words(data['Tweet'], 20)\n",
    "\n",
    "for word, freq in common_words:\n",
    "    print(word, freq)\n",
    "\n",
    "df1 = pd.DataFrame(common_words, columns = ['Tweet' , 'count'])"
   ]
  },
  {
   "cell_type": "markdown",
   "metadata": {
    "id": "DBQkp_bks38M"
   },
   "source": [
    "### Top Bigrams after Removing Stop Words"
   ]
  },
  {
   "cell_type": "code",
   "execution_count": null,
   "metadata": {
    "id": "YXl-vKHLs38M",
    "outputId": "80f9fc3c-dffc-4884-fd2e-4da488acbd82"
   },
   "outputs": [
    {
     "name": "stdout",
     "output_type": "stream",
     "text": [
      "جبران باسيل 954\n",
      "كول هوا 166\n",
      "الوزير جبران 86\n",
      "وئام وهاب 61\n",
      "معالي الوزير 54\n",
      "وزير الخارجية 50\n",
      "ميشال عون 48\n",
      "ابو دياب 39\n",
      "العقاب لوهاب 37\n",
      "لوهاب وهاب 36\n",
      "وهاب قاتل 36\n",
      "قاتل ابو 36\n",
      "حزب الله 36\n",
      "عماد عثمان 35\n",
      "عم تحكي 34\n",
      "امير قطر 31\n",
      "سعد الحريري 31\n",
      "استاذ وئام 29\n",
      "بلا شرف 27\n",
      "وزير خارجية 26\n"
     ]
    }
   ],
   "source": [
    "def get_top_n_bigram(corpus, n=None):\n",
    "    vec = CountVectorizer(ngram_range=(2, 2), stop_words = stops and stop_word_comp).fit(corpus)\n",
    "    bag_of_words = vec.transform(corpus)\n",
    "    sum_words = bag_of_words.sum(axis=0) \n",
    "    words_freq = [(word, sum_words[0, idx]) for word, idx in vec.vocabulary_.items()]\n",
    "    words_freq =sorted(words_freq, key = lambda x: x[1], reverse=True)\n",
    "    return words_freq[:n]\n",
    "\n",
    "common_words = get_top_n_bigram(data['Tweet'], 20)\n",
    "\n",
    "for word, freq in common_words:\n",
    "    print(word, freq)\n",
    "\n",
    "df2 = pd.DataFrame(common_words, columns = ['Tweet' , 'count'])"
   ]
  },
  {
   "cell_type": "markdown",
   "metadata": {
    "id": "YFHDdVXEs38N"
   },
   "source": [
    "### Top Trigrams after Removing Stop Words"
   ]
  },
  {
   "cell_type": "code",
   "execution_count": null,
   "metadata": {
    "id": "b63KObzHs38N",
    "outputId": "bd972b29-da3f-43f0-d209-27b6c6bf0c45"
   },
   "outputs": [
    {
     "name": "stdout",
     "output_type": "stream",
     "text": [
      "الوزير جبران باسيل 88\n",
      "العقاب لوهاب وهاب 36\n",
      "لوهاب وهاب قاتل 36\n",
      "وهاب قاتل ابو 36\n",
      "قاتل ابو دياب 36\n",
      "الخارجية جبران باسيل 25\n",
      "وزير خارجية لبنان 21\n",
      "الرئيس ميشال عون 19\n",
      "وزير الخارجية جبران 18\n",
      "يا جبران باسيل 17\n",
      "التيار الوطني الحر 17\n",
      "اللبناني جبران باسيل 16\n",
      "الملك جبران باسيل 16\n",
      "جبران باسيل بدو 15\n",
      "وزير الخارجية اللبناني 15\n",
      "الخارجية اللبناني جبران 15\n",
      "كول هوا يا 14\n",
      "يا استاذ وئام 14\n",
      "يا معالي الوزير 14\n",
      "يا بلا شرف 13\n"
     ]
    }
   ],
   "source": [
    "def get_top_n_trigram(corpus, n=None):\n",
    "    vec = CountVectorizer(ngram_range=(3, 3), stop_words = stops and stop_word_comp).fit(corpus)\n",
    "    bag_of_words = vec.transform(corpus)\n",
    "    sum_words = bag_of_words.sum(axis=0) \n",
    "    words_freq = [(word, sum_words[0, idx]) for word, idx in vec.vocabulary_.items()]\n",
    "    words_freq =sorted(words_freq, key = lambda x: x[1], reverse=True)\n",
    "    return words_freq[:n]\n",
    "\n",
    "common_words = get_top_n_trigram(data['Tweet'], 20)\n",
    "\n",
    "for word, freq in common_words:\n",
    "    print(word, freq)\n",
    "\n",
    "df3 = pd.DataFrame(common_words, columns = ['Tweet' , 'count'])"
   ]
  },
  {
   "cell_type": "markdown",
   "metadata": {
    "id": "YFHDdVXEs38N"
   },
   "source": [
    "### Top Fivegrams after Removing Stop Words"
   ]
  },
  {
   "cell_type": "code",
   "execution_count": 24,
   "metadata": {
    "id": "b63KObzHs38N",
    "outputId": "bd972b29-da3f-43f0-d209-27b6c6bf0c45"
   },
   "outputs": [
    {
     "name": "stdout",
     "output_type": "stream",
     "text": [
      "العقاب لوهاب وهاب قاتل ابو 36\n",
      "لوهاب وهاب قاتل ابو دياب 36\n",
      "وزير الخارجية اللبناني جبران باسيل 13\n",
      "وزير خارجية لبنان جبران باسيل 11\n",
      "جبران باسيل سيإنإن أمن إسرائيل 6\n",
      "باسيل سيإنإن أمن إسرائيل حق 6\n",
      "وزير الخارجية والمغتربين حكومة تصريف 6\n",
      "الخارجية والمغتربين حكومة تصريف الاعمال 6\n",
      "والمغتربين حكومة تصريف الاعمال جبران 6\n",
      "حكومة تصريف الاعمال جبران باسيل 6\n",
      "جبران باسيل مندوب مبيعات سوري 4\n",
      "مقابلة جبران باسيل سيإنإن أمن 4\n",
      "جبران باسيل وزير خارجية لبنان 4\n",
      "نجحنا بقوتنا شكرا فخامة الرئيس 4\n",
      "بقوتنا شكرا فخامة الرئيس ومعالي 4\n",
      "شكرا فخامة الرئيس ومعالي الوزير 4\n",
      "فخامة الرئيس ومعالي الوزير جبران 4\n",
      "الرئيس ومعالي الوزير جبران باسيل 4\n",
      "ارادت اسرائيل حفظ امنها وهذا 4\n",
      "اسرائيل حفظ امنها وهذا حقها 4\n"
     ]
    }
   ],
   "source": [
    "def get_top_n_trigram(corpus, n=None):\n",
    "    vec = CountVectorizer(ngram_range=(5, 5), stop_words = stops and stop_word_comp).fit(corpus)\n",
    "    bag_of_words = vec.transform(corpus)\n",
    "    sum_words = bag_of_words.sum(axis=0) \n",
    "    words_freq = [(word, sum_words[0, idx]) for word, idx in vec.vocabulary_.items()]\n",
    "    words_freq =sorted(words_freq, key = lambda x: x[1], reverse=True)\n",
    "    return words_freq[:n]\n",
    "\n",
    "common_words = get_top_n_trigram(data['Tweet'], 20)\n",
    "\n",
    "for word, freq in common_words:\n",
    "    print(word, freq)\n",
    "\n",
    "df3 = pd.DataFrame(common_words, columns = ['Tweet' , 'count'])"
   ]
  },
  {
   "cell_type": "markdown",
   "metadata": {
    "id": "-iODzr8WkuGz"
   },
   "source": [
    "# Pre-Cleaning Feature Extraction"
   ]
  },
  {
   "cell_type": "code",
   "execution_count": 17,
   "metadata": {
    "id": "8vevQPEmlFqq"
   },
   "outputs": [],
   "source": [
    "# def avg_word(sentence):\n",
    "#     words = sentence.split()\n",
    "#     if len(words) == 0:\n",
    "#         return 0\n",
    "#     return (sum(len(word) for word in words)/len(words))\n",
    "\n",
    "# def emoji_counter(sentence):\n",
    "#     return emoji.emoji_count(sentence)\n",
    "\n",
    "# data['word_count'] = data['Tweet'].apply(lambda x: len(str(x).split(\" \")))\n",
    "# data['char_count'] = data['Tweet'].str.len() ## this also includes spaces\n",
    "# data['avg_char_per_word'] = data['Tweet'].apply(lambda x: avg_word(x))\n",
    "# data['emoji_count'] = data['Tweet'].apply(lambda x: emoji_counter(x))\n",
    "\n",
    "# data = data.sort_values(by='emoji_count',ascending=[0])\n",
    "# data.head()"
   ]
  },
  {
   "cell_type": "markdown",
   "metadata": {
    "id": "yi-vGQ7wASjp"
   },
   "source": [
    "# Data Cleaning and Preprocessing"
   ]
  },
  {
   "cell_type": "markdown",
   "metadata": {
    "id": "lyw8r-NolKyt"
   },
   "source": [
    "## Dropping Duplicate Rows"
   ]
  },
  {
   "cell_type": "code",
   "execution_count": 18,
   "metadata": {
    "id": "ZbgUTadilKyt"
   },
   "outputs": [],
   "source": [
    "data.drop_duplicates(subset='Tweet', keep='first', inplace=True, ignore_index=False)"
   ]
  },
  {
   "cell_type": "markdown",
   "metadata": {
    "id": "wl4J8vZhNJHG"
   },
   "source": [
    "## Text Normalization"
   ]
  },
  {
   "cell_type": "code",
   "execution_count": 19,
   "metadata": {
    "id": "qEPn0TkUPo0O"
   },
   "outputs": [],
   "source": [
    "def normalizeArabic(text):\n",
    "    \n",
    "    text = text.strip()\n",
    "    text = re.sub(\"[إأٱآا]\", \"ا\", str(text))\n",
    "    #text = re.sub(\"ى\", \"ي\", text)\n",
    "    #text = re.sub(\"ؤ\", \"ء\", text)\n",
    "    #text = re.sub(\"ئ\", \"ء\", text)\n",
    "    #text = re.sub(\"ة\", \"ه\", text)\n",
    "    noise = re.compile(\"\"\" ّ    | # Tashdid\n",
    "                             َ    | # Fatha\n",
    "                             ً    | # Tanwin Fath\n",
    "                             ُ    | # Damma\n",
    "                             ٌ    | # Tanwin Damm\n",
    "                             ِ    | # Kasra\n",
    "                             ٍ    | # Tanwin Kasr\n",
    "                             ْ    | # Sukun\n",
    "                             ـ     # Tatwil/Kashida\n",
    "                         \"\"\", re.VERBOSE)\n",
    "    \n",
    "    text = re.sub(noise, '', text)\n",
    "    text = re.sub(r'(.)\\1+', r\"\\1\\1\", text) # Remove longation\n",
    "    \n",
    "    return araby.strip_tashkeel(text)"
   ]
  },
  {
   "cell_type": "code",
   "execution_count": 20,
   "metadata": {
    "colab": {
     "base_uri": "https://localhost:8080/",
     "height": 195
    },
    "id": "PT3wSP9zoPcy",
    "outputId": "04e61693-6bb5-4111-def9-948fc1644de3"
   },
   "outputs": [
    {
     "data": {
      "text/html": [
       "<div>\n",
       "<style scoped>\n",
       "    .dataframe tbody tr th:only-of-type {\n",
       "        vertical-align: middle;\n",
       "    }\n",
       "\n",
       "    .dataframe tbody tr th {\n",
       "        vertical-align: top;\n",
       "    }\n",
       "\n",
       "    .dataframe thead th {\n",
       "        text-align: right;\n",
       "    }\n",
       "</style>\n",
       "<table border=\"1\" class=\"dataframe\">\n",
       "  <thead>\n",
       "    <tr style=\"text-align: right;\">\n",
       "      <th></th>\n",
       "      <th>Tweet</th>\n",
       "      <th>Class</th>\n",
       "    </tr>\n",
       "  </thead>\n",
       "  <tbody>\n",
       "    <tr>\n",
       "      <th>0</th>\n",
       "      <td>الوزير جبران باسيل تاج راسك يا جربان ممنوع بعد...</td>\n",
       "      <td>abusive</td>\n",
       "    </tr>\n",
       "    <tr>\n",
       "      <th>1</th>\n",
       "      <td>صديقي انت ابن جامعه اللعبه اكبر من داعش اللعبه...</td>\n",
       "      <td>normal</td>\n",
       "    </tr>\n",
       "    <tr>\n",
       "      <th>2</th>\n",
       "      <td>و مصلحة لبنان تبدا باستخراج النفط و الغاز لوقف...</td>\n",
       "      <td>normal</td>\n",
       "    </tr>\n",
       "    <tr>\n",
       "      <th>3</th>\n",
       "      <td>وليد جنبلاط كاتب الحكمة يا قذر</td>\n",
       "      <td>abusive</td>\n",
       "    </tr>\n",
       "    <tr>\n",
       "      <th>4</th>\n",
       "      <td>شو بتلبقلك كلمة خنزير بتجي مفصله على قياسك وشكلك</td>\n",
       "      <td>abusive</td>\n",
       "    </tr>\n",
       "  </tbody>\n",
       "</table>\n",
       "</div>"
      ],
      "text/plain": [
       "                                               Tweet    Class\n",
       "0  الوزير جبران باسيل تاج راسك يا جربان ممنوع بعد...  abusive\n",
       "1  صديقي انت ابن جامعه اللعبه اكبر من داعش اللعبه...   normal\n",
       "2  و مصلحة لبنان تبدا باستخراج النفط و الغاز لوقف...   normal\n",
       "3                     وليد جنبلاط كاتب الحكمة يا قذر  abusive\n",
       "4   شو بتلبقلك كلمة خنزير بتجي مفصله على قياسك وشكلك  abusive"
      ]
     },
     "execution_count": 20,
     "metadata": {
      "tags": []
     },
     "output_type": "execute_result"
    }
   ],
   "source": [
    "data['Tweet'] = data['Tweet'].apply(lambda x:normalizeArabic(x))\n",
    "data.head()"
   ]
  },
  {
   "cell_type": "markdown",
   "metadata": {
    "id": "b7mNIvVCiyDQ"
   },
   "source": [
    "## Removing Stop Words"
   ]
  },
  {
   "cell_type": "code",
   "execution_count": 10,
   "metadata": {
    "id": "MqAxdDnRhxmM"
   },
   "outputs": [],
   "source": [
    "stops = set(stopwords.words(\"arabic\"))\n",
    "\n",
    "stop_word_comp = {\"،\",\"آض\",\"آمينَ\",\"آه\",\"آهاً\",\"آي\",\"أ\",\"أب\",\"أجل\",\"أجمع\",\"أخ\",\"أخذ\",\"أصبح\",\"أضحى\",\"أقبل\",\"أقل\",\"أكثر\",\"ألا\",\"أم\",\"أما\",\"أمامك\",\n",
    "                  \"أمامكَ\",\"أمسى\",\"أمّا\",\"أن\",\"أنا\",\"أنت\",\"أنتم\",\"أنتما\",\"أنتن\",\"أنتِ\",\"أنشأ\",\"أنّى\",\"أو\",\"أوشك\",\"أولئك\",\"أولئكم\",\n",
    "                  \"أولاء\",\"أولالك\",\"أوّهْ\",\"أي\",\"أيا\",\"أين\",\"أينما\",\"أيّ\",\"أَنَّ\",\"أََيُّ\",\"أُفٍّ\",\"إذ\",\"إذا\",\"إذاً\",\"إذما\",\"إذن\",\"إلى\",\n",
    "                  \"إليكم\",\"إليكما\",\"إليكنّ\",\"إليكَ\",\"إلَيْكَ\",\"إلّا\",\"إمّا\",\"إن\",\"إنّما\",\"إي\",\"إياك\",\"إياكم\",\"إياكما\",\"إياكن\",\"إيانا\",\"إياه\",\n",
    "                  \"إياها\",\"إياهم\",\"إياهما\",\"إياهن\",\"إياي\",\"إيهٍ\",\"إِنَّ\",\"ا\",\"ابتدأ\",\"اثر\",\"اجل\",\"احد\",\"اخرى\",\"اخلولق\",\"اذا\",\"اربعة\",\n",
    "                  \"ارتدّ\",\"استحال\",\"اطار\",\"اعادة\",\"اعلنت\",\"اف\",\"اكثر\",\"اكد\",\"الألاء\",\"الألى\",\"الا\",\"الاخيرة\",\"الان\",\"الاول\",\"الاولى\",\n",
    "                  \"التى\",\"التي\",\"الثاني\",\"الثانية\",\"الذاتي\",\"الذى\",\"الذي\",\"الذين\",\"السابق\",\"الف\",\"اللائي\",\"اللاتي\",\"اللتان\",\"اللتيا\",\"اللتين\",\n",
    "                  \"اللذان\",\"اللذين\",\"اللواتي\",\"الماضي\",\"المقبل\",\"الوقت\",\"الى\",\"اليوم\",\"اما\",\"امام\",\"امس\",\"ان\",\"انبرى\",\"انقلب\",\"انه\",\n",
    "                  \"انها\",\"او\",\"اول\",\"اي\",\"ايار\",\"ايام\",\"ايضا\",\"ب\",\"بات\",\"باسم\",\"بان\",\"بخٍ\",\"برس\",\"بسبب\",\"بسّ\",\"بشكل\",\"بضع\",\n",
    "                  \"بطآن\",\"بعد\",\"بعض\",\"بك\",\"بكم\",\"بكما\",\"بكن\",\"بل\",\"بلى\",\"بما\",\"بماذا\",\"بمن\",\"بن\",\"بنا\",\"به\",\"بها\",\"بي\",\"بيد\",\n",
    "                  \"بين\",\"بَسْ\",\"بَلْهَ\",\"بِئْسَ\",\"تانِ\",\"تانِك\",\"تبدّل\",\"تجاه\",\"تحوّل\",\"تلقاء\",\"تلك\",\"تلكم\",\"تلكما\",\"تم\",\"تينك\",\"تَيْنِ\",\"تِه\",\n",
    "                  \"تِي\",\"ثلاثة\",\"ثم\",\"ثمّ\",\"ثمّة\",\"ثُمَّ\",\"جعل\",\"جلل\",\"جميع\",\"جير\",\"حار\",\"حاشا\",\"حاليا\",\"حاي\",\"حتى\",\"حرى\",\"حسب\",\n",
    "                  \"حم\",\"حوالى\",\"حول\",\"حيث\",\"حيثما\",\"حين\",\"حيَّ\",\"حَبَّذَا\",\"حَتَّى\",\"حَذارِ\",\"خلا\",\"خلال\",\"دون\",\"دونك\",\"ذا\",\"ذات\",\n",
    "                  \"ذاك\",\"ذانك\",\"ذانِ\",\"ذلك\",\"ذلكم\",\"ذلكما\",\"ذلكن\",\"ذو\",\"ذوا\",\"ذواتا\",\"ذواتي\",\"ذيت\",\"ذينك\",\"ذَيْنِ\",\"ذِه\",\"ذِي\",\"راح\",\n",
    "                  \"رجع\",\"رويدك\",\"ريث\",\"رُبَّ\",\"زيارة\",\"سبحان\",\"سرعان\",\"سنة\",\"سنوات\",\"سوف\",\"سوى\",\"سَاءَ\",\"سَاءَمَا\",\"شبه\",\"شخصا\",\n",
    "                  \"شرع\",\"شَتَّانَ\",\"صار\",\"صباح\",\"صفر\",\"صهٍ\",\"صهْ\",\"ضد\",\"ضمن\",\"طاق\",\"طالما\",\"طفق\",\"طَق\",\"ظلّ\",\"عاد\",\"عام\",\n",
    "                  \"عاما\",\"عامة\",\"عدا\",\"عدة\",\"عدد\",\"عدم\",\"عسى\",\"عشر\",\"عشرة\",\"علق\",\"على\",\"عليك\",\"عليه\",\"عليها\",\"علًّ\",\"عن\",\n",
    "                  \"عند\",\"عندما\",\"عوض\",\"عين\",\"عَدَسْ\",\"عَمَّا\",\"غدا\",\"غير\",\"ـ\",\"ف\",\"فان\",\"فلان\",\"فو\",\"فى\",\"في\",\"فيم\",\"فيما\",\n",
    "                  \"فيه\",\"فيها\",\"قال\",\"قام\",\"قبل\",\"قد\",\"قطّ\",\"قلما\",\"قوة\",\"كأنّما\",\"كأين\",\"كأيّ\",\"كأيّن\",\"كاد\",\"كان\",\"كانت\",\"كذا\",\n",
    "                  \"كذلك\",\"كرب\",\"كل\",\"كلا\",\"كلاهما\",\"كلتا\",\"كلم\",\"كليكما\",\"كليهما\",\"كلّما\",\"كلَّا\",\"كم\",\"كما\",\"كي\",\"كيت\",\"كيف\",\n",
    "                  \"كيفما\",\"كَأَنَّ\",\"كِخ\",\"لئن\",\"لا\",\"لات\",\"لاسيما\",\"لدن\",\"لدى\",\"لعمر\",\"لقاء\",\"لك\",\"لكم\",\"لكما\",\"لكن\",\"لكنَّما\",\"لكي\",\n",
    "                  \"لكيلا\",\"للامم\",\"لم\",\"لما\",\"لمّا\",\"لن\",\"لنا\",\"له\",\"لها\",\"لو\",\"لوكالة\",\"لولا\",\"لوما\",\"لي\",\"لَسْتَ\",\"لَسْتُ\",\"لَسْتُم\",\"لَسْتُمَا\",\n",
    "                  \"لَسْتُنَّ\",\"لَسْتِ\",\"لَسْنَ\",\"لَعَلَّ\",\"لَكِنَّ\",\"لَيْتَ\",\"لَيْسَ\",\"لَيْسَا\",\"لَيْسَتَا\",\"لَيْسَتْ\",\"لَيْسُوا\",\"لَِسْنَا\",\"ما\",\"ماانفك\",\"مابرح\",\"مادام\",\n",
    "                  \"ماذا\",\"مازال\",\"مافتئ\",\"مايو\",\"متى\",\"مثل\",\"مذ\",\"مساء\",\"مع\",\"معاذ\",\"مقابل\",\"مكانكم\",\"مكانكما\",\"مكانكنّ\",\"مكانَك\",\n",
    "                  \"مليار\",\"مليون\",\"مما\",\"ممن\",\"من\",\"منذ\",\"منها\",\"مه\",\"مهما\",\"مَنْ\",\"مِن\",\"نحن\",\"نحو\",\"نعم\",\"نفس\",\"نفسه\",\"نهاية\",\n",
    "                  \"نَخْ\",\"نِعِمّا\",\"نِعْمَ\",\"ها\",\"هاؤم\",\"هاكَ\",\"هاهنا\",\"هبّ\",\"هذا\",\"هذه\",\"هكذا\",\"هل\",\"هلمَّ\",\"هلّا\",\"هم\",\"هما\",\"هن\",\"هنا\",\n",
    "                  \"هناك\",\"هنالك\",\"هو\",\"هي\",\"هيا\",\"هيت\",\"هيّا\",\"هَؤلاء\",\"هَاتانِ\",\"هَاتَيْنِ\",\"هَاتِه\",\"هَاتِي\",\"هَجْ\",\"هَذا\",\"هَذانِ\",\"هَذَيْنِ\",\"هَذِه\",\n",
    "                  \"هَذِي\",\"هَيْهَاتَ\",\"و\",\"و6\",\"وا\",\"واحد\",\"واضاف\",\"واضافت\",\"واكد\",\"وان\",\"واهاً\",\"واوضح\",\"وراءَك\",\"وفي\",\"وقال\",\"وقالت\",\n",
    "                  \"وقد\",\"وقف\",\"وكان\",\"وكانت\",\"ولا\",\"ولم\",\"ومن\",\"مَن\",\"وهو\",\"وهي\",\"ويكأنّ\",\"وَيْ\",\"وُشْكَانََ\",\"يكون\",\"يمكن\",\"يوم\",\"ّأيّان\"}"
   ]
  },
  {
   "cell_type": "code",
   "execution_count": 22,
   "metadata": {
    "id": "NqkDzJ_ysbzG"
   },
   "outputs": [],
   "source": [
    "def tokenize_text(text):\n",
    "    tokens = word_tokenize(text) \n",
    "    tokens = [token.strip() for token in tokens]\n",
    "    return tokens\n",
    "\n",
    "def remove_stopwords(text):\n",
    "    tokens = tokenize_text(text)\n",
    "    filtered_tokens = [token for token in tokens if token not in stops and token not in stop_word_comp]\n",
    "    filtered_text = ' '.join(filtered_tokens)    \n",
    "    return filtered_text"
   ]
  },
  {
   "cell_type": "code",
   "execution_count": 23,
   "metadata": {
    "colab": {
     "base_uri": "https://localhost:8080/",
     "height": 195
    },
    "id": "e7OgjMfqrkCc",
    "outputId": "e74d2651-0d39-41c1-eea2-25c147c4143a"
   },
   "outputs": [
    {
     "data": {
      "text/html": [
       "<div>\n",
       "<style scoped>\n",
       "    .dataframe tbody tr th:only-of-type {\n",
       "        vertical-align: middle;\n",
       "    }\n",
       "\n",
       "    .dataframe tbody tr th {\n",
       "        vertical-align: top;\n",
       "    }\n",
       "\n",
       "    .dataframe thead th {\n",
       "        text-align: right;\n",
       "    }\n",
       "</style>\n",
       "<table border=\"1\" class=\"dataframe\">\n",
       "  <thead>\n",
       "    <tr style=\"text-align: right;\">\n",
       "      <th></th>\n",
       "      <th>Tweet</th>\n",
       "      <th>Class</th>\n",
       "    </tr>\n",
       "  </thead>\n",
       "  <tbody>\n",
       "    <tr>\n",
       "      <th>0</th>\n",
       "      <td>الوزير جبران باسيل تاج راسك جربان ممنوع المساس...</td>\n",
       "      <td>abusive</td>\n",
       "    </tr>\n",
       "    <tr>\n",
       "      <th>1</th>\n",
       "      <td>صديقي انت ابن جامعه اللعبه اكبر داعش اللعبه سن...</td>\n",
       "      <td>normal</td>\n",
       "    </tr>\n",
       "    <tr>\n",
       "      <th>2</th>\n",
       "      <td>مصلحة لبنان تبدا باستخراج النفط الغاز لوقف الش...</td>\n",
       "      <td>normal</td>\n",
       "    </tr>\n",
       "    <tr>\n",
       "      <th>3</th>\n",
       "      <td>وليد جنبلاط كاتب الحكمة قذر</td>\n",
       "      <td>abusive</td>\n",
       "    </tr>\n",
       "    <tr>\n",
       "      <th>4</th>\n",
       "      <td>شو بتلبقلك كلمة خنزير بتجي مفصله قياسك وشكلك</td>\n",
       "      <td>abusive</td>\n",
       "    </tr>\n",
       "  </tbody>\n",
       "</table>\n",
       "</div>"
      ],
      "text/plain": [
       "                                               Tweet    Class\n",
       "0  الوزير جبران باسيل تاج راسك جربان ممنوع المساس...  abusive\n",
       "1  صديقي انت ابن جامعه اللعبه اكبر داعش اللعبه سن...   normal\n",
       "2  مصلحة لبنان تبدا باستخراج النفط الغاز لوقف الش...   normal\n",
       "3                        وليد جنبلاط كاتب الحكمة قذر  abusive\n",
       "4       شو بتلبقلك كلمة خنزير بتجي مفصله قياسك وشكلك  abusive"
      ]
     },
     "execution_count": 23,
     "metadata": {
      "tags": []
     },
     "output_type": "execute_result"
    }
   ],
   "source": [
    "data['Tweet'] = data['Tweet'].apply(lambda x:remove_stopwords(x))\n",
    "data.head()"
   ]
  },
  {
   "cell_type": "markdown",
   "metadata": {
    "id": "FBeTY8ClEaDO"
   },
   "source": [
    "## Stemming"
   ]
  },
  {
   "cell_type": "code",
   "execution_count": 24,
   "metadata": {
    "id": "8qEQnTIoEcEj"
   },
   "outputs": [],
   "source": [
    "# st = ISRIStemmer()\n",
    "\n",
    "# def stem(text):\n",
    "#   for token in word_tokenize(text):\n",
    "#     text = ' '.join(st.stem(token))\n",
    "#   return text"
   ]
  },
  {
   "cell_type": "code",
   "execution_count": 25,
   "metadata": {
    "id": "lsLq0MjIBL2X"
   },
   "outputs": [],
   "source": [
    "# ArListem = ArabicLightStemmer()\n",
    "\n",
    "# def stem(text):\n",
    "#     zen = TextBlob(text)\n",
    "#     words = zen.words\n",
    "#     cleaned = list()\n",
    "#     for w in words:\n",
    "#         ArListem.light_stem(w)\n",
    "#         cleaned.append(ArListem.get_root())\n",
    "#     return \" \".join(cleaned)"
   ]
  },
  {
   "cell_type": "code",
   "execution_count": 26,
   "metadata": {
    "id": "hNkvAsvh_NJu"
   },
   "outputs": [],
   "source": [
    "# data['Tweet'] = data['Tweet'].apply(lambda x:stem(x))\n",
    "# data.head()"
   ]
  },
  {
   "cell_type": "markdown",
   "metadata": {
    "id": "zuTb9UzUtquU"
   },
   "source": [
    "## Removing Emojis"
   ]
  },
  {
   "cell_type": "code",
   "execution_count": 27,
   "metadata": {
    "id": "-4xB3LUbtp-o"
   },
   "outputs": [],
   "source": [
    "def remove_emoji(text):\n",
    "    emoji_pattern = re.compile(\"[\"\n",
    "                                   u\"\\U0001F600-\\U0001F64F\"  # emoticons\n",
    "                                   u\"\\U0001F300-\\U0001F5FF\"  # symbols & pictographs\n",
    "                                   u\"\\U0001F680-\\U0001F6FF\"  # transport & map symbols\n",
    "                                   u\"\\U0001F1E0-\\U0001F1FF\"  # flags (iOS)\n",
    "                                   u\"\\U00002702-\\U000027B0\"\n",
    "                                   u\"\\U000024C2-\\U0001F251\"\n",
    "                                   \"]+\", flags=re.UNICODE)\n",
    "    text = emoji_pattern.sub(r'', text)\n",
    "    return text"
   ]
  },
  {
   "cell_type": "code",
   "execution_count": 28,
   "metadata": {
    "colab": {
     "base_uri": "https://localhost:8080/",
     "height": 0
    },
    "id": "a7gYXgM8y-wD",
    "outputId": "b5c0e888-3780-40fa-ff0b-032aa62b74f8"
   },
   "outputs": [
    {
     "data": {
      "text/html": [
       "<div>\n",
       "<style scoped>\n",
       "    .dataframe tbody tr th:only-of-type {\n",
       "        vertical-align: middle;\n",
       "    }\n",
       "\n",
       "    .dataframe tbody tr th {\n",
       "        vertical-align: top;\n",
       "    }\n",
       "\n",
       "    .dataframe thead th {\n",
       "        text-align: right;\n",
       "    }\n",
       "</style>\n",
       "<table border=\"1\" class=\"dataframe\">\n",
       "  <thead>\n",
       "    <tr style=\"text-align: right;\">\n",
       "      <th></th>\n",
       "      <th>Tweet</th>\n",
       "      <th>Class</th>\n",
       "    </tr>\n",
       "  </thead>\n",
       "  <tbody>\n",
       "    <tr>\n",
       "      <th>0</th>\n",
       "      <td>الوزير جبران باسيل تاج راسك جربان ممنوع المساس...</td>\n",
       "      <td>abusive</td>\n",
       "    </tr>\n",
       "    <tr>\n",
       "      <th>1</th>\n",
       "      <td>صديقي انت ابن جامعه اللعبه اكبر داعش اللعبه سن...</td>\n",
       "      <td>normal</td>\n",
       "    </tr>\n",
       "    <tr>\n",
       "      <th>2</th>\n",
       "      <td>مصلحة لبنان تبدا باستخراج النفط الغاز لوقف الش...</td>\n",
       "      <td>normal</td>\n",
       "    </tr>\n",
       "    <tr>\n",
       "      <th>3</th>\n",
       "      <td>وليد جنبلاط كاتب الحكمة قذر</td>\n",
       "      <td>abusive</td>\n",
       "    </tr>\n",
       "    <tr>\n",
       "      <th>4</th>\n",
       "      <td>شو بتلبقلك كلمة خنزير بتجي مفصله قياسك وشكلك</td>\n",
       "      <td>abusive</td>\n",
       "    </tr>\n",
       "  </tbody>\n",
       "</table>\n",
       "</div>"
      ],
      "text/plain": [
       "                                               Tweet    Class\n",
       "0  الوزير جبران باسيل تاج راسك جربان ممنوع المساس...  abusive\n",
       "1  صديقي انت ابن جامعه اللعبه اكبر داعش اللعبه سن...   normal\n",
       "2  مصلحة لبنان تبدا باستخراج النفط الغاز لوقف الش...   normal\n",
       "3                        وليد جنبلاط كاتب الحكمة قذر  abusive\n",
       "4       شو بتلبقلك كلمة خنزير بتجي مفصله قياسك وشكلك  abusive"
      ]
     },
     "execution_count": 28,
     "metadata": {
      "tags": []
     },
     "output_type": "execute_result"
    }
   ],
   "source": [
    "data['Tweet'] = data['Tweet'].apply(lambda x:remove_emoji(x))\n",
    "data.head()"
   ]
  },
  {
   "cell_type": "markdown",
   "metadata": {
    "id": "25aQDi-8zT71"
   },
   "source": [
    "## Text Cleaning"
   ]
  },
  {
   "cell_type": "code",
   "execution_count": 29,
   "metadata": {
    "id": "wlCoqRzLzVkf"
   },
   "outputs": [],
   "source": [
    "def clean_text(text):\n",
    "    \n",
    "    ## Remove punctuations\n",
    "    text = re.sub('[%s]' % re.escape(\"\"\"!\"#$%&'()*+,،-./:;<=>؟?@[\\]^_`{|}~\"\"\"), ' ', text)  # remove punctuation\n",
    "    ## remove extra whitespace\n",
    "    text = re.sub('\\s+', ' ', text)  \n",
    "    ## Remove numbers\n",
    "    text = re.sub(\"\\d+\", \" \", text)\n",
    "    #text = re.sub('\\W+', ' ', text)\n",
    "    text = re.sub('[A-Za-z]+',' ',text)\n",
    "    text = re.sub(r'\\\\u[A-Za-z0-9\\\\]+',' ',text)\n",
    "    ## remove extra whitespace\n",
    "    text = re.sub('\\s+', ' ', text)   \n",
    "    \n",
    "    return text"
   ]
  },
  {
   "cell_type": "code",
   "execution_count": 30,
   "metadata": {
    "colab": {
     "base_uri": "https://localhost:8080/",
     "height": 195
    },
    "id": "Qto3uvtoCQ5n",
    "outputId": "70a81de2-dc38-4224-fa2e-7604bb701dde"
   },
   "outputs": [
    {
     "data": {
      "text/html": [
       "<div>\n",
       "<style scoped>\n",
       "    .dataframe tbody tr th:only-of-type {\n",
       "        vertical-align: middle;\n",
       "    }\n",
       "\n",
       "    .dataframe tbody tr th {\n",
       "        vertical-align: top;\n",
       "    }\n",
       "\n",
       "    .dataframe thead th {\n",
       "        text-align: right;\n",
       "    }\n",
       "</style>\n",
       "<table border=\"1\" class=\"dataframe\">\n",
       "  <thead>\n",
       "    <tr style=\"text-align: right;\">\n",
       "      <th></th>\n",
       "      <th>Tweet</th>\n",
       "      <th>Class</th>\n",
       "    </tr>\n",
       "  </thead>\n",
       "  <tbody>\n",
       "    <tr>\n",
       "      <th>0</th>\n",
       "      <td>الوزير جبران باسيل تاج راسك جربان ممنوع المساس...</td>\n",
       "      <td>abusive</td>\n",
       "    </tr>\n",
       "    <tr>\n",
       "      <th>1</th>\n",
       "      <td>صديقي انت ابن جامعه اللعبه اكبر داعش اللعبه سن...</td>\n",
       "      <td>normal</td>\n",
       "    </tr>\n",
       "    <tr>\n",
       "      <th>2</th>\n",
       "      <td>مصلحة لبنان تبدا باستخراج النفط الغاز لوقف الش...</td>\n",
       "      <td>normal</td>\n",
       "    </tr>\n",
       "    <tr>\n",
       "      <th>3</th>\n",
       "      <td>وليد جنبلاط كاتب الحكمة قذر</td>\n",
       "      <td>abusive</td>\n",
       "    </tr>\n",
       "    <tr>\n",
       "      <th>4</th>\n",
       "      <td>شو بتلبقلك كلمة خنزير بتجي مفصله قياسك وشكلك</td>\n",
       "      <td>abusive</td>\n",
       "    </tr>\n",
       "  </tbody>\n",
       "</table>\n",
       "</div>"
      ],
      "text/plain": [
       "                                               Tweet    Class\n",
       "0  الوزير جبران باسيل تاج راسك جربان ممنوع المساس...  abusive\n",
       "1  صديقي انت ابن جامعه اللعبه اكبر داعش اللعبه سن...   normal\n",
       "2  مصلحة لبنان تبدا باستخراج النفط الغاز لوقف الش...   normal\n",
       "3                        وليد جنبلاط كاتب الحكمة قذر  abusive\n",
       "4       شو بتلبقلك كلمة خنزير بتجي مفصله قياسك وشكلك  abusive"
      ]
     },
     "execution_count": 30,
     "metadata": {
      "tags": []
     },
     "output_type": "execute_result"
    }
   ],
   "source": [
    "data['Tweet'] = data['Tweet'].apply(lambda x:clean_text(x))\n",
    "data.head()"
   ]
  },
  {
   "cell_type": "markdown",
   "metadata": {
    "id": "FRqQAT59bB73"
   },
   "source": [
    "# Splitting the Dataset into Train, Validation, and Test"
   ]
  },
  {
   "cell_type": "code",
   "execution_count": 31,
   "metadata": {
    "id": "qU7Cs5TSdD9n"
   },
   "outputs": [],
   "source": [
    "le = preprocessing.LabelEncoder()\n",
    "le.fit(data.Class)\n",
    "y_encode = le.transform(data.Class)\n",
    "\n",
    "# le.inverse_transform(y_encode)"
   ]
  },
  {
   "cell_type": "code",
   "execution_count": 32,
   "metadata": {
    "id": "KRXre2XP8Fwr"
   },
   "outputs": [],
   "source": [
    "data_df = pd.DataFrame({'Target Label': y_encode, 'Target Name': data.Class, 'Tweet': data.Tweet})"
   ]
  },
  {
   "cell_type": "code",
   "execution_count": 33,
   "metadata": {
    "colab": {
     "base_uri": "https://localhost:8080/",
     "height": 0
    },
    "id": "WgXgXwBu80fi",
    "outputId": "300d70eb-c2b8-49a0-8a43-c2a480a8ce27"
   },
   "outputs": [
    {
     "data": {
      "text/html": [
       "<div>\n",
       "<style scoped>\n",
       "    .dataframe tbody tr th:only-of-type {\n",
       "        vertical-align: middle;\n",
       "    }\n",
       "\n",
       "    .dataframe tbody tr th {\n",
       "        vertical-align: top;\n",
       "    }\n",
       "\n",
       "    .dataframe thead th {\n",
       "        text-align: right;\n",
       "    }\n",
       "</style>\n",
       "<table border=\"1\" class=\"dataframe\">\n",
       "  <thead>\n",
       "    <tr style=\"text-align: right;\">\n",
       "      <th></th>\n",
       "      <th>Target Label</th>\n",
       "      <th>Target Name</th>\n",
       "      <th>Tweet</th>\n",
       "    </tr>\n",
       "  </thead>\n",
       "  <tbody>\n",
       "    <tr>\n",
       "      <th>0</th>\n",
       "      <td>0</td>\n",
       "      <td>abusive</td>\n",
       "      <td>الوزير جبران باسيل تاج راسك جربان ممنوع المساس...</td>\n",
       "    </tr>\n",
       "    <tr>\n",
       "      <th>1</th>\n",
       "      <td>2</td>\n",
       "      <td>normal</td>\n",
       "      <td>صديقي انت ابن جامعه اللعبه اكبر داعش اللعبه سن...</td>\n",
       "    </tr>\n",
       "    <tr>\n",
       "      <th>2</th>\n",
       "      <td>2</td>\n",
       "      <td>normal</td>\n",
       "      <td>مصلحة لبنان تبدا باستخراج النفط الغاز لوقف الش...</td>\n",
       "    </tr>\n",
       "    <tr>\n",
       "      <th>3</th>\n",
       "      <td>0</td>\n",
       "      <td>abusive</td>\n",
       "      <td>وليد جنبلاط كاتب الحكمة قذر</td>\n",
       "    </tr>\n",
       "    <tr>\n",
       "      <th>4</th>\n",
       "      <td>0</td>\n",
       "      <td>abusive</td>\n",
       "      <td>شو بتلبقلك كلمة خنزير بتجي مفصله قياسك وشكلك</td>\n",
       "    </tr>\n",
       "  </tbody>\n",
       "</table>\n",
       "</div>"
      ],
      "text/plain": [
       "   Target Label Target Name                                              Tweet\n",
       "0             0     abusive  الوزير جبران باسيل تاج راسك جربان ممنوع المساس...\n",
       "1             2      normal  صديقي انت ابن جامعه اللعبه اكبر داعش اللعبه سن...\n",
       "2             2      normal  مصلحة لبنان تبدا باستخراج النفط الغاز لوقف الش...\n",
       "3             0     abusive                        وليد جنبلاط كاتب الحكمة قذر\n",
       "4             0     abusive       شو بتلبقلك كلمة خنزير بتجي مفصله قياسك وشكلك"
      ]
     },
     "execution_count": 33,
     "metadata": {
      "tags": []
     },
     "output_type": "execute_result"
    }
   ],
   "source": [
    "data_df.head()"
   ]
  },
  {
   "cell_type": "code",
   "execution_count": 34,
   "metadata": {
    "id": "XQO760ifnXzB"
   },
   "outputs": [],
   "source": [
    "train_corpus, test_corpus, train_label_nums, test_label_nums, train_label_names, test_label_names = train_test_split(np.array(data_df['Tweet']),\n",
    "                                                                                                                         np.array(data_df['Target Label']),\n",
    "                                                                                                                         np.array(data_df['Target Name']),\n",
    "                                                                                                                         stratify=data_df['Target Label'],\n",
    "                                                                                                                         test_size=0.15, random_state=42)\n",
    "\n",
    "train_corpus, valid_corpus, train_label_nums, valid_label_nums, train_label_names, valid_label_names = train_test_split(train_corpus,\n",
    "                                                                                                                          train_label_nums,\n",
    "                                                                                                                          train_label_names,\n",
    "                                                                                                                          stratify=train_label_nums,\n",
    "                                                                                                                          test_size=0.25, random_state=42)"
   ]
  },
  {
   "cell_type": "code",
   "execution_count": 35,
   "metadata": {
    "colab": {
     "base_uri": "https://localhost:8080/"
    },
    "id": "_MCUz4IBe55A",
    "outputId": "3787a0ec-c73f-4f0a-a6dd-c092ebb917f6"
   },
   "outputs": [
    {
     "name": "stdout",
     "output_type": "stream",
     "text": [
      "The Train Corpus has:  3667  rows\n",
      "The Validation Corpus has:  1223  rows\n",
      "The Test Corpus has:  864  rows\n"
     ]
    }
   ],
   "source": [
    "print('The Train Corpus has: ', len(train_corpus), ' rows' )\n",
    "print('The Validation Corpus has: ', len(valid_corpus), ' rows' )\n",
    "print('The Test Corpus has: ', len(test_corpus), ' rows' )"
   ]
  },
  {
   "cell_type": "markdown",
   "metadata": {
    "id": "giSNIgxtlKy0"
   },
   "source": [
    "# Testing  Feature Extraction Techniques"
   ]
  },
  {
   "cell_type": "markdown",
   "metadata": {
    "id": "qQ9bL1uylKy0"
   },
   "source": [
    "### 1. Count Vectorizer on SVC"
   ]
  },
  {
   "cell_type": "code",
   "execution_count": 36,
   "metadata": {
    "colab": {
     "base_uri": "https://localhost:8080/"
    },
    "id": "-SUfS_75lKy0",
    "outputId": "75bdaa91-3e78-4f8e-c7f4-ee5acb118bb9"
   },
   "outputs": [
    {
     "data": {
      "text/plain": [
       "Pipeline(memory=None,\n",
       "         steps=[('vect',\n",
       "                 CountVectorizer(analyzer='word', binary=False,\n",
       "                                 decode_error='strict',\n",
       "                                 dtype=<class 'numpy.int64'>, encoding='utf-8',\n",
       "                                 input='content', lowercase=True, max_df=1.0,\n",
       "                                 max_features=None, min_df=1,\n",
       "                                 ngram_range=(1, 1), preprocessor=None,\n",
       "                                 stop_words=None, strip_accents=None,\n",
       "                                 token_pattern='(?u)\\\\b\\\\w\\\\w+\\\\b',\n",
       "                                 tokenizer=None, vocabulary=None)),\n",
       "                ('svc',\n",
       "                 SVC(C=1.0, break_ties=False, cache_size=200, class_weight=None,\n",
       "                     coef0=0.0, decision_function_shape='ovr', degree=3,\n",
       "                     gamma='scale', kernel='rbf', max_iter=-1,\n",
       "                     probability=False, random_state=None, shrinking=True,\n",
       "                     tol=0.001, verbose=False))],\n",
       "         verbose=False)"
      ]
     },
     "execution_count": 36,
     "metadata": {
      "tags": []
     },
     "output_type": "execute_result"
    }
   ],
   "source": [
    "count_svc = Pipeline([('vect', CountVectorizer()), ('svc', SVC())])\n",
    "count_svc.fit(train_corpus, train_label_names)"
   ]
  },
  {
   "cell_type": "code",
   "execution_count": 37,
   "metadata": {
    "id": "QDTapnoXlKy1"
   },
   "outputs": [],
   "source": [
    "count_train = count_svc.score(train_corpus, train_label_names)\n",
    "count_test = count_svc.score(valid_corpus, valid_label_names)"
   ]
  },
  {
   "cell_type": "code",
   "execution_count": 38,
   "metadata": {
    "colab": {
     "base_uri": "https://localhost:8080/"
    },
    "id": "Y5NfFf6WlKy1",
    "outputId": "88c737c5-3513-4c86-f550-1653b3fd9016"
   },
   "outputs": [
    {
     "name": "stdout",
     "output_type": "stream",
     "text": [
      "Best SVC Classifier Train Accuracy: 0.9132806108535587\n",
      "Best SVC Classifier Valid Accuracy: 0.731807031888798\n"
     ]
    }
   ],
   "source": [
    "print(\"Best SVC Classifier Train Accuracy: {}\".format(count_svc.score(train_corpus, train_label_names)))\n",
    "print(\"Best SVC Classifier Valid Accuracy: {}\".format(count_svc.score(valid_corpus, valid_label_names)))"
   ]
  },
  {
   "cell_type": "markdown",
   "metadata": {
    "id": "FC26yRgelKy1"
   },
   "source": [
    "### 2. Count Vectorizer + Tfidf Transformer on SVC"
   ]
  },
  {
   "cell_type": "code",
   "execution_count": 39,
   "metadata": {
    "colab": {
     "base_uri": "https://localhost:8080/"
    },
    "id": "3oHABixAlKy1",
    "outputId": "2ee5f0fd-80f1-43c0-a622-8ea76a26515b"
   },
   "outputs": [
    {
     "data": {
      "text/plain": [
       "Pipeline(memory=None,\n",
       "         steps=[('vect',\n",
       "                 CountVectorizer(analyzer='word', binary=False,\n",
       "                                 decode_error='strict',\n",
       "                                 dtype=<class 'numpy.int64'>, encoding='utf-8',\n",
       "                                 input='content', lowercase=True, max_df=1.0,\n",
       "                                 max_features=None, min_df=1,\n",
       "                                 ngram_range=(1, 1), preprocessor=None,\n",
       "                                 stop_words=None, strip_accents=None,\n",
       "                                 token_pattern='(?u)\\\\b\\\\w\\\\w+\\\\b',\n",
       "                                 tokenizer=None, vocabulary=None)),\n",
       "                ('tfidf',\n",
       "                 TfidfTransformer(norm='l2', smooth_idf=True,\n",
       "                                  sublinear_tf=False, use_idf=True)),\n",
       "                ('svc',\n",
       "                 SVC(C=1.0, break_ties=False, cache_size=200, class_weight=None,\n",
       "                     coef0=0.0, decision_function_shape='ovr', degree=3,\n",
       "                     gamma='scale', kernel='rbf', max_iter=-1,\n",
       "                     probability=False, random_state=None, shrinking=True,\n",
       "                     tol=0.001, verbose=False))],\n",
       "         verbose=False)"
      ]
     },
     "execution_count": 39,
     "metadata": {
      "tags": []
     },
     "output_type": "execute_result"
    }
   ],
   "source": [
    "tfidf_svc = Pipeline([('vect', CountVectorizer()), ('tfidf', TfidfTransformer()), ('svc', SVC())])\n",
    "tfidf_svc.fit(train_corpus, train_label_names)"
   ]
  },
  {
   "cell_type": "code",
   "execution_count": 40,
   "metadata": {
    "id": "7J4oweU3lKy2"
   },
   "outputs": [],
   "source": [
    "tfidf_train = tfidf_svc.score(train_corpus, train_label_names)\n",
    "tfidf_test = tfidf_svc.score(valid_corpus, valid_label_names)"
   ]
  },
  {
   "cell_type": "code",
   "execution_count": 41,
   "metadata": {
    "colab": {
     "base_uri": "https://localhost:8080/"
    },
    "id": "y5onmNzAlKy2",
    "outputId": "bc81237f-cec8-4062-9bb7-d0fa32a8a950"
   },
   "outputs": [
    {
     "name": "stdout",
     "output_type": "stream",
     "text": [
      "Best SVC Classifier Train Accuracy: 0.9798200163621489\n",
      "Best SVC Classifier Valid Accuracy: 0.7489779231398201\n"
     ]
    }
   ],
   "source": [
    "print(\"Best SVC Classifier Train Accuracy: {}\".format(tfidf_svc.score(train_corpus, train_label_names)))\n",
    "print(\"Best SVC Classifier Valid Accuracy: {}\".format(tfidf_svc.score(valid_corpus, valid_label_names)))"
   ]
  },
  {
   "cell_type": "markdown",
   "metadata": {
    "id": "Vrus_cV4XLHR"
   },
   "source": [
    "# Models"
   ]
  },
  {
   "cell_type": "markdown",
   "metadata": {
    "id": "mvsUHWLGaoUb"
   },
   "source": [
    "### 1. Multinomial Naive Bayes Classifier"
   ]
  },
  {
   "cell_type": "code",
   "execution_count": 42,
   "metadata": {
    "id": "Ybkt7Q-F__6n"
   },
   "outputs": [],
   "source": [
    "text_mnb = Pipeline([('vect', CountVectorizer()), ('tfidf', TfidfTransformer()), ('mnb', MultinomialNB())])\n",
    "\n",
    "parameters_mnb = {\n",
    "    'vect__min_df': [0.1, 0.3, 0.5],\n",
    "    'vect__max_df': [0.5, 0.75, 1.0],\n",
    "    'vect__max_features': [None, 5000, 10000, 50000],\n",
    "    'vect__ngram_range': [(1, 1), (1, 2)],  \n",
    "    'tfidf__use_idf': [True, False],\n",
    "    'tfidf__norm': ['l1', 'l2', None],\n",
    "    'mnb__fit_prior': [True, False],\n",
    "    'mnb__alpha': [0.00001, 0.0001, 0.001, 0.01, 1],\n",
    "}"
   ]
  },
  {
   "cell_type": "code",
   "execution_count": 43,
   "metadata": {
    "colab": {
     "base_uri": "https://localhost:8080/"
    },
    "id": "yekwSWrba22h",
    "outputId": "831bb4f2-18d1-4470-e019-2dcf47e53b3b"
   },
   "outputs": [
    {
     "data": {
      "text/plain": [
       "GridSearchCV(cv=5, error_score=nan,\n",
       "             estimator=Pipeline(memory=None,\n",
       "                                steps=[('vect',\n",
       "                                        CountVectorizer(analyzer='word',\n",
       "                                                        binary=False,\n",
       "                                                        decode_error='strict',\n",
       "                                                        dtype=<class 'numpy.int64'>,\n",
       "                                                        encoding='utf-8',\n",
       "                                                        input='content',\n",
       "                                                        lowercase=True,\n",
       "                                                        max_df=1.0,\n",
       "                                                        max_features=None,\n",
       "                                                        min_df=1,\n",
       "                                                        ngram_range=(1, 1),\n",
       "                                                        preprocessor=None,\n",
       "                                                        stop_words=None,\n",
       "                                                        strip_accents=None,\n",
       "                                                        token_pattern='(?u)...\n",
       "             param_grid={'mnb__alpha': [1e-05, 0.0001, 0.001, 0.01, 1],\n",
       "                         'mnb__fit_prior': [True, False],\n",
       "                         'tfidf__norm': ['l1', 'l2', None],\n",
       "                         'tfidf__use_idf': [True, False],\n",
       "                         'vect__max_df': [0.5, 0.75, 1.0],\n",
       "                         'vect__max_features': [None, 5000, 10000, 50000],\n",
       "                         'vect__min_df': [0.1, 0.3, 0.5],\n",
       "                         'vect__ngram_range': [(1, 1), (1, 2)]},\n",
       "             pre_dispatch='2*n_jobs', refit=True, return_train_score=False,\n",
       "             scoring=None, verbose=0)"
      ]
     },
     "execution_count": 43,
     "metadata": {
      "tags": []
     },
     "output_type": "execute_result"
    }
   ],
   "source": [
    "grid_search_mnb = GridSearchCV(text_mnb, parameters_mnb, n_jobs=-1, cv=5, refit=True)\n",
    "\n",
    "grid_search_mnb.fit(train_corpus, train_label_names)"
   ]
  },
  {
   "cell_type": "code",
   "execution_count": 44,
   "metadata": {
    "colab": {
     "base_uri": "https://localhost:8080/"
    },
    "id": "5xnkCwRpWKsF",
    "outputId": "8b02edcf-3d2d-4993-f8d0-b62e51f76552"
   },
   "outputs": [
    {
     "name": "stdout",
     "output_type": "stream",
     "text": [
      "Best score: 0.628\n",
      "Best parameters set:\n",
      "\tvect__min_df: 0.1\n",
      "\tvect__max_df: 0.5\n",
      "\tvect__max_features: None\n",
      "\tvect__ngram_range: (1, 1)\n",
      "\ttfidf__use_idf: True\n",
      "\ttfidf__norm: 'l1'\n",
      "\tmnb__fit_prior: True\n",
      "\tmnb__alpha: 1e-05\n"
     ]
    }
   ],
   "source": [
    "print(\"Best score: %0.3f\" % grid_search_mnb.best_score_)\n",
    "print(\"Best parameters set:\")\n",
    "\n",
    "best_parameters_mnb = grid_search_mnb.best_estimator_.get_params()\n",
    "\n",
    "for param_name in (parameters_mnb.keys()):\n",
    "    print(\"\\t%s: %r\" % (param_name, best_parameters_mnb[param_name]))"
   ]
  },
  {
   "cell_type": "code",
   "execution_count": 45,
   "metadata": {
    "id": "aRAluWLss38W"
   },
   "outputs": [],
   "source": [
    "grid_search_mnb_train = grid_search_mnb.score(train_corpus, train_label_names)\n",
    "grid_search_mnb_valid = grid_search_mnb.score(valid_corpus, valid_label_names)"
   ]
  },
  {
   "cell_type": "code",
   "execution_count": 46,
   "metadata": {
    "colab": {
     "base_uri": "https://localhost:8080/"
    },
    "id": "y_lAVuKsWfdn",
    "outputId": "20e7d677-4167-4942-e285-5ceb9fc6a1e9"
   },
   "outputs": [
    {
     "name": "stdout",
     "output_type": "stream",
     "text": [
      "Best Multinomial Classifier Train Accuracy: 0.6214889555494955\n",
      "Best Multinomial Classifier Valid Accuracy: 0.6214227309893704\n"
     ]
    }
   ],
   "source": [
    "print(\"Best Multinomial Classifier Train Accuracy: {}\".format(grid_search_mnb.score(train_corpus, train_label_names)))\n",
    "print(\"Best Multinomial Classifier Valid Accuracy: {}\".format(grid_search_mnb.score(valid_corpus, valid_label_names)))"
   ]
  },
  {
   "cell_type": "markdown",
   "metadata": {
    "id": "XK8tcghouuQu"
   },
   "source": [
    "### 2. Logistic Regression Classifier"
   ]
  },
  {
   "cell_type": "code",
   "execution_count": 47,
   "metadata": {
    "id": "miaU1jsOuxGQ"
   },
   "outputs": [],
   "source": [
    "text_log = Pipeline([('vect', CountVectorizer()), ('tfidf', TfidfTransformer()), ('log', LogisticRegression())])\n",
    "\n",
    "parameters_log = {\n",
    "    'vect__min_df': [0.0, 0.1, 0.3, 0.5],\n",
    "    'vect__max_df': [0.5, 0.75, 1.0],\n",
    "    'vect__max_features': [None, 5000, 10000, 50000],\n",
    "    'vect__ngram_range': [(1, 1), (1, 2)], \n",
    "    'tfidf__use_idf': [True, False],\n",
    "    'tfidf__norm': ['l1', 'l2', None],\n",
    "    'log__solver': ['lbfgs', 'liblinear'], \n",
    "    'log__penalty': ['l1', 'l2'], \n",
    "    'log__C': [200, 100, 50, 10],\n",
    "}"
   ]
  },
  {
   "cell_type": "code",
   "execution_count": 48,
   "metadata": {
    "colab": {
     "base_uri": "https://localhost:8080/"
    },
    "id": "mKloBsKpvu8K",
    "outputId": "b2a5cb10-dc95-4c77-9455-369f3101f60e"
   },
   "outputs": [
    {
     "data": {
      "text/plain": [
       "GridSearchCV(cv=3, error_score=nan,\n",
       "             estimator=Pipeline(memory=None,\n",
       "                                steps=[('vect',\n",
       "                                        CountVectorizer(analyzer='word',\n",
       "                                                        binary=False,\n",
       "                                                        decode_error='strict',\n",
       "                                                        dtype=<class 'numpy.int64'>,\n",
       "                                                        encoding='utf-8',\n",
       "                                                        input='content',\n",
       "                                                        lowercase=True,\n",
       "                                                        max_df=1.0,\n",
       "                                                        max_features=None,\n",
       "                                                        min_df=1,\n",
       "                                                        ngram_range=(1, 1),\n",
       "                                                        preprocessor=None,\n",
       "                                                        stop_words=None,\n",
       "                                                        strip_accents=None,\n",
       "                                                        token_pattern='(?u)...\n",
       "                         'log__penalty': ['l1', 'l2'],\n",
       "                         'log__solver': ['lbfgs', 'liblinear'],\n",
       "                         'tfidf__norm': ['l1', 'l2', None],\n",
       "                         'tfidf__use_idf': [True, False],\n",
       "                         'vect__max_df': [0.5, 0.75, 1.0],\n",
       "                         'vect__max_features': [None, 5000, 10000, 50000],\n",
       "                         'vect__min_df': [0.0, 0.1, 0.3, 0.5],\n",
       "                         'vect__ngram_range': [(1, 1), (1, 2)]},\n",
       "             pre_dispatch='2*n_jobs', refit=True, return_train_score=False,\n",
       "             scoring=None, verbose=0)"
      ]
     },
     "execution_count": 48,
     "metadata": {
      "tags": []
     },
     "output_type": "execute_result"
    }
   ],
   "source": [
    "grid_search_log = GridSearchCV(text_log, parameters_log, n_jobs=-1, cv=3, refit=True)\n",
    "\n",
    "grid_search_log.fit(train_corpus, train_label_names)"
   ]
  },
  {
   "cell_type": "code",
   "execution_count": 49,
   "metadata": {
    "colab": {
     "base_uri": "https://localhost:8080/"
    },
    "id": "X0Vr1MdMmSsv",
    "outputId": "206afd31-4cb4-4eec-85d7-a99ad4474012"
   },
   "outputs": [
    {
     "name": "stdout",
     "output_type": "stream",
     "text": [
      "Best score: 0.761\n",
      "Best parameters set:\n",
      "\tlog__C: 100\n",
      "\tlog__penalty: 'l1'\n",
      "\tlog__solver: 'liblinear'\n",
      "\ttfidf__norm: None\n",
      "\ttfidf__use_idf: True\n",
      "\tvect__max_df: 0.75\n",
      "\tvect__max_features: None\n",
      "\tvect__min_df: 0.0\n",
      "\tvect__ngram_range: (1, 1)\n"
     ]
    }
   ],
   "source": [
    "print(\"Best score: %0.3f\" % grid_search_log.best_score_)\n",
    "print(\"Best parameters set:\")\n",
    "\n",
    "best_parameters_log = grid_search_log.best_estimator_.get_params()\n",
    "\n",
    "for param_name in sorted(parameters_log.keys()):\n",
    "    print(\"\\t%s: %r\" % (param_name, best_parameters_log[param_name]))"
   ]
  },
  {
   "cell_type": "code",
   "execution_count": 50,
   "metadata": {
    "id": "5b0WbagRs38Y"
   },
   "outputs": [],
   "source": [
    "grid_search_log_train = grid_search_log.score(train_corpus, train_label_names)\n",
    "grid_search_log_valid = grid_search_log.score(valid_corpus, valid_label_names)"
   ]
  },
  {
   "cell_type": "code",
   "execution_count": 51,
   "metadata": {
    "colab": {
     "base_uri": "https://localhost:8080/"
    },
    "id": "gz_vEvZIm1ix",
    "outputId": "436bd23a-475f-4d41-d4fe-41dd008782f4"
   },
   "outputs": [
    {
     "name": "stdout",
     "output_type": "stream",
     "text": [
      "Best Logistic Classifier Train Accuracy: 1.0\n",
      "Best Logistic Classifier Valid Accuracy: 0.7865903515944399\n"
     ]
    }
   ],
   "source": [
    "print(\"Best Logistic Classifier Train Accuracy: {}\".format(grid_search_log.score(train_corpus, train_label_names)))\n",
    "print(\"Best Logistic Classifier Valid Accuracy: {}\".format(grid_search_log.score(valid_corpus, valid_label_names)))"
   ]
  },
  {
   "cell_type": "markdown",
   "metadata": {
    "id": "yELDl3nJitin"
   },
   "source": [
    "### 3. Reduced Logistic Regression Classifier "
   ]
  },
  {
   "cell_type": "code",
   "execution_count": 52,
   "metadata": {
    "id": "VH-QwI3Kl_Ro"
   },
   "outputs": [],
   "source": [
    "text_log_reduced = Pipeline([('vect', CountVectorizer(min_df = 0, max_df = 1, max_features = None, ngram_range = (1,2))), \n",
    "                             ('tfidf', TfidfTransformer(use_idf = True, norm = None)), ('svd', TruncatedSVD()), ('log', LogisticRegression(C = 50, penalty = 'l1', solver = 'liblinear'))])\n",
    "\n",
    "parameters_log_reduced = {\n",
    "    'svd__n_components':[1000, 5000] \n",
    "}"
   ]
  },
  {
   "cell_type": "code",
   "execution_count": 53,
   "metadata": {
    "colab": {
     "base_uri": "https://localhost:8080/"
    },
    "id": "YrZwtPYWnDLX",
    "outputId": "2202e358-a12d-4a6c-9f18-7b3117fbcc67"
   },
   "outputs": [
    {
     "data": {
      "text/plain": [
       "GridSearchCV(cv=3, error_score=nan,\n",
       "             estimator=Pipeline(memory=None,\n",
       "                                steps=[('vect',\n",
       "                                        CountVectorizer(analyzer='word',\n",
       "                                                        binary=False,\n",
       "                                                        decode_error='strict',\n",
       "                                                        dtype=<class 'numpy.int64'>,\n",
       "                                                        encoding='utf-8',\n",
       "                                                        input='content',\n",
       "                                                        lowercase=True,\n",
       "                                                        max_df=1,\n",
       "                                                        max_features=None,\n",
       "                                                        min_df=0,\n",
       "                                                        ngram_range=(1, 2),\n",
       "                                                        preprocessor=None,\n",
       "                                                        stop_words=None,\n",
       "                                                        strip_accents=None,\n",
       "                                                        token_pattern='(?u)\\\\...\n",
       "                                                           fit_intercept=True,\n",
       "                                                           intercept_scaling=1,\n",
       "                                                           l1_ratio=None,\n",
       "                                                           max_iter=100,\n",
       "                                                           multi_class='auto',\n",
       "                                                           n_jobs=None,\n",
       "                                                           penalty='l1',\n",
       "                                                           random_state=None,\n",
       "                                                           solver='liblinear',\n",
       "                                                           tol=0.0001,\n",
       "                                                           verbose=0,\n",
       "                                                           warm_start=False))],\n",
       "                                verbose=False),\n",
       "             iid='deprecated', n_jobs=-1,\n",
       "             param_grid={'svd__n_components': [1000, 5000]},\n",
       "             pre_dispatch='2*n_jobs', refit=True, return_train_score=False,\n",
       "             scoring=None, verbose=0)"
      ]
     },
     "execution_count": 53,
     "metadata": {
      "tags": []
     },
     "output_type": "execute_result"
    }
   ],
   "source": [
    "grid_search_log_reduced = GridSearchCV(text_log_reduced, parameters_log_reduced, n_jobs=-1, cv=3, refit=True)\n",
    "\n",
    "grid_search_log_reduced.fit(train_corpus, train_label_names)"
   ]
  },
  {
   "cell_type": "code",
   "execution_count": 54,
   "metadata": {
    "colab": {
     "base_uri": "https://localhost:8080/"
    },
    "id": "zuqI81rFuQW5",
    "outputId": "f2c3be5d-10e0-49a9-c9e3-7440ae0354ae"
   },
   "outputs": [
    {
     "name": "stdout",
     "output_type": "stream",
     "text": [
      "Best score: 0.649\n",
      "Best parameters set:\n",
      "\tsvd__n_components: 5000\n"
     ]
    }
   ],
   "source": [
    "print(\"Best score: %0.3f\" % grid_search_log_reduced.best_score_)\n",
    "print(\"Best parameters set:\")\n",
    "\n",
    "best_parameters_log_reduced = grid_search_log_reduced.best_estimator_.get_params()\n",
    "\n",
    "for param_name in sorted(parameters_log_reduced.keys()):\n",
    "    print(\"\\t%s: %r\" % (param_name, best_parameters_log_reduced[param_name]))"
   ]
  },
  {
   "cell_type": "code",
   "execution_count": 55,
   "metadata": {
    "id": "BeI4VEG1s38Z"
   },
   "outputs": [],
   "source": [
    "grid_search_reduced_log_train = grid_search_log_reduced.score(train_corpus, train_label_names)\n",
    "grid_search_reduced_log_valid = grid_search_log_reduced.score(valid_corpus, valid_label_names)"
   ]
  },
  {
   "cell_type": "code",
   "execution_count": 56,
   "metadata": {
    "colab": {
     "base_uri": "https://localhost:8080/"
    },
    "id": "O4F6TYMZyEFV",
    "outputId": "de817476-7785-4618-94c0-0e8eafff8f0b"
   },
   "outputs": [
    {
     "name": "stdout",
     "output_type": "stream",
     "text": [
      "Best Reduced Logistic Classifier Train Accuracy: 0.9885464957731115\n",
      "Best Reduced Logistic Classifier Valid Accuracy: 0.6443172526573998\n"
     ]
    }
   ],
   "source": [
    "print(\"Best Reduced Logistic Classifier Train Accuracy: {}\".format(grid_search_log_reduced.score(train_corpus, train_label_names)))\n",
    "print(\"Best Reduced Logistic Classifier Valid Accuracy: {}\".format(grid_search_log_reduced.score(valid_corpus, valid_label_names)))"
   ]
  },
  {
   "cell_type": "markdown",
   "metadata": {
    "id": "GlkTi_bNs38Z"
   },
   "source": [
    "### 4. Support Vector Machine Classifier"
   ]
  },
  {
   "cell_type": "code",
   "execution_count": 57,
   "metadata": {
    "id": "EDltsu0us38a"
   },
   "outputs": [],
   "source": [
    "text_svc = Pipeline([('vect', CountVectorizer()), ('tfidf', TfidfTransformer()), ('svc', SVC())])\n",
    "\n",
    "parameters_svc = {\n",
    "    'vect__min_df': [0, 0.1],\n",
    "    'vect__max_df': [0.5, 1.0],\n",
    "    #'vect__max_features': [None, 10000, 20000],\n",
    "    'vect__ngram_range': [(1, 1), (1, 2)],  \n",
    "    'tfidf__norm': ['l1', 'l2', None],\n",
    "    #'svc__kernel': ['linear', 'poly', 'rbf', 'sigmoid'],\n",
    "    'svc__kernel': ['linear', 'rbf'],\n",
    "    'svc__C': [10, 15, 20],\n",
    "}"
   ]
  },
  {
   "cell_type": "code",
   "execution_count": 58,
   "metadata": {
    "colab": {
     "base_uri": "https://localhost:8080/"
    },
    "id": "wMfx-irrs38a",
    "outputId": "b9210b7b-38c5-40c7-d3a9-7cb3cc6c0cd8"
   },
   "outputs": [
    {
     "data": {
      "text/plain": [
       "GridSearchCV(cv=3, error_score=nan,\n",
       "             estimator=Pipeline(memory=None,\n",
       "                                steps=[('vect',\n",
       "                                        CountVectorizer(analyzer='word',\n",
       "                                                        binary=False,\n",
       "                                                        decode_error='strict',\n",
       "                                                        dtype=<class 'numpy.int64'>,\n",
       "                                                        encoding='utf-8',\n",
       "                                                        input='content',\n",
       "                                                        lowercase=True,\n",
       "                                                        max_df=1.0,\n",
       "                                                        max_features=None,\n",
       "                                                        min_df=1,\n",
       "                                                        ngram_range=(1, 1),\n",
       "                                                        preprocessor=None,\n",
       "                                                        stop_words=None,\n",
       "                                                        strip_accents=None,\n",
       "                                                        token_pattern='(?u)...\n",
       "                                            random_state=None, shrinking=True,\n",
       "                                            tol=0.001, verbose=False))],\n",
       "                                verbose=False),\n",
       "             iid='deprecated', n_jobs=-1,\n",
       "             param_grid={'svc__C': [10, 15, 20],\n",
       "                         'svc__kernel': ['linear', 'rbf'],\n",
       "                         'tfidf__norm': ['l1', 'l2', None],\n",
       "                         'vect__max_df': [0.5, 1.0], 'vect__min_df': [0, 0.1],\n",
       "                         'vect__ngram_range': [(1, 1), (1, 2)]},\n",
       "             pre_dispatch='2*n_jobs', refit=True, return_train_score=False,\n",
       "             scoring=None, verbose=0)"
      ]
     },
     "execution_count": 58,
     "metadata": {
      "tags": []
     },
     "output_type": "execute_result"
    }
   ],
   "source": [
    "grid_search_svc = GridSearchCV(text_svc, parameters_svc, n_jobs=-1, cv=3, refit=True)\n",
    "\n",
    "grid_search_svc.fit(train_corpus, train_label_names)"
   ]
  },
  {
   "cell_type": "code",
   "execution_count": 59,
   "metadata": {
    "colab": {
     "base_uri": "https://localhost:8080/"
    },
    "id": "1W2FHGIfs38b",
    "outputId": "d942c9af-3691-4ef8-dc96-540ddc485ec8"
   },
   "outputs": [
    {
     "name": "stdout",
     "output_type": "stream",
     "text": [
      "Best score: 0.759\n",
      "Best parameters set:\n",
      "\tvect__min_df: 0\n",
      "\tvect__max_df: 0.5\n",
      "\tvect__ngram_range: (1, 2)\n",
      "\ttfidf__norm: 'l2'\n",
      "\tsvc__kernel: 'linear'\n",
      "\tsvc__C: 10\n"
     ]
    }
   ],
   "source": [
    "print(\"Best score: %0.3f\" % grid_search_svc.best_score_)\n",
    "print(\"Best parameters set:\")\n",
    "\n",
    "best_parameters_svc = grid_search_svc.best_estimator_.get_params()\n",
    "\n",
    "for param_name in (parameters_svc.keys()):\n",
    "    print(\"\\t%s: %r\" % (param_name, best_parameters_svc[param_name]))"
   ]
  },
  {
   "cell_type": "code",
   "execution_count": 60,
   "metadata": {
    "id": "iLBLJ-bjs38b"
   },
   "outputs": [],
   "source": [
    "grid_search_svc_train = grid_search_svc.score(train_corpus, train_label_names)\n",
    "grid_search_svc_valid = grid_search_svc.score(valid_corpus, valid_label_names)"
   ]
  },
  {
   "cell_type": "code",
   "execution_count": 61,
   "metadata": {
    "colab": {
     "base_uri": "https://localhost:8080/"
    },
    "id": "63UATWj7s38c",
    "outputId": "9ddb58fc-47fe-4312-d3f4-6e006b615ba6"
   },
   "outputs": [
    {
     "name": "stdout",
     "output_type": "stream",
     "text": [
      "Best SVC Classifier Train Accuracy: 1.0\n",
      "Best SVC Classifier Valid Accuracy: 0.7923139820114473\n"
     ]
    }
   ],
   "source": [
    "print(\"Best SVC Classifier Train Accuracy: {}\".format(grid_search_svc.score(train_corpus, train_label_names)))\n",
    "print(\"Best SVC Classifier Valid Accuracy: {}\".format(grid_search_svc.score(valid_corpus, valid_label_names)))"
   ]
  },
  {
   "cell_type": "markdown",
   "metadata": {
    "id": "v4JN0bk-s38c"
   },
   "source": [
    "### 5. Stochastic Gradient Descent Classifier"
   ]
  },
  {
   "cell_type": "code",
   "execution_count": 62,
   "metadata": {
    "id": "JFZ7YNdks38c"
   },
   "outputs": [],
   "source": [
    "text_sgd = Pipeline([('vect', CountVectorizer()), ('tfidf', TfidfTransformer()), ('sgd', SGDClassifier())])\n",
    "\n",
    "parameters_sgd = {\n",
    "    'vect__min_df': [0.0, 0.1, 0.3, 0.5],\n",
    "    'vect__max_df': [0.5, 0.75, 1.0],\n",
    "    'vect__max_features': [None, 10000, 20000, 30000],\n",
    "    'vect__ngram_range': [(1, 1), (1, 2)], \n",
    "    'tfidf__norm': ['l1', 'l2', None],\n",
    "    'sgd__penalty': ['l2', 'l1', 'elasticnet'], \n",
    "    'sgd__alpha': [0.00001, 0.0001, 0.001, 0.1], \n",
    "}"
   ]
  },
  {
   "cell_type": "code",
   "execution_count": 63,
   "metadata": {
    "colab": {
     "base_uri": "https://localhost:8080/"
    },
    "id": "PEjcEocbs38c",
    "outputId": "bd7235db-9a64-4851-a439-b833d399f0e2"
   },
   "outputs": [
    {
     "data": {
      "text/plain": [
       "GridSearchCV(cv=3, error_score=nan,\n",
       "             estimator=Pipeline(memory=None,\n",
       "                                steps=[('vect',\n",
       "                                        CountVectorizer(analyzer='word',\n",
       "                                                        binary=False,\n",
       "                                                        decode_error='strict',\n",
       "                                                        dtype=<class 'numpy.int64'>,\n",
       "                                                        encoding='utf-8',\n",
       "                                                        input='content',\n",
       "                                                        lowercase=True,\n",
       "                                                        max_df=1.0,\n",
       "                                                        max_features=None,\n",
       "                                                        min_df=1,\n",
       "                                                        ngram_range=(1, 1),\n",
       "                                                        preprocessor=None,\n",
       "                                                        stop_words=None,\n",
       "                                                        strip_accents=None,\n",
       "                                                        token_pattern='(?u)...\n",
       "             iid='deprecated', n_jobs=-1,\n",
       "             param_grid={'sgd__alpha': [1e-05, 0.0001, 0.001, 0.1],\n",
       "                         'sgd__penalty': ['l2', 'l1', 'elasticnet'],\n",
       "                         'tfidf__norm': ['l1', 'l2', None],\n",
       "                         'vect__max_df': [0.5, 0.75, 1.0],\n",
       "                         'vect__max_features': [None, 10000, 20000, 30000],\n",
       "                         'vect__min_df': [0.0, 0.1, 0.3, 0.5],\n",
       "                         'vect__ngram_range': [(1, 1), (1, 2)]},\n",
       "             pre_dispatch='2*n_jobs', refit=True, return_train_score=False,\n",
       "             scoring=None, verbose=0)"
      ]
     },
     "execution_count": 63,
     "metadata": {
      "tags": []
     },
     "output_type": "execute_result"
    }
   ],
   "source": [
    "grid_search_sgd = GridSearchCV(text_sgd, parameters_sgd, n_jobs=-1, cv=3, refit=True)\n",
    "\n",
    "grid_search_sgd.fit(train_corpus, train_label_names)"
   ]
  },
  {
   "cell_type": "code",
   "execution_count": 64,
   "metadata": {
    "colab": {
     "base_uri": "https://localhost:8080/"
    },
    "id": "OlsgCzoNs38d",
    "outputId": "aa5434b0-bb7a-468e-dd19-0499b237d697"
   },
   "outputs": [
    {
     "name": "stdout",
     "output_type": "stream",
     "text": [
      "Best score: 0.763\n",
      "Best parameters set:\n",
      "\tsgd__alpha: 0.0001\n",
      "\tsgd__penalty: 'l2'\n",
      "\ttfidf__norm: 'l2'\n",
      "\tvect__max_df: 0.5\n",
      "\tvect__max_features: None\n",
      "\tvect__min_df: 0.0\n",
      "\tvect__ngram_range: (1, 2)\n"
     ]
    }
   ],
   "source": [
    "print(\"Best score: %0.3f\" % grid_search_sgd.best_score_)\n",
    "print(\"Best parameters set:\")\n",
    "\n",
    "best_parameters_sgd = grid_search_sgd.best_estimator_.get_params()\n",
    "\n",
    "for param_name in sorted(parameters_sgd.keys()):\n",
    "    print(\"\\t%s: %r\" % (param_name, best_parameters_sgd[param_name]))"
   ]
  },
  {
   "cell_type": "code",
   "execution_count": 65,
   "metadata": {
    "id": "AeMLC-H9s38d"
   },
   "outputs": [],
   "source": [
    "grid_search_sgd_train = grid_search_sgd.score(train_corpus, train_label_names)\n",
    "grid_search_sgd_valid = grid_search_sgd.score(valid_corpus, valid_label_names)"
   ]
  },
  {
   "cell_type": "code",
   "execution_count": 66,
   "metadata": {
    "colab": {
     "base_uri": "https://localhost:8080/"
    },
    "id": "MazX8Fp-s38d",
    "outputId": "770887c9-8aab-47f9-b044-1cb907bc09b3"
   },
   "outputs": [
    {
     "name": "stdout",
     "output_type": "stream",
     "text": [
      "Best SGD Classifier Train Accuracy: 1.0\n",
      "Best SGD Classifier Valid Accuracy: 0.7898609975470156\n"
     ]
    }
   ],
   "source": [
    "print(\"Best SGD Classifier Train Accuracy: {}\".format(grid_search_sgd.score(train_corpus, train_label_names)))\n",
    "print(\"Best SGD Classifier Valid Accuracy: {}\".format(grid_search_sgd.score(valid_corpus, valid_label_names)))"
   ]
  },
  {
   "cell_type": "markdown",
   "metadata": {
    "id": "9EudUpHns38d"
   },
   "source": [
    "### 6. Random Forest Classifier"
   ]
  },
  {
   "cell_type": "code",
   "execution_count": 67,
   "metadata": {
    "id": "7pMu1IwGs38d"
   },
   "outputs": [],
   "source": [
    "text_rfc = Pipeline([('vect', CountVectorizer()), ('tfidf', TfidfTransformer()), ('rfc', RandomForestClassifier())])\n",
    "\n",
    "parameters_rfc = {\n",
    "    #'vect__min_df': [0.0, 0.1, 0.3, 0.5],\n",
    "    #'vect__max_df': [0.5, 0.75, 1.0],\n",
    "    'vect__ngram_range': [(1, 1), (1, 2)], \n",
    "    'tfidf__norm': ['l1', 'l2'],\n",
    "    'rfc__n_estimators': [50, 100, 500], \n",
    "    'rfc__criterion': ['gini', 'entropy'],\n",
    "    'rfc__max_features': [\"auto\", \"sqrt\", \"log2\"],\n",
    "    'rfc__bootstrap': [True, False]\n",
    "}"
   ]
  },
  {
   "cell_type": "code",
   "execution_count": 68,
   "metadata": {
    "colab": {
     "base_uri": "https://localhost:8080/"
    },
    "id": "C98da7tls38e",
    "outputId": "9bfc67b8-25b9-4c97-e3b4-8e6f8b708b0b"
   },
   "outputs": [
    {
     "name": "stdout",
     "output_type": "stream",
     "text": [
      "Fitting 2 folds for each of 144 candidates, totalling 288 fits\n"
     ]
    },
    {
     "name": "stderr",
     "output_type": "stream",
     "text": [
      "[Parallel(n_jobs=-1)]: Using backend LokyBackend with 2 concurrent workers.\n",
      "[Parallel(n_jobs=-1)]: Done  46 tasks      | elapsed:  1.6min\n",
      "[Parallel(n_jobs=-1)]: Done 196 tasks      | elapsed:  7.9min\n",
      "[Parallel(n_jobs=-1)]: Done 288 out of 288 | elapsed: 13.0min finished\n"
     ]
    },
    {
     "data": {
      "text/plain": [
       "GridSearchCV(cv=2, error_score=nan,\n",
       "             estimator=Pipeline(memory=None,\n",
       "                                steps=[('vect',\n",
       "                                        CountVectorizer(analyzer='word',\n",
       "                                                        binary=False,\n",
       "                                                        decode_error='strict',\n",
       "                                                        dtype=<class 'numpy.int64'>,\n",
       "                                                        encoding='utf-8',\n",
       "                                                        input='content',\n",
       "                                                        lowercase=True,\n",
       "                                                        max_df=1.0,\n",
       "                                                        max_features=None,\n",
       "                                                        min_df=1,\n",
       "                                                        ngram_range=(1, 1),\n",
       "                                                        preprocessor=None,\n",
       "                                                        stop_words=None,\n",
       "                                                        strip_accents=None,\n",
       "                                                        token_pattern='(?u)...\n",
       "                                                               warm_start=False))],\n",
       "                                verbose=False),\n",
       "             iid='deprecated', n_jobs=-1,\n",
       "             param_grid={'rfc__bootstrap': [True, False],\n",
       "                         'rfc__criterion': ['gini', 'entropy'],\n",
       "                         'rfc__max_features': ['auto', 'sqrt', 'log2'],\n",
       "                         'rfc__n_estimators': [50, 100, 500],\n",
       "                         'tfidf__norm': ['l1', 'l2'],\n",
       "                         'vect__ngram_range': [(1, 1), (1, 2)]},\n",
       "             pre_dispatch='2*n_jobs', refit=True, return_train_score=False,\n",
       "             scoring=None, verbose=1)"
      ]
     },
     "execution_count": 68,
     "metadata": {
      "tags": []
     },
     "output_type": "execute_result"
    }
   ],
   "source": [
    "grid_search_rfc = GridSearchCV(text_rfc, parameters_rfc, n_jobs=-1, verbose=1, cv=2, refit=True)\n",
    "\n",
    "grid_search_rfc.fit(train_corpus, train_label_names)"
   ]
  },
  {
   "cell_type": "code",
   "execution_count": 69,
   "metadata": {
    "colab": {
     "base_uri": "https://localhost:8080/"
    },
    "id": "glhP7MKgs38e",
    "outputId": "c79b5a42-9d48-454b-f22f-10f08f3524ea"
   },
   "outputs": [
    {
     "name": "stdout",
     "output_type": "stream",
     "text": [
      "Best score: 0.743\n",
      "Best parameters set:\n",
      "\trfc__bootstrap: False\n",
      "\trfc__criterion: 'gini'\n",
      "\trfc__max_features: 'sqrt'\n",
      "\trfc__n_estimators: 500\n",
      "\ttfidf__norm: 'l2'\n",
      "\tvect__ngram_range: (1, 1)\n"
     ]
    }
   ],
   "source": [
    "print(\"Best score: %0.3f\" % grid_search_rfc.best_score_)\n",
    "print(\"Best parameters set:\")\n",
    "\n",
    "best_parameters_rfc = grid_search_rfc.best_estimator_.get_params()\n",
    "\n",
    "for param_name in sorted(parameters_rfc.keys()):\n",
    "    print(\"\\t%s: %r\" % (param_name, best_parameters_rfc[param_name]))"
   ]
  },
  {
   "cell_type": "code",
   "execution_count": 70,
   "metadata": {
    "id": "5eGerQb7s38e"
   },
   "outputs": [],
   "source": [
    "grid_search_rfc_train = grid_search_rfc.score(train_corpus, train_label_names)\n",
    "grid_search_rfc_valid = grid_search_rfc.score(valid_corpus, valid_label_names)"
   ]
  },
  {
   "cell_type": "code",
   "execution_count": 71,
   "metadata": {
    "colab": {
     "base_uri": "https://localhost:8080/"
    },
    "id": "xmgFuruls38e",
    "outputId": "993a3b67-b595-4603-c60f-8372950a2673"
   },
   "outputs": [
    {
     "name": "stdout",
     "output_type": "stream",
     "text": [
      "Best Random Forest Classifier Train Accuracy: 1.0\n",
      "Best Random Forest Classifier Valid Accuracy: 0.7735077677841373\n"
     ]
    }
   ],
   "source": [
    "print(\"Best Random Forest Classifier Train Accuracy: {}\".format(grid_search_rfc.score(train_corpus, train_label_names)))\n",
    "print(\"Best Random Forest Classifier Valid Accuracy: {}\".format(grid_search_rfc.score(valid_corpus, valid_label_names)))"
   ]
  },
  {
   "cell_type": "markdown",
   "metadata": {
    "id": "5KLKH8fvs38f"
   },
   "source": [
    "### 7. K-Nearest Neighbors Classifier"
   ]
  },
  {
   "cell_type": "code",
   "execution_count": 72,
   "metadata": {
    "id": "_wuK5pxZs38f"
   },
   "outputs": [],
   "source": [
    "text_knn = Pipeline([('vect', CountVectorizer()), ('tfidf', TfidfTransformer()), ('knn', KNeighborsClassifier())])\n",
    "\n",
    "parameters_knn = {\n",
    "    'vect__min_df': [0, 0.1, 0.5],\n",
    "    'vect__max_df': [0.5, 0.75, 1.0],\n",
    "    'vect__max_features': [None, 10000, 50000],\n",
    "    'vect__ngram_range': [(1, 1), (1, 2)],  \n",
    "    'tfidf__use_idf': [True, False],\n",
    "    'tfidf__norm': ['l1', 'l2', None],\n",
    "    'knn__n_neighbors': [10,20, 50, 100],\n",
    "    'knn__algorithm': ['auto', 'ball_tree', 'kd_tree', 'brute'],\n",
    "}"
   ]
  },
  {
   "cell_type": "code",
   "execution_count": 73,
   "metadata": {
    "colab": {
     "base_uri": "https://localhost:8080/"
    },
    "id": "_RA1R4Cws38f",
    "outputId": "48d7b6ae-9b68-41fc-cf72-91fbda2a012d"
   },
   "outputs": [
    {
     "name": "stdout",
     "output_type": "stream",
     "text": [
      "Fitting 3 folds for each of 5184 candidates, totalling 15552 fits\n"
     ]
    },
    {
     "name": "stderr",
     "output_type": "stream",
     "text": [
      "[Parallel(n_jobs=-1)]: Using backend LokyBackend with 2 concurrent workers.\n",
      "[Parallel(n_jobs=-1)]: Done  46 tasks      | elapsed:    5.5s\n",
      "[Parallel(n_jobs=-1)]: Done 196 tasks      | elapsed:   22.0s\n",
      "[Parallel(n_jobs=-1)]: Done 446 tasks      | elapsed:   49.9s\n",
      "[Parallel(n_jobs=-1)]: Done 796 tasks      | elapsed:  1.5min\n",
      "[Parallel(n_jobs=-1)]: Done 1246 tasks      | elapsed:  2.3min\n",
      "[Parallel(n_jobs=-1)]: Done 1796 tasks      | elapsed:  3.4min\n",
      "[Parallel(n_jobs=-1)]: Done 2446 tasks      | elapsed:  4.6min\n",
      "[Parallel(n_jobs=-1)]: Done 3196 tasks      | elapsed:  6.0min\n",
      "[Parallel(n_jobs=-1)]: Done 4046 tasks      | elapsed:  7.6min\n",
      "[Parallel(n_jobs=-1)]: Done 4996 tasks      | elapsed:  9.4min\n",
      "[Parallel(n_jobs=-1)]: Done 6046 tasks      | elapsed: 11.4min\n",
      "[Parallel(n_jobs=-1)]: Done 7196 tasks      | elapsed: 13.6min\n",
      "[Parallel(n_jobs=-1)]: Done 8446 tasks      | elapsed: 16.0min\n",
      "[Parallel(n_jobs=-1)]: Done 9796 tasks      | elapsed: 18.6min\n",
      "[Parallel(n_jobs=-1)]: Done 11246 tasks      | elapsed: 21.4min\n",
      "[Parallel(n_jobs=-1)]: Done 12796 tasks      | elapsed: 24.4min\n",
      "[Parallel(n_jobs=-1)]: Done 14446 tasks      | elapsed: 27.5min\n",
      "[Parallel(n_jobs=-1)]: Done 15552 out of 15552 | elapsed: 29.7min finished\n"
     ]
    },
    {
     "data": {
      "text/plain": [
       "GridSearchCV(cv=3, error_score=nan,\n",
       "             estimator=Pipeline(memory=None,\n",
       "                                steps=[('vect',\n",
       "                                        CountVectorizer(analyzer='word',\n",
       "                                                        binary=False,\n",
       "                                                        decode_error='strict',\n",
       "                                                        dtype=<class 'numpy.int64'>,\n",
       "                                                        encoding='utf-8',\n",
       "                                                        input='content',\n",
       "                                                        lowercase=True,\n",
       "                                                        max_df=1.0,\n",
       "                                                        max_features=None,\n",
       "                                                        min_df=1,\n",
       "                                                        ngram_range=(1, 1),\n",
       "                                                        preprocessor=None,\n",
       "                                                        stop_words=None,\n",
       "                                                        strip_accents=None,\n",
       "                                                        token_pattern='(?u)...\n",
       "             param_grid={'knn__algorithm': ['auto', 'ball_tree', 'kd_tree',\n",
       "                                            'brute'],\n",
       "                         'knn__n_neighbors': [10, 20, 50, 100],\n",
       "                         'tfidf__norm': ['l1', 'l2', None],\n",
       "                         'tfidf__use_idf': [True, False],\n",
       "                         'vect__max_df': [0.5, 0.75, 1.0],\n",
       "                         'vect__max_features': [None, 10000, 50000],\n",
       "                         'vect__min_df': [0, 0.1, 0.5],\n",
       "                         'vect__ngram_range': [(1, 1), (1, 2)]},\n",
       "             pre_dispatch='2*n_jobs', refit=True, return_train_score=False,\n",
       "             scoring=None, verbose=1)"
      ]
     },
     "execution_count": 73,
     "metadata": {
      "tags": []
     },
     "output_type": "execute_result"
    }
   ],
   "source": [
    "grid_search_knn = GridSearchCV(text_knn, parameters_knn, n_jobs=-1, verbose=1, cv=3, refit=True)\n",
    "\n",
    "grid_search_knn.fit(train_corpus, train_label_names)"
   ]
  },
  {
   "cell_type": "code",
   "execution_count": 74,
   "metadata": {
    "colab": {
     "base_uri": "https://localhost:8080/"
    },
    "id": "BWeLlBDIs38f",
    "outputId": "7a97c946-c4ad-45ad-8bcc-ccd1eef6ca3d"
   },
   "outputs": [
    {
     "name": "stdout",
     "output_type": "stream",
     "text": [
      "Best score: 0.738\n",
      "Best parameters set:\n",
      "\tknn__algorithm: 'auto'\n",
      "\tknn__n_neighbors: 20\n",
      "\ttfidf__norm: 'l2'\n",
      "\ttfidf__use_idf: True\n",
      "\tvect__max_df: 0.5\n",
      "\tvect__max_features: None\n",
      "\tvect__min_df: 0\n",
      "\tvect__ngram_range: (1, 1)\n"
     ]
    }
   ],
   "source": [
    "print(\"Best score: %0.3f\" % grid_search_knn.best_score_)\n",
    "print(\"Best parameters set:\")\n",
    "\n",
    "best_parameters_knn = grid_search_knn.best_estimator_.get_params()\n",
    "\n",
    "for param_name in sorted(parameters_knn.keys()):\n",
    "    print(\"\\t%s: %r\" % (param_name, best_parameters_knn[param_name]))"
   ]
  },
  {
   "cell_type": "code",
   "execution_count": 75,
   "metadata": {
    "id": "hQUQLYHus38f"
   },
   "outputs": [],
   "source": [
    "grid_search_knn_train = grid_search_knn.score(train_corpus, train_label_names)\n",
    "grid_search_knn_valid = grid_search_knn.score(valid_corpus, valid_label_names)"
   ]
  },
  {
   "cell_type": "code",
   "execution_count": 76,
   "metadata": {
    "colab": {
     "base_uri": "https://localhost:8080/"
    },
    "id": "8vIFgCJSs38g",
    "outputId": "466191ea-d902-4773-faaf-b6b95cfd497f"
   },
   "outputs": [
    {
     "name": "stdout",
     "output_type": "stream",
     "text": [
      "Best KNN Classifier Train Accuracy: 0.7709299154622307\n",
      "Best KNN Classifier Valid Accuracy: 0.7620605069501226\n"
     ]
    }
   ],
   "source": [
    "print(\"Best KNN Classifier Train Accuracy: {}\".format(grid_search_knn.score(train_corpus, train_label_names)))\n",
    "print(\"Best KNN Classifier Valid Accuracy: {}\".format(grid_search_knn.score(valid_corpus, valid_label_names)))"
   ]
  },
  {
   "cell_type": "markdown",
   "metadata": {
    "id": "0Pbolc2Ls38g"
   },
   "source": [
    "### 8. Ada Boosting Classifier"
   ]
  },
  {
   "cell_type": "code",
   "execution_count": 77,
   "metadata": {
    "id": "B1b8VmrIs38g"
   },
   "outputs": [],
   "source": [
    "text_ada = Pipeline([('vect', CountVectorizer()), ('tfidf', TfidfTransformer()), ('ada', AdaBoostClassifier())])\n",
    "\n",
    "parameters_ada = {\n",
    "    #'vect__min_df': [0.0, 0.1, 0.3, 0.5],\n",
    "    #'vect__max_df': [0.5, 0.75, 1.0],\n",
    "    'vect__ngram_range': [(1, 1), (1, 2)],  \n",
    "    'tfidf__use_idf': [True, False],\n",
    "    'tfidf__norm': ['l1', 'l2', None],\n",
    "    'ada__n_estimators': [100, 200, 500],\n",
    "    'ada__learning_rate': [0.001, 0.01, 0.1, 1, 10],\n",
    "    'ada__algorithm': ['SAMME', 'SAMME.R']\n",
    "}"
   ]
  },
  {
   "cell_type": "code",
   "execution_count": 78,
   "metadata": {
    "colab": {
     "base_uri": "https://localhost:8080/"
    },
    "id": "8IO9V7zns38g",
    "outputId": "cb7a5059-7b10-46d3-a2d8-2f0c8d7346dd"
   },
   "outputs": [
    {
     "name": "stdout",
     "output_type": "stream",
     "text": [
      "Fitting 3 folds for each of 360 candidates, totalling 1080 fits\n"
     ]
    },
    {
     "name": "stderr",
     "output_type": "stream",
     "text": [
      "[Parallel(n_jobs=-1)]: Using backend LokyBackend with 2 concurrent workers.\n",
      "[Parallel(n_jobs=-1)]: Done  46 tasks      | elapsed:   43.3s\n",
      "[Parallel(n_jobs=-1)]: Done 196 tasks      | elapsed:  5.7min\n",
      "[Parallel(n_jobs=-1)]: Done 446 tasks      | elapsed: 13.6min\n",
      "[Parallel(n_jobs=-1)]: Done 796 tasks      | elapsed: 21.7min\n",
      "[Parallel(n_jobs=-1)]: Done 1080 out of 1080 | elapsed: 30.6min finished\n"
     ]
    },
    {
     "data": {
      "text/plain": [
       "GridSearchCV(cv=3, error_score=nan,\n",
       "             estimator=Pipeline(memory=None,\n",
       "                                steps=[('vect',\n",
       "                                        CountVectorizer(analyzer='word',\n",
       "                                                        binary=False,\n",
       "                                                        decode_error='strict',\n",
       "                                                        dtype=<class 'numpy.int64'>,\n",
       "                                                        encoding='utf-8',\n",
       "                                                        input='content',\n",
       "                                                        lowercase=True,\n",
       "                                                        max_df=1.0,\n",
       "                                                        max_features=None,\n",
       "                                                        min_df=1,\n",
       "                                                        ngram_range=(1, 1),\n",
       "                                                        preprocessor=None,\n",
       "                                                        stop_words=None,\n",
       "                                                        strip_accents=None,\n",
       "                                                        token_pattern='(?u)...\n",
       "                                                           random_state=None))],\n",
       "                                verbose=False),\n",
       "             iid='deprecated', n_jobs=-1,\n",
       "             param_grid={'ada__algorithm': ['SAMME', 'SAMME.R'],\n",
       "                         'ada__learning_rate': [0.001, 0.01, 0.1, 1, 10],\n",
       "                         'ada__n_estimators': [100, 200, 500],\n",
       "                         'tfidf__norm': ['l1', 'l2', None],\n",
       "                         'tfidf__use_idf': [True, False],\n",
       "                         'vect__ngram_range': [(1, 1), (1, 2)]},\n",
       "             pre_dispatch='2*n_jobs', refit=True, return_train_score=False,\n",
       "             scoring=None, verbose=1)"
      ]
     },
     "execution_count": 78,
     "metadata": {
      "tags": []
     },
     "output_type": "execute_result"
    }
   ],
   "source": [
    "grid_search_ada = GridSearchCV(text_ada, parameters_ada, n_jobs=-1, verbose=1, cv=3, refit=True)\n",
    "\n",
    "grid_search_ada.fit(train_corpus, train_label_names)"
   ]
  },
  {
   "cell_type": "code",
   "execution_count": 79,
   "metadata": {
    "colab": {
     "base_uri": "https://localhost:8080/"
    },
    "id": "FAFLu6Cqs38g",
    "outputId": "2bdaf468-6904-4637-8b39-0645755e5cfd"
   },
   "outputs": [
    {
     "name": "stdout",
     "output_type": "stream",
     "text": [
      "Best score: 0.712\n",
      "Best parameters set:\n",
      "\tada__algorithm: 'SAMME.R'\n",
      "\tada__learning_rate: 1\n",
      "\tada__n_estimators: 500\n",
      "\ttfidf__norm: None\n",
      "\ttfidf__use_idf: False\n",
      "\tvect__ngram_range: (1, 2)\n"
     ]
    }
   ],
   "source": [
    "print(\"Best score: %0.3f\" % grid_search_ada.best_score_)\n",
    "print(\"Best parameters set:\")\n",
    "\n",
    "best_parameters_ada = grid_search_ada.best_estimator_.get_params()\n",
    "\n",
    "for param_name in sorted(parameters_ada.keys()):\n",
    "    print(\"\\t%s: %r\" % (param_name, best_parameters_ada[param_name]))"
   ]
  },
  {
   "cell_type": "code",
   "execution_count": 80,
   "metadata": {
    "id": "ZiuZz3-2s38h"
   },
   "outputs": [],
   "source": [
    "grid_search_ada_train = grid_search_ada.score(train_corpus, train_label_names)\n",
    "grid_search_ada_valid = grid_search_ada.score(valid_corpus, valid_label_names)"
   ]
  },
  {
   "cell_type": "code",
   "execution_count": 81,
   "metadata": {
    "colab": {
     "base_uri": "https://localhost:8080/"
    },
    "id": "Xk3rJXPbs38h",
    "outputId": "c14aa8ff-540a-48d6-a65c-e9c5745ac276"
   },
   "outputs": [
    {
     "name": "stdout",
     "output_type": "stream",
     "text": [
      "Best Ada Boost Classifier Train Accuracy: 0.7750204526861194\n",
      "Best Ada Boost Classifier Valid Accuracy: 0.713818479149632\n"
     ]
    }
   ],
   "source": [
    "print(\"Best Ada Boost Classifier Train Accuracy: {}\".format(grid_search_ada.score(train_corpus, train_label_names)))\n",
    "print(\"Best Ada Boost Classifier Valid Accuracy: {}\".format(grid_search_ada.score(valid_corpus, valid_label_names)))"
   ]
  },
  {
   "cell_type": "markdown",
   "metadata": {
    "id": "ye682zybs38h"
   },
   "source": [
    "### 9. Gaussin Naive Bayes Classifier"
   ]
  },
  {
   "cell_type": "code",
   "execution_count": 82,
   "metadata": {
    "id": "xQmasWA1s38h"
   },
   "outputs": [],
   "source": [
    "text_gnb = Pipeline([('vect', CountVectorizer()), ('tfidf', TfidfTransformer()), \n",
    "                     ('ftf', FunctionTransformer(lambda x: x.todense(), accept_sparse=True)), ('gnb', GaussianNB())])\n",
    "\n",
    "parameters_gnb = {\n",
    "    'vect__min_df': [0.0, 0.1, 0.3, 0.5],\n",
    "    'vect__max_df': [0.5, 0.75, 1.0],\n",
    "    'vect__ngram_range': [(1, 1), (1, 2)],\n",
    "    'vect__max_features': [None, 10000, 50000],\n",
    "    'tfidf__use_idf': [True, False],\n",
    "    'tfidf__norm': ['l1', 'l2', None],\n",
    "}"
   ]
  },
  {
   "cell_type": "code",
   "execution_count": 83,
   "metadata": {
    "colab": {
     "base_uri": "https://localhost:8080/"
    },
    "id": "UQhmfYGts38i",
    "outputId": "afaf5243-7578-40dd-9c8e-c2653dddc023"
   },
   "outputs": [
    {
     "name": "stdout",
     "output_type": "stream",
     "text": [
      "Fitting 3 folds for each of 432 candidates, totalling 1296 fits\n"
     ]
    },
    {
     "name": "stderr",
     "output_type": "stream",
     "text": [
      "[Parallel(n_jobs=-1)]: Using backend LokyBackend with 2 concurrent workers.\n",
      "[Parallel(n_jobs=-1)]: Done  46 tasks      | elapsed:   12.2s\n",
      "[Parallel(n_jobs=-1)]: Done 196 tasks      | elapsed:   52.3s\n",
      "[Parallel(n_jobs=-1)]: Done 446 tasks      | elapsed:  1.9min\n",
      "[Parallel(n_jobs=-1)]: Done 796 tasks      | elapsed:  3.4min\n",
      "[Parallel(n_jobs=-1)]: Done 1246 tasks      | elapsed:  5.2min\n",
      "[Parallel(n_jobs=-1)]: Done 1296 out of 1296 | elapsed:  5.4min finished\n"
     ]
    },
    {
     "data": {
      "text/plain": [
       "GridSearchCV(cv=3, error_score=nan,\n",
       "             estimator=Pipeline(memory=None,\n",
       "                                steps=[('vect',\n",
       "                                        CountVectorizer(analyzer='word',\n",
       "                                                        binary=False,\n",
       "                                                        decode_error='strict',\n",
       "                                                        dtype=<class 'numpy.int64'>,\n",
       "                                                        encoding='utf-8',\n",
       "                                                        input='content',\n",
       "                                                        lowercase=True,\n",
       "                                                        max_df=1.0,\n",
       "                                                        max_features=None,\n",
       "                                                        min_df=1,\n",
       "                                                        ngram_range=(1, 1),\n",
       "                                                        preprocessor=None,\n",
       "                                                        stop_words=None,\n",
       "                                                        strip_accents=None,\n",
       "                                                        token_pattern='(?u)...\n",
       "                                                   var_smoothing=1e-09))],\n",
       "                                verbose=False),\n",
       "             iid='deprecated', n_jobs=-1,\n",
       "             param_grid={'tfidf__norm': ['l1', 'l2', None],\n",
       "                         'tfidf__use_idf': [True, False],\n",
       "                         'vect__max_df': [0.5, 0.75, 1.0],\n",
       "                         'vect__max_features': [None, 10000, 50000],\n",
       "                         'vect__min_df': [0.0, 0.1, 0.3, 0.5],\n",
       "                         'vect__ngram_range': [(1, 1), (1, 2)]},\n",
       "             pre_dispatch='2*n_jobs', refit=True, return_train_score=False,\n",
       "             scoring=None, verbose=1)"
      ]
     },
     "execution_count": 83,
     "metadata": {
      "tags": []
     },
     "output_type": "execute_result"
    }
   ],
   "source": [
    "grid_search_gnb = GridSearchCV(text_gnb, parameters_gnb, n_jobs=-1, verbose=1, cv=3, refit=True)\n",
    "\n",
    "grid_search_gnb.fit(train_corpus, train_label_names)"
   ]
  },
  {
   "cell_type": "code",
   "execution_count": 84,
   "metadata": {
    "colab": {
     "base_uri": "https://localhost:8080/"
    },
    "id": "fQuT9zyGs38i",
    "outputId": "bd8ececf-c5b0-4ef2-e43d-61747c446bf4"
   },
   "outputs": [
    {
     "name": "stdout",
     "output_type": "stream",
     "text": [
      "Best score: 0.633\n",
      "Best parameters set:\n",
      "\ttfidf__norm: 'l1'\n",
      "\ttfidf__use_idf: False\n",
      "\tvect__max_df: 0.5\n",
      "\tvect__max_features: None\n",
      "\tvect__min_df: 0.0\n",
      "\tvect__ngram_range: (1, 2)\n"
     ]
    }
   ],
   "source": [
    "print(\"Best score: %0.3f\" % grid_search_gnb.best_score_)\n",
    "print(\"Best parameters set:\")\n",
    "\n",
    "best_parameters_gnb = grid_search_gnb.best_estimator_.get_params()\n",
    "\n",
    "for param_name in sorted(parameters_gnb.keys()):\n",
    "    print(\"\\t%s: %r\" % (param_name, best_parameters_gnb[param_name]))"
   ]
  },
  {
   "cell_type": "code",
   "execution_count": 85,
   "metadata": {
    "id": "LSr2tCnIs38i"
   },
   "outputs": [],
   "source": [
    "grid_search_gnb_train = grid_search_gnb.score(train_corpus, train_label_names)\n",
    "grid_search_gnb_valid = grid_search_gnb.score(valid_corpus, valid_label_names)"
   ]
  },
  {
   "cell_type": "code",
   "execution_count": 86,
   "metadata": {
    "colab": {
     "base_uri": "https://localhost:8080/"
    },
    "id": "zeFU1Sqbs38i",
    "outputId": "040e37d5-8423-4822-ba3f-b3d117c4c807"
   },
   "outputs": [
    {
     "name": "stdout",
     "output_type": "stream",
     "text": [
      "Best Gaussian Naive Bayes Classifier Train Accuracy: 0.9956367602945186\n",
      "Best Gaussian Naive Bayes Classifier Valid Accuracy: 0.6238757154538022\n"
     ]
    }
   ],
   "source": [
    "print(\"Best Gaussian Naive Bayes Classifier Train Accuracy: {}\".format(grid_search_gnb.score(train_corpus, train_label_names)))\n",
    "print(\"Best Gaussian Naive Bayes Classifier Valid Accuracy: {}\".format(grid_search_gnb.score(valid_corpus, valid_label_names)))"
   ]
  },
  {
   "cell_type": "markdown",
   "metadata": {
    "id": "LJcf_z1xs38i"
   },
   "source": [
    "### 10. Gradient Boosting Classifier"
   ]
  },
  {
   "cell_type": "code",
   "execution_count": 87,
   "metadata": {
    "id": "l2jP4m0Vs38j"
   },
   "outputs": [],
   "source": [
    "text_grd = Pipeline([('vect', CountVectorizer()), ('tfidf', TfidfTransformer()), ('grd', GradientBoostingClassifier())])\n",
    "\n",
    "parameters_grd = {\n",
    "    #'vect__min_df': [0.0, 0.1],\n",
    "    #'vect__max_df': [0.5, 1.0],\n",
    "    'vect__ngram_range': [(1, 1), (1, 2)],  \n",
    "    'tfidf__use_idf': [True, False],\n",
    "    'tfidf__norm': ['l1', 'l2'],\n",
    "    'grd__n_estimators': [100, 200, 500],\n",
    "    'grd__learning_rate': [0.001, 0.01, 0.1],\n",
    "    'grd__loss': ['deviance', 'exponential']\n",
    "}"
   ]
  },
  {
   "cell_type": "code",
   "execution_count": 88,
   "metadata": {
    "colab": {
     "base_uri": "https://localhost:8080/"
    },
    "id": "DEAbGKjbs38j",
    "outputId": "fd50b9c3-a8be-4f08-b2eb-f17039ce8906"
   },
   "outputs": [
    {
     "name": "stdout",
     "output_type": "stream",
     "text": [
      "Fitting 3 folds for each of 144 candidates, totalling 432 fits\n"
     ]
    },
    {
     "name": "stderr",
     "output_type": "stream",
     "text": [
      "[Parallel(n_jobs=-1)]: Using backend LokyBackend with 2 concurrent workers.\n",
      "[Parallel(n_jobs=-1)]: Done  46 tasks      | elapsed:  4.3min\n",
      "[Parallel(n_jobs=-1)]: Done 196 tasks      | elapsed: 17.8min\n",
      "[Parallel(n_jobs=-1)]: Done 432 out of 432 | elapsed: 34.7min finished\n"
     ]
    },
    {
     "data": {
      "text/plain": [
       "GridSearchCV(cv=3, error_score=nan,\n",
       "             estimator=Pipeline(memory=None,\n",
       "                                steps=[('vect',\n",
       "                                        CountVectorizer(analyzer='word',\n",
       "                                                        binary=False,\n",
       "                                                        decode_error='strict',\n",
       "                                                        dtype=<class 'numpy.int64'>,\n",
       "                                                        encoding='utf-8',\n",
       "                                                        input='content',\n",
       "                                                        lowercase=True,\n",
       "                                                        max_df=1.0,\n",
       "                                                        max_features=None,\n",
       "                                                        min_df=1,\n",
       "                                                        ngram_range=(1, 1),\n",
       "                                                        preprocessor=None,\n",
       "                                                        stop_words=None,\n",
       "                                                        strip_accents=None,\n",
       "                                                        token_pattern='(?u)...\n",
       "                                                                   warm_start=False))],\n",
       "                                verbose=False),\n",
       "             iid='deprecated', n_jobs=-1,\n",
       "             param_grid={'grd__learning_rate': [0.001, 0.01, 0.1],\n",
       "                         'grd__loss': ['deviance', 'exponential'],\n",
       "                         'grd__n_estimators': [100, 200, 500],\n",
       "                         'tfidf__norm': ['l1', 'l2'],\n",
       "                         'tfidf__use_idf': [True, False],\n",
       "                         'vect__ngram_range': [(1, 1), (1, 2)]},\n",
       "             pre_dispatch='2*n_jobs', refit=True, return_train_score=False,\n",
       "             scoring=None, verbose=1)"
      ]
     },
     "execution_count": 88,
     "metadata": {
      "tags": []
     },
     "output_type": "execute_result"
    }
   ],
   "source": [
    "grid_search_grd = GridSearchCV(text_grd, parameters_grd, n_jobs=-1, verbose=1, cv=3, refit=True)\n",
    "\n",
    "grid_search_grd.fit(train_corpus, train_label_names)"
   ]
  },
  {
   "cell_type": "code",
   "execution_count": 89,
   "metadata": {
    "colab": {
     "base_uri": "https://localhost:8080/"
    },
    "id": "cHYMFvCJs38j",
    "outputId": "1cb97d49-62d4-4cf0-8e9b-19a9ec73045f"
   },
   "outputs": [
    {
     "name": "stdout",
     "output_type": "stream",
     "text": [
      "Best score: 0.740\n",
      "Best parameters set:\n",
      "\tgrd__learning_rate: 0.1\n",
      "\tgrd__loss: 'deviance'\n",
      "\tgrd__n_estimators: 500\n",
      "\ttfidf__norm: 'l2'\n",
      "\ttfidf__use_idf: False\n",
      "\tvect__ngram_range: (1, 1)\n"
     ]
    }
   ],
   "source": [
    "print(\"Best score: %0.3f\" % grid_search_grd.best_score_)\n",
    "print(\"Best parameters set:\")\n",
    "\n",
    "best_parameters_grd = grid_search_grd.best_estimator_.get_params()\n",
    "\n",
    "for param_name in sorted(parameters_grd.keys()):\n",
    "    print(\"\\t%s: %r\" % (param_name, best_parameters_grd[param_name]))"
   ]
  },
  {
   "cell_type": "code",
   "execution_count": 90,
   "metadata": {
    "id": "EmL0kJBvs38j"
   },
   "outputs": [],
   "source": [
    "grid_search_grd_train = grid_search_grd.score(train_corpus, train_label_names)\n",
    "grid_search_grd_valid = grid_search_grd.score(valid_corpus, valid_label_names)"
   ]
  },
  {
   "cell_type": "code",
   "execution_count": 91,
   "metadata": {
    "colab": {
     "base_uri": "https://localhost:8080/"
    },
    "id": "Q_KZ1G_Ps38k",
    "outputId": "f1b4e904-52c0-4d03-f6e8-7f0695cfb1ce"
   },
   "outputs": [
    {
     "name": "stdout",
     "output_type": "stream",
     "text": [
      "Best Gradient Boost Classifier Train Accuracy: 0.9010089991818926\n",
      "Best Gradient Boost Classifier Valid Accuracy: 0.7612428454619787\n"
     ]
    }
   ],
   "source": [
    "print(\"Best Gradient Boost Classifier Train Accuracy: {}\".format(grid_search_grd.score(train_corpus, train_label_names)))\n",
    "print(\"Best Gradient Boost Classifier Valid Accuracy: {}\".format(grid_search_grd.score(valid_corpus, valid_label_names)))"
   ]
  },
  {
   "cell_type": "markdown",
   "metadata": {
    "id": "umt81rmis38k"
   },
   "source": [
    "### 11. Voting Classifier "
   ]
  },
  {
   "cell_type": "code",
   "execution_count": 100,
   "metadata": {
    "id": "toN4Pn68s38l"
   },
   "outputs": [],
   "source": [
    "text_voting = Pipeline([('vect', CountVectorizer()), ('tfidf', TfidfTransformer()), ('voting', VotingClassifier\n",
    "                    (estimators=[('log', LogisticRegression(C=200, penalty='l1', solver='liblinear')), \n",
    "                                 ('svc', SVC(kernel='linear', C=10, probability=True)), \n",
    "                                 ('sgd', SGDClassifier(alpha=0.00001, loss='log', penalty='l2')), \n",
    "                                 ('grd', GradientBoostingClassifier(learning_rate=0.1, loss='deviance', n_estimators=500)), \n",
    "                                 ('rfc', RandomForestClassifier(bootstrap=False, criterion = 'gini', max_features='sqrt'))]))])\n",
    "\n",
    "parameters_voting = {\n",
    "    'vect__min_df': [0.0, 0.1, 0.2],\n",
    "    'vect__max_df': [0.5, 0.75, 1],\n",
    "    'vect__ngram_range': [(1, 1), (1, 2)],  \n",
    "    'tfidf__use_idf': [True, False],\n",
    "    'tfidf__norm': ['l1', 'l2'],\n",
    "    'voting__voting': ['hard', 'soft']\n",
    "}"
   ]
  },
  {
   "cell_type": "code",
   "execution_count": 101,
   "metadata": {
    "colab": {
     "base_uri": "https://localhost:8080/"
    },
    "id": "SJ19vR_Ys38l",
    "outputId": "e6c30f37-eef0-4d84-9810-5b8de3d3ecbd"
   },
   "outputs": [
    {
     "name": "stdout",
     "output_type": "stream",
     "text": [
      "Fitting 3 folds for each of 144 candidates, totalling 432 fits\n"
     ]
    },
    {
     "name": "stderr",
     "output_type": "stream",
     "text": [
      "[Parallel(n_jobs=-1)]: Using backend LokyBackend with 2 concurrent workers.\n",
      "[Parallel(n_jobs=-1)]: Done  46 tasks      | elapsed:  8.9min\n",
      "[Parallel(n_jobs=-1)]: Done 196 tasks      | elapsed: 27.9min\n",
      "[Parallel(n_jobs=-1)]: Done 432 out of 432 | elapsed: 59.0min finished\n"
     ]
    },
    {
     "data": {
      "text/plain": [
       "GridSearchCV(cv=3, error_score=nan,\n",
       "             estimator=Pipeline(memory=None,\n",
       "                                steps=[('vect',\n",
       "                                        CountVectorizer(analyzer='word',\n",
       "                                                        binary=False,\n",
       "                                                        decode_error='strict',\n",
       "                                                        dtype=<class 'numpy.int64'>,\n",
       "                                                        encoding='utf-8',\n",
       "                                                        input='content',\n",
       "                                                        lowercase=True,\n",
       "                                                        max_df=1.0,\n",
       "                                                        max_features=None,\n",
       "                                                        min_df=1,\n",
       "                                                        ngram_range=(1, 1),\n",
       "                                                        preprocessor=None,\n",
       "                                                        stop_words=None,\n",
       "                                                        strip_accents=None,\n",
       "                                                        token_pattern='(?u)...\n",
       "                                                         n_jobs=None,\n",
       "                                                         voting='hard',\n",
       "                                                         weights=None))],\n",
       "                                verbose=False),\n",
       "             iid='deprecated', n_jobs=-1,\n",
       "             param_grid={'tfidf__norm': ['l1', 'l2'],\n",
       "                         'tfidf__use_idf': [True, False],\n",
       "                         'vect__max_df': [0.5, 0.75, 1],\n",
       "                         'vect__min_df': [0.0, 0.1, 0.2],\n",
       "                         'vect__ngram_range': [(1, 1), (1, 2)],\n",
       "                         'voting__voting': ['hard', 'soft']},\n",
       "             pre_dispatch='2*n_jobs', refit=True, return_train_score=False,\n",
       "             scoring=None, verbose=1)"
      ]
     },
     "execution_count": 101,
     "metadata": {
      "tags": []
     },
     "output_type": "execute_result"
    }
   ],
   "source": [
    "grid_search_voting = GridSearchCV(text_voting, parameters_voting, n_jobs=-1, verbose=1, cv=3, refit=True)\n",
    "\n",
    "grid_search_voting.fit(train_corpus, train_label_names)"
   ]
  },
  {
   "cell_type": "code",
   "execution_count": 102,
   "metadata": {
    "colab": {
     "base_uri": "https://localhost:8080/"
    },
    "id": "Ky8PjuzLs38m",
    "outputId": "cfbd24e2-1d54-4ed1-aa94-a0cc3365d992"
   },
   "outputs": [
    {
     "name": "stdout",
     "output_type": "stream",
     "text": [
      "Best score: 0.763\n",
      "Best parameters set:\n",
      "\ttfidf__norm: 'l2'\n",
      "\ttfidf__use_idf: True\n",
      "\tvect__max_df: 0.5\n",
      "\tvect__min_df: 0.0\n",
      "\tvect__ngram_range: (1, 2)\n",
      "\tvoting__voting: 'hard'\n"
     ]
    }
   ],
   "source": [
    "print(\"Best score: %0.3f\" % grid_search_voting.best_score_)\n",
    "print(\"Best parameters set:\")\n",
    "\n",
    "best_parameters_voting = grid_search_voting.best_estimator_.get_params()\n",
    "\n",
    "for param_name in sorted(parameters_voting.keys()):\n",
    "    print(\"\\t%s: %r\" % (param_name, best_parameters_voting[param_name]))"
   ]
  },
  {
   "cell_type": "code",
   "execution_count": 103,
   "metadata": {
    "id": "y8NmqERGs38m"
   },
   "outputs": [],
   "source": [
    "grid_search_voting_train = grid_search_voting.score(train_corpus, train_label_names)\n",
    "grid_search_voting_valid = grid_search_voting.score(valid_corpus, valid_label_names)"
   ]
  },
  {
   "cell_type": "code",
   "execution_count": 104,
   "metadata": {
    "colab": {
     "base_uri": "https://localhost:8080/"
    },
    "id": "qN-UsxFqs38m",
    "outputId": "9a4ca330-61f4-4944-e728-876780256933"
   },
   "outputs": [
    {
     "name": "stdout",
     "output_type": "stream",
     "text": [
      "Best Voting Classifier Train Accuracy: 1.0\n",
      "Best Voting Classifier Valid Accuracy: 0.7931316434995912\n"
     ]
    }
   ],
   "source": [
    "print(\"Best Voting Classifier Train Accuracy: {}\".format(grid_search_voting.score(train_corpus, train_label_names)))\n",
    "print(\"Best Voting Classifier Valid Accuracy: {}\".format(grid_search_voting.score(valid_corpus, valid_label_names)))"
   ]
  },
  {
   "cell_type": "markdown",
   "metadata": {
    "id": "IWvJAetvs38m"
   },
   "source": [
    "# Scores"
   ]
  },
  {
   "cell_type": "code",
   "execution_count": 105,
   "metadata": {
    "id": "6BVyrxVDs38n"
   },
   "outputs": [],
   "source": [
    "models_scores = pd.DataFrame([['Multinomial Naive Bayes', grid_search_mnb_train, grid_search_mnb_valid,],  \n",
    "                              ['Gaussian Naive Bayes', grid_search_gnb_train, grid_search_gnb_valid,],\n",
    "                              ['Logitic Regression', grid_search_log_train, grid_search_log_valid,],\n",
    "                              ['Reduced Logistic Regression', grid_search_reduced_log_train, grid_search_reduced_log_valid,], \n",
    "                              ['K-Neighrest Neighbors', grid_search_knn_train, grid_search_knn_valid,],\n",
    "                              ['Support Vector Classifier', grid_search_svc_train, grid_search_svc_valid,],\n",
    "                              ['Stochastic Gradient Descent', grid_search_sgd_train, grid_search_sgd_valid,],\n",
    "                              ['Random Foreset Classifier', grid_search_rfc_train, grid_search_rfc_valid,],\n",
    "                              ['Ada Boosting Classifier', grid_search_ada_train, grid_search_ada_valid,],\n",
    "                              ['Gradient Boosting Classifier', grid_search_grd_train, grid_search_grd_valid,],\n",
    "                              ['Voting Classifier', grid_search_voting_train, grid_search_voting_valid,]],\n",
    "                columns=['Model', 'Train Score (TF)', 'Validation Score (TF)'])"
   ]
  },
  {
   "cell_type": "code",
   "execution_count": 106,
   "metadata": {
    "colab": {
     "base_uri": "https://localhost:8080/",
     "height": 373
    },
    "id": "7HHbj1yps38n",
    "outputId": "fdfdac50-b7db-49d1-a00a-74118fa1afbe"
   },
   "outputs": [
    {
     "data": {
      "text/html": [
       "<div>\n",
       "<style scoped>\n",
       "    .dataframe tbody tr th:only-of-type {\n",
       "        vertical-align: middle;\n",
       "    }\n",
       "\n",
       "    .dataframe tbody tr th {\n",
       "        vertical-align: top;\n",
       "    }\n",
       "\n",
       "    .dataframe thead th {\n",
       "        text-align: right;\n",
       "    }\n",
       "</style>\n",
       "<table border=\"1\" class=\"dataframe\">\n",
       "  <thead>\n",
       "    <tr style=\"text-align: right;\">\n",
       "      <th></th>\n",
       "      <th>Model</th>\n",
       "      <th>Train Score (TF)</th>\n",
       "      <th>Validation Score (TF)</th>\n",
       "    </tr>\n",
       "  </thead>\n",
       "  <tbody>\n",
       "    <tr>\n",
       "      <th>0</th>\n",
       "      <td>Multinomial Naive Bayes</td>\n",
       "      <td>0.621489</td>\n",
       "      <td>0.621423</td>\n",
       "    </tr>\n",
       "    <tr>\n",
       "      <th>1</th>\n",
       "      <td>Gaussian Naive Bayes</td>\n",
       "      <td>0.995637</td>\n",
       "      <td>0.623876</td>\n",
       "    </tr>\n",
       "    <tr>\n",
       "      <th>2</th>\n",
       "      <td>Logitic Regression</td>\n",
       "      <td>1.000000</td>\n",
       "      <td>0.786590</td>\n",
       "    </tr>\n",
       "    <tr>\n",
       "      <th>3</th>\n",
       "      <td>Reduced Logistic Regression</td>\n",
       "      <td>0.988546</td>\n",
       "      <td>0.644317</td>\n",
       "    </tr>\n",
       "    <tr>\n",
       "      <th>4</th>\n",
       "      <td>K-Neighrest Neighbors</td>\n",
       "      <td>0.770930</td>\n",
       "      <td>0.762061</td>\n",
       "    </tr>\n",
       "    <tr>\n",
       "      <th>5</th>\n",
       "      <td>Support Vector Classifier</td>\n",
       "      <td>1.000000</td>\n",
       "      <td>0.792314</td>\n",
       "    </tr>\n",
       "    <tr>\n",
       "      <th>6</th>\n",
       "      <td>Stochastic Gradient Descent</td>\n",
       "      <td>1.000000</td>\n",
       "      <td>0.789861</td>\n",
       "    </tr>\n",
       "    <tr>\n",
       "      <th>7</th>\n",
       "      <td>Random Foreset Classifier</td>\n",
       "      <td>1.000000</td>\n",
       "      <td>0.773508</td>\n",
       "    </tr>\n",
       "    <tr>\n",
       "      <th>8</th>\n",
       "      <td>Ada Boosting Classifier</td>\n",
       "      <td>0.775020</td>\n",
       "      <td>0.713818</td>\n",
       "    </tr>\n",
       "    <tr>\n",
       "      <th>9</th>\n",
       "      <td>Gradient Boosting Classifier</td>\n",
       "      <td>0.901009</td>\n",
       "      <td>0.761243</td>\n",
       "    </tr>\n",
       "    <tr>\n",
       "      <th>10</th>\n",
       "      <td>Voting Classifier</td>\n",
       "      <td>1.000000</td>\n",
       "      <td>0.793132</td>\n",
       "    </tr>\n",
       "  </tbody>\n",
       "</table>\n",
       "</div>"
      ],
      "text/plain": [
       "                           Model  Train Score (TF)  Validation Score (TF)\n",
       "0        Multinomial Naive Bayes          0.621489               0.621423\n",
       "1           Gaussian Naive Bayes          0.995637               0.623876\n",
       "2             Logitic Regression          1.000000               0.786590\n",
       "3    Reduced Logistic Regression          0.988546               0.644317\n",
       "4          K-Neighrest Neighbors          0.770930               0.762061\n",
       "5      Support Vector Classifier          1.000000               0.792314\n",
       "6    Stochastic Gradient Descent          1.000000               0.789861\n",
       "7      Random Foreset Classifier          1.000000               0.773508\n",
       "8        Ada Boosting Classifier          0.775020               0.713818\n",
       "9   Gradient Boosting Classifier          0.901009               0.761243\n",
       "10             Voting Classifier          1.000000               0.793132"
      ]
     },
     "execution_count": 106,
     "metadata": {
      "tags": []
     },
     "output_type": "execute_result"
    }
   ],
   "source": [
    "models_scores"
   ]
  },
  {
   "cell_type": "markdown",
   "metadata": {
    "id": "vTUGVZnSs38n"
   },
   "source": [
    "# Saving the Models"
   ]
  },
  {
   "cell_type": "code",
   "execution_count": null,
   "metadata": {
    "id": "8tJ8OqtBs38n"
   },
   "outputs": [],
   "source": [
    "# joblib.dump(grid_search_mnb, 'grid_search_mnb.pkl')\n",
    "# joblib.dump(grid_search_log, 'grid_search_log.pkl')\n",
    "# joblib.dump(grid_search_gnb, 'grid_search_gnb.pkl')\n",
    "# joblib.dump(grid_search_log_reduced, 'grid_search_log_reduced.pkl')\n",
    "# joblib.dump(grid_search_knn, 'grid_search_knn.pkl')\n",
    "# joblib.dump(grid_search_svc, 'grid_search_svc.pkl')\n",
    "# joblib.dump(grid_search_sgd, 'grid_search_sgd.pkl')\n",
    "# joblib.dump(grid_search_rfc, 'grid_search_rfc.pkl')\n",
    "# joblib.dump(grid_search_ada, 'grid_search_ada.pkl')\n",
    "# joblib.dump(grid_search_grd, 'grid_search_grd.pkl')\n",
    "# joblib.dump(grid_search_voting, 'grid_search_voting.pkl')"
   ]
  },
  {
   "cell_type": "markdown",
   "metadata": {
    "id": "ZJ65Mzirs38n"
   },
   "source": [
    "# Retraining the Best Models"
   ]
  },
  {
   "cell_type": "markdown",
   "metadata": {
    "id": "TS4vfpYQs38o"
   },
   "source": [
    "#### Concentrating the Training and Validation Sets. The model will be Tested on the Testing Set"
   ]
  },
  {
   "cell_type": "code",
   "execution_count": 107,
   "metadata": {
    "id": "iYo8Lpnrs38o"
   },
   "outputs": [],
   "source": [
    "train_corpus_updated = np.concatenate((train_corpus, valid_corpus))\n",
    "train_label_updated = np.concatenate((train_label_names, valid_label_names))"
   ]
  },
  {
   "cell_type": "markdown",
   "metadata": {
    "id": "ql1LSAyns38o"
   },
   "source": [
    "#### Building the Pipeline"
   ]
  },
  {
   "cell_type": "markdown",
   "metadata": {
    "id": "7yL33xXCs38o"
   },
   "source": [
    "Ideally, we should have included the GridSearch.best_estimaror_ object in our pipelines, but for some reason it wasn't working. Instead, we recreated the models using the optimal hyperparameters"
   ]
  },
  {
   "cell_type": "code",
   "execution_count": 131,
   "metadata": {
    "id": "M_EDe_R6s38o"
   },
   "outputs": [],
   "source": [
    "pipeline_mnb = grid_search_mnb.best_estimator_\n",
    "\n",
    "pipeline_log = grid_search_log.best_estimator_\n",
    "\n",
    "pipeline_svc = grid_search_svc.best_estimator_\n",
    "\n",
    "pipeline_sgd = grid_search_sgd.best_estimator_\n",
    "\n",
    "pipeline_rfc = grid_search_rfc.best_estimator_\n",
    "\n",
    "pipeline_knn = grid_search_knn.best_estimator_\n",
    "\n",
    "pipeline_ada = grid_search_ada.best_estimator_\n",
    "\n",
    "pipeline_gnb = grid_search_gnb.best_estimator_\n",
    "\n",
    "pipeline_grd = grid_search_grd.best_estimator_\n",
    "\n",
    "pipeline_voting = grid_search_voting.best_estimator_"
   ]
  },
  {
   "cell_type": "code",
   "execution_count": 133,
   "metadata": {
    "id": "SISB6tbBs38p"
   },
   "outputs": [],
   "source": [
    "pipelines = [pipeline_mnb, pipeline_log, pipeline_svc, pipeline_sgd, pipeline_rfc, pipeline_knn, pipeline_ada, \n",
    "             pipeline_grd, pipeline_gnb, pipeline_voting]\n",
    "\n",
    "pipe_dict = {0: 'Multinomial Naive Bayes', 1: 'Logistic Regression', 2: 'Support Vector Classifier', 3:'SGD Classifier',\n",
    "             4: 'Random Forest Classifier', 5: 'KNeighbors Classifier', 6: 'Ada Boost Classifier',\n",
    "             7: 'Gradient Boosting Classifier', 8: 'Gaussian Naive Bayes', 9: 'Voting Classifier'}"
   ]
  },
  {
   "cell_type": "markdown",
   "metadata": {
    "id": "bBixJqJGs38p"
   },
   "source": [
    "### Fitting and Scoring the Models"
   ]
  },
  {
   "cell_type": "code",
   "execution_count": 134,
   "metadata": {
    "id": "gB4GGx-ps38p"
   },
   "outputs": [],
   "source": [
    "for pipe in pipelines:\n",
    "    pipe.fit(train_corpus_updated, train_label_updated)"
   ]
  },
  {
   "cell_type": "code",
   "execution_count": 135,
   "metadata": {
    "colab": {
     "base_uri": "https://localhost:8080/"
    },
    "id": "BAuevhubs38p",
    "outputId": "8ac06094-6bcd-4cdf-cb12-6d1d0e6e0acd"
   },
   "outputs": [
    {
     "name": "stdout",
     "output_type": "stream",
     "text": [
      "Multinomial Naive Bayes Train Accuracy:0.6214723926380368\n",
      "Logistic Regression Train Accuracy:1.0\n",
      "Support Vector Classifier Train Accuracy:0.9997955010224949\n",
      "SGD Classifier Train Accuracy:0.9991820040899796\n",
      "Random Forest Classifier Train Accuracy:1.0\n",
      "KNeighbors Classifier Train Accuracy:0.7715746421267894\n",
      "Ada Boost Classifier Train Accuracy:0.7820040899795501\n",
      "Gradient Boosting Classifier Train Accuracy:0.8813905930470347\n",
      "Gaussian Naive Bayes Train Accuracy:0.9957055214723927\n",
      "Voting Classifier Train Accuracy:1.0\n"
     ]
    }
   ],
   "source": [
    "for i,model in enumerate(pipelines):\n",
    "    print(\"{} Train Accuracy:{}\".format(pipe_dict[i], model.score(train_corpus_updated, train_label_updated)))"
   ]
  },
  {
   "cell_type": "code",
   "execution_count": 143,
   "metadata": {
    "colab": {
     "base_uri": "https://localhost:8080/"
    },
    "id": "aV6Q2MrUs38p",
    "outputId": "5f6ea557-ba72-4c5d-d71e-e3c5cc8902ab"
   },
   "outputs": [
    {
     "name": "stdout",
     "output_type": "stream",
     "text": [
      "Multinomial Naive Bayes Test Accuracy:0.6215277777777778\n",
      "Logistic Regression Test Accuracy:0.7974537037037037\n",
      "Support Vector Classifier Test Accuracy:0.7951388888888888\n",
      "SGD Classifier Test Accuracy:0.7986111111111112\n",
      "Random Forest Classifier Test Accuracy:0.7881944444444444\n",
      "KNeighbors Classifier Test Accuracy:0.7511574074074074\n",
      "Ada Boost Classifier Test Accuracy:0.7442129629629629\n",
      "Gradient Boosting Classifier Test Accuracy:0.7870370370370371\n",
      "Gaussian Naive Bayes Test Accuracy:0.6608796296296297\n",
      "Voting Classifier Test Accuracy:0.9988425925925926\n"
     ]
    }
   ],
   "source": [
    "for i,model in enumerate(pipelines):\n",
    "    print(\"{} Test Accuracy:{}\".format(pipe_dict[i], model.score(test_corpus, test_label_names)))"
   ]
  },
  {
   "cell_type": "markdown",
   "metadata": {
    "id": "Jer-E3iSCWBa"
   },
   "source": [
    "### Confusion Matrices"
   ]
  },
  {
   "cell_type": "code",
   "execution_count": 139,
   "metadata": {
    "colab": {
     "base_uri": "https://localhost:8080/"
    },
    "id": "JPq0JTccCZGT",
    "outputId": "51734b26-b61a-4c5f-f9ed-78b8deada170"
   },
   "outputs": [
    {
     "name": "stdout",
     "output_type": "stream",
     "text": [
      "Multinomial Naive Bayes  Test Confusion Matrix: \n",
      "  [[  0   0 257]\n",
      " [  0   0  70]\n",
      " [  0   0 537]] \n",
      "\n",
      "Logistic Regression  Test Confusion Matrix: \n",
      "  [[164   8  85]\n",
      " [ 23  21  26]\n",
      " [ 28   5 504]] \n",
      "\n",
      "Support Vector Classifier  Test Confusion Matrix: \n",
      "  [[168   7  82]\n",
      " [ 28  21  21]\n",
      " [ 36   3 498]] \n",
      "\n",
      "SGD Classifier  Test Confusion Matrix: \n",
      "  [[173   8  76]\n",
      " [ 25  25  20]\n",
      " [ 41   4 492]] \n",
      "\n",
      "Random Forest Classifier  Test Confusion Matrix: \n",
      "  [[166   6  85]\n",
      " [ 25  20  25]\n",
      " [ 38   4 495]] \n",
      "\n",
      "KNeighbors Classifier  Test Confusion Matrix: \n",
      "  [[130   0 127]\n",
      " [ 23   7  40]\n",
      " [ 24   1 512]] \n",
      "\n",
      "Ada Boost Classifier  Test Confusion Matrix: \n",
      "  [[133   4 120]\n",
      " [ 23  20  27]\n",
      " [ 45   2 490]] \n",
      "\n",
      "Gradient Boosting Classifier  Test Confusion Matrix: \n",
      "  [[139   7 111]\n",
      " [ 19  21  30]\n",
      " [ 13   4 520]] \n",
      "\n",
      "Gaussian Naive Bayes  Test Confusion Matrix: \n",
      "  [[158  42  57]\n",
      " [ 22  26  22]\n",
      " [ 95  55 387]] \n",
      "\n",
      "Voting Classifier  Test Confusion Matrix: \n",
      "  [[171   4  82]\n",
      " [ 31  20  19]\n",
      " [ 30   3 504]] \n",
      "\n"
     ]
    }
   ],
   "source": [
    "for i,model in enumerate(pipelines):\n",
    "    print(pipe_dict[i],\" Test Confusion Matrix: \\n \", confusion_matrix(y_true = test_label_names, \n",
    "                                                                              y_pred = model.predict(test_corpus)), '\\n')"
   ]
  },
  {
   "cell_type": "markdown",
   "metadata": {
    "id": "VsgGKU5FDkcS"
   },
   "source": [
    "### Classification Reports"
   ]
  },
  {
   "cell_type": "code",
   "execution_count": 140,
   "metadata": {
    "colab": {
     "base_uri": "https://localhost:8080/"
    },
    "id": "ibyK617tDnV4",
    "outputId": "8a9cda15-b7ef-46ae-bee3-16f60ec953a9"
   },
   "outputs": [
    {
     "name": "stdout",
     "output_type": "stream",
     "text": [
      "Multinomial Naive Bayes  Classification Report: \n",
      "                precision    recall  f1-score   support\n",
      "\n",
      "     abusive       0.00      0.00      0.00       257\n",
      "        hate       0.00      0.00      0.00        70\n",
      "      normal       0.62      1.00      0.77       537\n",
      "\n",
      "    accuracy                           0.62       864\n",
      "   macro avg       0.21      0.33      0.26       864\n",
      "weighted avg       0.39      0.62      0.48       864\n",
      " \n",
      "\n",
      "Logistic Regression  Classification Report: \n",
      "                precision    recall  f1-score   support\n",
      "\n",
      "     abusive       0.76      0.64      0.69       257\n",
      "        hate       0.62      0.30      0.40        70\n",
      "      normal       0.82      0.94      0.88       537\n",
      "\n",
      "    accuracy                           0.80       864\n",
      "   macro avg       0.73      0.63      0.66       864\n",
      "weighted avg       0.79      0.80      0.78       864\n",
      " \n",
      "\n",
      "Support Vector Classifier  Classification Report: \n",
      "                precision    recall  f1-score   support\n",
      "\n",
      "     abusive       0.72      0.65      0.69       257\n",
      "        hate       0.68      0.30      0.42        70\n",
      "      normal       0.83      0.93      0.88       537\n",
      "\n",
      "    accuracy                           0.80       864\n",
      "   macro avg       0.74      0.63      0.66       864\n",
      "weighted avg       0.79      0.80      0.78       864\n",
      " \n",
      "\n",
      "SGD Classifier  Classification Report: \n",
      "                precision    recall  f1-score   support\n",
      "\n",
      "     abusive       0.72      0.67      0.70       257\n",
      "        hate       0.68      0.36      0.47        70\n",
      "      normal       0.84      0.92      0.87       537\n",
      "\n",
      "    accuracy                           0.80       864\n",
      "   macro avg       0.75      0.65      0.68       864\n",
      "weighted avg       0.79      0.80      0.79       864\n",
      " \n",
      "\n",
      "Random Forest Classifier  Classification Report: \n",
      "                precision    recall  f1-score   support\n",
      "\n",
      "     abusive       0.72      0.65      0.68       257\n",
      "        hate       0.67      0.29      0.40        70\n",
      "      normal       0.82      0.92      0.87       537\n",
      "\n",
      "    accuracy                           0.79       864\n",
      "   macro avg       0.74      0.62      0.65       864\n",
      "weighted avg       0.78      0.79      0.77       864\n",
      " \n",
      "\n",
      "KNeighbors Classifier  Classification Report: \n",
      "                precision    recall  f1-score   support\n",
      "\n",
      "     abusive       0.73      0.51      0.60       257\n",
      "        hate       0.88      0.10      0.18        70\n",
      "      normal       0.75      0.95      0.84       537\n",
      "\n",
      "    accuracy                           0.75       864\n",
      "   macro avg       0.79      0.52      0.54       864\n",
      "weighted avg       0.76      0.75      0.72       864\n",
      " \n",
      "\n",
      "Ada Boost Classifier  Classification Report: \n",
      "                precision    recall  f1-score   support\n",
      "\n",
      "     abusive       0.66      0.52      0.58       257\n",
      "        hate       0.77      0.29      0.42        70\n",
      "      normal       0.77      0.91      0.83       537\n",
      "\n",
      "    accuracy                           0.74       864\n",
      "   macro avg       0.73      0.57      0.61       864\n",
      "weighted avg       0.74      0.74      0.73       864\n",
      " \n",
      "\n",
      "Gradient Boosting Classifier  Classification Report: \n",
      "                precision    recall  f1-score   support\n",
      "\n",
      "     abusive       0.81      0.54      0.65       257\n",
      "        hate       0.66      0.30      0.41        70\n",
      "      normal       0.79      0.97      0.87       537\n",
      "\n",
      "    accuracy                           0.79       864\n",
      "   macro avg       0.75      0.60      0.64       864\n",
      "weighted avg       0.78      0.79      0.77       864\n",
      " \n",
      "\n",
      "Gaussian Naive Bayes  Classification Report: \n",
      "                precision    recall  f1-score   support\n",
      "\n",
      "     abusive       0.57      0.61      0.59       257\n",
      "        hate       0.21      0.37      0.27        70\n",
      "      normal       0.83      0.72      0.77       537\n",
      "\n",
      "    accuracy                           0.66       864\n",
      "   macro avg       0.54      0.57      0.55       864\n",
      "weighted avg       0.70      0.66      0.68       864\n",
      " \n",
      "\n",
      "Voting Classifier  Classification Report: \n",
      "                precision    recall  f1-score   support\n",
      "\n",
      "     abusive       0.74      0.67      0.70       257\n",
      "        hate       0.74      0.29      0.41        70\n",
      "      normal       0.83      0.94      0.88       537\n",
      "\n",
      "    accuracy                           0.80       864\n",
      "   macro avg       0.77      0.63      0.66       864\n",
      "weighted avg       0.80      0.80      0.79       864\n",
      " \n",
      "\n"
     ]
    }
   ],
   "source": [
    "for i,model in enumerate(pipelines):\n",
    "    print(pipe_dict[i],\" Classification Report: \\n \", classification_report(y_true = test_label_names, \n",
    "                                                                              y_pred = model.predict(test_corpus)), '\\n')"
   ]
  },
  {
   "cell_type": "markdown",
   "metadata": {
    "id": "Boq0hA4Ks38q"
   },
   "source": [
    "# Saving Best Model"
   ]
  },
  {
   "cell_type": "markdown",
   "metadata": {
    "id": "LaTPzUa2s38q"
   },
   "source": [
    "### Concentrating the Training, Validation, and Test Sets."
   ]
  },
  {
   "cell_type": "code",
   "execution_count": 141,
   "metadata": {
    "id": "HjlY0M9Rs38q"
   },
   "outputs": [],
   "source": [
    "whole_corpus = np.concatenate((train_corpus_updated, test_corpus))\n",
    "whole_label_names = np.concatenate((train_label_updated, test_label_names))"
   ]
  },
  {
   "cell_type": "markdown",
   "metadata": {
    "id": "-SovryPjs38q"
   },
   "source": [
    "### Fitting our Final Pipeline"
   ]
  },
  {
   "cell_type": "code",
   "execution_count": 144,
   "metadata": {
    "colab": {
     "base_uri": "https://localhost:8080/"
    },
    "id": "cbZtQEgQs38q",
    "outputId": "d8656161-3fe8-4b00-8ce1-32d69e5df468"
   },
   "outputs": [
    {
     "data": {
      "text/plain": [
       "Pipeline(memory=None,\n",
       "         steps=[('vect',\n",
       "                 CountVectorizer(analyzer='word', binary=False,\n",
       "                                 decode_error='strict',\n",
       "                                 dtype=<class 'numpy.int64'>, encoding='utf-8',\n",
       "                                 input='content', lowercase=True, max_df=0.5,\n",
       "                                 max_features=None, min_df=0.0,\n",
       "                                 ngram_range=(1, 2), preprocessor=None,\n",
       "                                 stop_words=None, strip_accents=None,\n",
       "                                 token_pattern='(?u)\\\\b\\\\w\\\\w+\\\\b',\n",
       "                                 tokenizer=None, vocabulary=N...\n",
       "                 SGDClassifier(alpha=0.0001, average=False, class_weight=None,\n",
       "                               early_stopping=False, epsilon=0.1, eta0=0.0,\n",
       "                               fit_intercept=True, l1_ratio=0.15,\n",
       "                               learning_rate='optimal', loss='hinge',\n",
       "                               max_iter=1000, n_iter_no_change=5, n_jobs=None,\n",
       "                               penalty='l2', power_t=0.5, random_state=None,\n",
       "                               shuffle=True, tol=0.001, validation_fraction=0.1,\n",
       "                               verbose=0, warm_start=False))],\n",
       "         verbose=False)"
      ]
     },
     "execution_count": 144,
     "metadata": {
      "tags": []
     },
     "output_type": "execute_result"
    }
   ],
   "source": [
    "pipeline_sgd.fit(whole_corpus, whole_label_names)"
   ]
  },
  {
   "cell_type": "markdown",
   "metadata": {
    "id": "iw1LTzAOs38r"
   },
   "source": [
    "### Pickling the Final Model"
   ]
  },
  {
   "cell_type": "code",
   "execution_count": 145,
   "metadata": {
    "colab": {
     "base_uri": "https://localhost:8080/"
    },
    "id": "NOBbvVxHs38r",
    "outputId": "b78b6ae2-e757-4465-bca9-a1b41cfc1cbd"
   },
   "outputs": [
    {
     "data": {
      "text/plain": [
       "['pipeline_sgd.joblib']"
      ]
     },
     "execution_count": 145,
     "metadata": {
      "tags": []
     },
     "output_type": "execute_result"
    }
   ],
   "source": [
    "joblib.dump(pipeline_sgd, 'pipeline_sgd.joblib')"
   ]
  },
  {
   "cell_type": "code",
   "execution_count": null,
   "metadata": {
    "id": "M-Yz-vkls38r"
   },
   "outputs": [],
   "source": [
    "pipeline_sgd = joblib.load('pipeline_sgd.joblib')"
   ]
  },
  {
   "cell_type": "markdown",
   "metadata": {},
   "source": [
    "# Binary Classification"
   ]
  },
  {
   "cell_type": "markdown",
   "metadata": {},
   "source": [
    "### Loading the Data"
   ]
  },
  {
   "cell_type": "code",
   "execution_count": 3,
   "metadata": {},
   "outputs": [],
   "source": [
    "url = 'https://raw.githubusercontent.com/Hala-Mulki/L-HSAB-First-Arabic-Levantine-HateSpeech-Dataset/master/Dataset/L-HSAB'\n",
    "data = pd.read_csv(url, sep='\\t')"
   ]
  },
  {
   "cell_type": "code",
   "execution_count": 4,
   "metadata": {},
   "outputs": [
    {
     "data": {
      "text/plain": [
       "normal     3650\n",
       "abusive    1728\n",
       "hate        468\n",
       "Name: Class, dtype: int64"
      ]
     },
     "execution_count": 4,
     "metadata": {},
     "output_type": "execute_result"
    }
   ],
   "source": [
    "data['Class'].value_counts()"
   ]
  },
  {
   "cell_type": "markdown",
   "metadata": {},
   "source": [
    "### Joining the Abusive and Hate Classes"
   ]
  },
  {
   "cell_type": "code",
   "execution_count": 5,
   "metadata": {},
   "outputs": [],
   "source": [
    "data['Class'].replace({\"hate\": \"abusive\"}, inplace=True)"
   ]
  },
  {
   "cell_type": "code",
   "execution_count": 6,
   "metadata": {},
   "outputs": [
    {
     "data": {
      "text/plain": [
       "normal     3650\n",
       "abusive    2196\n",
       "Name: Class, dtype: int64"
      ]
     },
     "execution_count": 6,
     "metadata": {},
     "output_type": "execute_result"
    }
   ],
   "source": [
    "data['Class'].value_counts()"
   ]
  },
  {
   "cell_type": "markdown",
   "metadata": {},
   "source": [
    "### Preprocessing and Cleaning"
   ]
  },
  {
   "cell_type": "code",
   "execution_count": 13,
   "metadata": {},
   "outputs": [],
   "source": [
    "data.drop_duplicates(subset='Tweet', keep='first', inplace=True, ignore_index=False)\n",
    "\n",
    "data['Tweet'] = data['Tweet'].apply(lambda x:normalizeArabic(x))\n",
    "data['Tweet'] = data['Tweet'].apply(lambda x:remove_stopwords(x))\n",
    "data['Tweet'] = data['Tweet'].apply(lambda x:remove_emoji(x))\n",
    "data['Tweet'] = data['Tweet'].apply(lambda x:clean_text(x))"
   ]
  },
  {
   "cell_type": "code",
   "execution_count": 15,
   "metadata": {},
   "outputs": [],
   "source": [
    "le = preprocessing.LabelEncoder()\n",
    "le.fit(data.Class)\n",
    "y_encode = le.transform(data.Class)\n",
    "\n",
    "data_df = pd.DataFrame({'Target Label': y_encode, 'Target Name': data.Class, 'Tweet': data.Tweet})"
   ]
  },
  {
   "cell_type": "code",
   "execution_count": 16,
   "metadata": {},
   "outputs": [],
   "source": [
    "train_corpus, test_corpus, train_label_nums, test_label_nums, train_label_names, test_label_names = train_test_split(np.array(data_df['Tweet']),\n",
    "                                                                                                                         np.array(data_df['Target Label']),\n",
    "                                                                                                                         np.array(data_df['Target Name']),\n",
    "                                                                                                                         stratify=data_df['Target Label'],\n",
    "                                                                                                                         test_size=0.2, random_state=42)"
   ]
  },
  {
   "cell_type": "markdown",
   "metadata": {
    "id": "XK8tcghouuQu"
   },
   "source": [
    "### 1. Logistic Regression Classifier"
   ]
  },
  {
   "cell_type": "code",
   "execution_count": 17,
   "metadata": {
    "id": "miaU1jsOuxGQ"
   },
   "outputs": [],
   "source": [
    "text_log = Pipeline([('vect', CountVectorizer()), ('tfidf', TfidfTransformer()), ('log', LogisticRegression())])\n",
    "\n",
    "parameters_log = {\n",
    "    'vect__min_df': [0.0, 0.1, 0.3, 0.5],\n",
    "    'vect__max_df': [0.5, 0.75, 1.0],\n",
    "    'vect__max_features': [None, 5000, 10000, 50000],\n",
    "    'vect__ngram_range': [(1, 1), (1, 2)], \n",
    "    'tfidf__use_idf': [True, False],\n",
    "    'tfidf__norm': ['l1', 'l2', None],\n",
    "    'log__solver': ['lbfgs', 'liblinear'], \n",
    "    'log__penalty': ['l1', 'l2'], \n",
    "    'log__C': [200, 100, 50, 10],\n",
    "}"
   ]
  },
  {
   "cell_type": "code",
   "execution_count": 18,
   "metadata": {
    "colab": {
     "base_uri": "https://localhost:8080/"
    },
    "id": "mKloBsKpvu8K",
    "outputId": "b2a5cb10-dc95-4c77-9455-369f3101f60e"
   },
   "outputs": [
    {
     "data": {
      "text/plain": [
       "GridSearchCV(cv=3,\n",
       "             estimator=Pipeline(steps=[('vect', CountVectorizer()),\n",
       "                                       ('tfidf', TfidfTransformer()),\n",
       "                                       ('log', LogisticRegression())]),\n",
       "             n_jobs=-1,\n",
       "             param_grid={'log__C': [200, 100, 50, 10],\n",
       "                         'log__penalty': ['l1', 'l2'],\n",
       "                         'log__solver': ['lbfgs', 'liblinear'],\n",
       "                         'tfidf__norm': ['l1', 'l2', None],\n",
       "                         'tfidf__use_idf': [True, False],\n",
       "                         'vect__max_df': [0.5, 0.75, 1.0],\n",
       "                         'vect__max_features': [None, 5000, 10000, 50000],\n",
       "                         'vect__min_df': [0.0, 0.1, 0.3, 0.5],\n",
       "                         'vect__ngram_range': [(1, 1), (1, 2)]})"
      ]
     },
     "execution_count": 18,
     "metadata": {},
     "output_type": "execute_result"
    }
   ],
   "source": [
    "grid_search_log = GridSearchCV(text_log, parameters_log, n_jobs=-1, cv=3, refit=True)\n",
    "grid_search_log.fit(train_corpus, train_label_names)"
   ]
  },
  {
   "cell_type": "code",
   "execution_count": 23,
   "metadata": {},
   "outputs": [
    {
     "name": "stdout",
     "output_type": "stream",
     "text": [
      "[[277 159]\n",
      " [ 31 684]]\n"
     ]
    }
   ],
   "source": [
    "log_cm = confusion_matrix(y_true = test_label_names, y_pred = grid_search_log.predict(test_corpus))\n",
    "print(log_cm)"
   ]
  },
  {
   "cell_type": "code",
   "execution_count": 24,
   "metadata": {},
   "outputs": [
    {
     "name": "stdout",
     "output_type": "stream",
     "text": [
      "              precision    recall  f1-score   support\n",
      "\n",
      "     abusive       0.90      0.64      0.74       436\n",
      "      normal       0.81      0.96      0.88       715\n",
      "\n",
      "    accuracy                           0.83      1151\n",
      "   macro avg       0.86      0.80      0.81      1151\n",
      "weighted avg       0.84      0.83      0.83      1151\n",
      "\n"
     ]
    }
   ],
   "source": [
    "log_cr = classification_report(y_true = test_label_names, y_pred = grid_search_log.predict(test_corpus))\n",
    "print(log_cr)"
   ]
  },
  {
   "cell_type": "markdown",
   "metadata": {},
   "source": [
    "### 2. Support Vector Classifier"
   ]
  },
  {
   "cell_type": "code",
   "execution_count": 25,
   "metadata": {},
   "outputs": [],
   "source": [
    "text_svc = Pipeline([('vect', CountVectorizer()), ('tfidf', TfidfTransformer()), ('svc', SVC())])\n",
    "\n",
    "parameters_svc = {\n",
    "    'vect__min_df': [0, 0.1],\n",
    "    'vect__max_df': [0.5, 1.0],\n",
    "    #'vect__max_features': [None, 10000, 20000],\n",
    "    'vect__ngram_range': [(1, 1), (1, 2)],  \n",
    "    'tfidf__norm': ['l1', 'l2', None],\n",
    "    #'svc__kernel': ['linear', 'poly', 'rbf', 'sigmoid'],\n",
    "    'svc__kernel': ['linear', 'rbf'],\n",
    "    'svc__C': [10, 15, 20],\n",
    "}"
   ]
  },
  {
   "cell_type": "code",
   "execution_count": 26,
   "metadata": {},
   "outputs": [
    {
     "data": {
      "text/plain": [
       "GridSearchCV(cv=3,\n",
       "             estimator=Pipeline(steps=[('vect', CountVectorizer()),\n",
       "                                       ('tfidf', TfidfTransformer()),\n",
       "                                       ('svc', SVC())]),\n",
       "             n_jobs=-1,\n",
       "             param_grid={'svc__C': [10, 15, 20],\n",
       "                         'svc__kernel': ['linear', 'rbf'],\n",
       "                         'tfidf__norm': ['l1', 'l2', None],\n",
       "                         'vect__max_df': [0.5, 1.0], 'vect__min_df': [0, 0.1],\n",
       "                         'vect__ngram_range': [(1, 1), (1, 2)]})"
      ]
     },
     "execution_count": 26,
     "metadata": {},
     "output_type": "execute_result"
    }
   ],
   "source": [
    "grid_search_svc = GridSearchCV(text_svc, parameters_svc, n_jobs=-1, cv=3, refit=True)\n",
    "grid_search_svc.fit(train_corpus, train_label_names)"
   ]
  },
  {
   "cell_type": "code",
   "execution_count": 27,
   "metadata": {},
   "outputs": [
    {
     "name": "stdout",
     "output_type": "stream",
     "text": [
      "[[309 127]\n",
      " [ 70 645]]\n"
     ]
    }
   ],
   "source": [
    "svc_cm = confusion_matrix(y_true = test_label_names, y_pred = grid_search_svc.predict(test_corpus))\n",
    "print(svc_cm)"
   ]
  },
  {
   "cell_type": "code",
   "execution_count": 28,
   "metadata": {},
   "outputs": [
    {
     "name": "stdout",
     "output_type": "stream",
     "text": [
      "              precision    recall  f1-score   support\n",
      "\n",
      "     abusive       0.82      0.71      0.76       436\n",
      "      normal       0.84      0.90      0.87       715\n",
      "\n",
      "    accuracy                           0.83      1151\n",
      "   macro avg       0.83      0.81      0.81      1151\n",
      "weighted avg       0.83      0.83      0.83      1151\n",
      "\n"
     ]
    }
   ],
   "source": [
    "svc_cr = classification_report(y_true = test_label_names, y_pred = grid_search_svc.predict(test_corpus))\n",
    "print(svc_cr)"
   ]
  },
  {
   "cell_type": "markdown",
   "metadata": {
    "id": "v4JN0bk-s38c"
   },
   "source": [
    "### 3. Stochastic Gradient Descent Classifier"
   ]
  },
  {
   "cell_type": "code",
   "execution_count": 29,
   "metadata": {
    "id": "JFZ7YNdks38c"
   },
   "outputs": [],
   "source": [
    "text_sgd = Pipeline([('vect', CountVectorizer()), ('tfidf', TfidfTransformer()), ('sgd', SGDClassifier())])\n",
    "\n",
    "parameters_sgd = {\n",
    "    'vect__min_df': [0.0, 0.1, 0.3, 0.5],\n",
    "    'vect__max_df': [0.5, 0.75, 1.0],\n",
    "    'vect__max_features': [None, 10000, 20000, 30000],\n",
    "    'vect__ngram_range': [(1, 1), (1, 2)], \n",
    "    'tfidf__norm': ['l1', 'l2', None],\n",
    "    'sgd__penalty': ['l2', 'l1', 'elasticnet'], \n",
    "    'sgd__alpha': [0.00001, 0.0001, 0.001, 0.1], \n",
    "}"
   ]
  },
  {
   "cell_type": "code",
   "execution_count": 30,
   "metadata": {
    "colab": {
     "base_uri": "https://localhost:8080/"
    },
    "id": "PEjcEocbs38c",
    "outputId": "bd7235db-9a64-4851-a439-b833d399f0e2"
   },
   "outputs": [
    {
     "data": {
      "text/plain": [
       "GridSearchCV(cv=3,\n",
       "             estimator=Pipeline(steps=[('vect', CountVectorizer()),\n",
       "                                       ('tfidf', TfidfTransformer()),\n",
       "                                       ('sgd', SGDClassifier())]),\n",
       "             n_jobs=-1,\n",
       "             param_grid={'sgd__alpha': [1e-05, 0.0001, 0.001, 0.1],\n",
       "                         'sgd__penalty': ['l2', 'l1', 'elasticnet'],\n",
       "                         'tfidf__norm': ['l1', 'l2', None],\n",
       "                         'vect__max_df': [0.5, 0.75, 1.0],\n",
       "                         'vect__max_features': [None, 10000, 20000, 30000],\n",
       "                         'vect__min_df': [0.0, 0.1, 0.3, 0.5],\n",
       "                         'vect__ngram_range': [(1, 1), (1, 2)]})"
      ]
     },
     "execution_count": 30,
     "metadata": {},
     "output_type": "execute_result"
    }
   ],
   "source": [
    "grid_search_sgd = GridSearchCV(text_sgd, parameters_sgd, n_jobs=-1, cv=3, refit=True)\n",
    "grid_search_sgd.fit(train_corpus, train_label_names)"
   ]
  },
  {
   "cell_type": "code",
   "execution_count": 31,
   "metadata": {},
   "outputs": [
    {
     "name": "stdout",
     "output_type": "stream",
     "text": [
      "[[289 147]\n",
      " [ 48 667]]\n"
     ]
    }
   ],
   "source": [
    "sgd_cm = confusion_matrix(y_true = test_label_names, y_pred = grid_search_sgd.predict(test_corpus))\n",
    "print(sgd_cm)"
   ]
  },
  {
   "cell_type": "code",
   "execution_count": 32,
   "metadata": {},
   "outputs": [
    {
     "name": "stdout",
     "output_type": "stream",
     "text": [
      "              precision    recall  f1-score   support\n",
      "\n",
      "     abusive       0.86      0.66      0.75       436\n",
      "      normal       0.82      0.93      0.87       715\n",
      "\n",
      "    accuracy                           0.83      1151\n",
      "   macro avg       0.84      0.80      0.81      1151\n",
      "weighted avg       0.83      0.83      0.83      1151\n",
      "\n"
     ]
    }
   ],
   "source": [
    "sgd_cr = classification_report(y_true = test_label_names, y_pred = grid_search_sgd.predict(test_corpus))\n",
    "print(sgd_cr)"
   ]
  }
 ],
 "metadata": {
  "accelerator": "GPU",
  "colab": {
   "collapsed_sections": [
    "rh_Vg-V1NUN5",
    "nvOV45NhAB6j",
    "533BdXK1s38J",
    "-iODzr8WkuGz",
    "yi-vGQ7wASjp",
    "zuTb9UzUtquU",
    "FRqQAT59bB73",
    "giSNIgxtlKy0",
    "mvsUHWLGaoUb",
    "XK8tcghouuQu",
    "yELDl3nJitin",
    "GlkTi_bNs38Z",
    "v4JN0bk-s38c",
    "9EudUpHns38d",
    "5KLKH8fvs38f",
    "0Pbolc2Ls38g",
    "ye682zybs38h",
    "LJcf_z1xs38i",
    "vTUGVZnSs38n"
   ],
   "name": "MSBA315_Machine_Learning.ipynb",
   "provenance": [],
   "toc_visible": true
  },
  "kernelspec": {
   "display_name": "Python 3",
   "language": "python",
   "name": "python3"
  },
  "language_info": {
   "codemirror_mode": {
    "name": "ipython",
    "version": 3
   },
   "file_extension": ".py",
   "mimetype": "text/x-python",
   "name": "python",
   "nbconvert_exporter": "python",
   "pygments_lexer": "ipython3",
   "version": "3.8.8"
  }
 },
 "nbformat": 4,
 "nbformat_minor": 1
}
