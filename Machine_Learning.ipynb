{
  "nbformat": 4,
  "nbformat_minor": 0,
  "metadata": {
    "accelerator": "GPU",
    "colab": {
      "name": "MSBA315 - Machine Learning.ipynb",
      "provenance": [],
      "collapsed_sections": [
        "2SkeDbX3aePy",
        "LyAfPRcOakmd",
        "rh_Vg-V1NUN5",
        "nvOV45NhAB6j",
        "-iODzr8WkuGz",
        "yi-vGQ7wASjp",
        "zuTb9UzUtquU",
        "FRqQAT59bB73",
        "mvsUHWLGaoUb",
        "XK8tcghouuQu",
        "yELDl3nJitin"
      ]
    },
    "kernelspec": {
      "display_name": "Python 3",
      "language": "python",
      "name": "python3"
    },
    "language_info": {
      "codemirror_mode": {
        "name": "ipython",
        "version": 3
      },
      "file_extension": ".py",
      "mimetype": "text/x-python",
      "name": "python",
      "nbconvert_exporter": "python",
      "pygments_lexer": "ipython3",
      "version": "3.8.8"
    }
  },
  "cells": [
    {
      "cell_type": "markdown",
      "metadata": {
        "id": "rh_Vg-V1NUN5"
      },
      "source": [
        "# Importing Libraries"
      ]
    },
    {
      "cell_type": "code",
      "metadata": {
        "id": "LUIh4LF7BLGy"
      },
      "source": [
        "# !pip install emoji\n",
        "# !pip install pyarabic\n",
        "# !pip install tashaphyne\n",
        "# import nltk\n",
        "# nltk.download('stopwords')\n",
        "# nltk.download('punkt')"
      ],
      "execution_count": null,
      "outputs": []
    },
    {
      "cell_type": "code",
      "metadata": {
        "id": "LBZI2-8q4v3i"
      },
      "source": [
        "import pandas as pd\n",
        "import numpy as np\n",
        "import matplotlib.pyplot as plt\n",
        "import re\n",
        "import emoji\n",
        "import pickle\n",
        "import seaborn as sns\n",
        "import os\n",
        "import numpy as np\n",
        "import joblib\n",
        "import arabic_reshaper\n",
        "from bidi.algorithm import get_display\n",
        "\n",
        "import warnings\n",
        "warnings.filterwarnings('ignore')\n",
        "\n",
        "from textblob import TextBlob\n",
        "import pickle\n",
        "import pyarabic.araby as araby\n",
        "import tashaphyne.arabic_const as arabconst\n",
        "from tashaphyne.stemming import ArabicLightStemmer\n",
        "\n",
        "import nltk\n",
        "from nltk.corpus import stopwords\n",
        "from nltk.tokenize import word_tokenize\n",
        "from nltk.stem.isri import ISRIStemmer\n",
        "from nltk.tokenize import TweetTokenizer\n",
        "\n",
        "from wordcloud import WordCloud\n",
        "\n",
        "from sklearn.feature_extraction.text import CountVectorizer, TfidfTransformer\n",
        "from sklearn.model_selection import train_test_split\n",
        "from sklearn import preprocessing\n",
        "from sklearn.pipeline import Pipeline\n",
        "from sklearn.model_selection import GridSearchCV\n",
        "from sklearn.naive_bayes import MultinomialNB\n",
        "from sklearn.decomposition import TruncatedSVD\n",
        "from sklearn.linear_model import LogisticRegression\n",
        "from sklearn.svm import SVC\n",
        "from sklearn.linear_model import SGDClassifier\n",
        "from sklearn.ensemble import RandomForestClassifier\n",
        "from sklearn.neighbors import KNeighborsClassifier\n",
        "from sklearn.ensemble import AdaBoostClassifier\n",
        "from sklearn.naive_bayes import GaussianNB\n",
        "from sklearn.preprocessing import FunctionTransformer\n",
        "from sklearn.ensemble import GradientBoostingClassifier\n",
        "from sklearn.ensemble import VotingClassifier"
      ],
      "execution_count": null,
      "outputs": []
    },
    {
      "cell_type": "markdown",
      "metadata": {
        "id": "nvOV45NhAB6j"
      },
      "source": [
        "# Loading and Discovering the Dataset"
      ]
    },
    {
      "cell_type": "code",
      "metadata": {
        "id": "clhgAmYds38H"
      },
      "source": [
        "url = 'https://raw.githubusercontent.com/Hala-Mulki/L-HSAB-First-Arabic-Levantine-HateSpeech-Dataset/master/Dataset/L-HSAB'\n",
        "data = pd.read_csv(url, sep='\\t')"
      ],
      "execution_count": null,
      "outputs": []
    },
    {
      "cell_type": "code",
      "metadata": {
        "colab": {
          "base_uri": "https://localhost:8080/"
        },
        "id": "sDcQtibm6x85",
        "outputId": "2a29195f-1045-4f69-ac70-520f9b476cb0"
      },
      "source": [
        "data.head(10)"
      ],
      "execution_count": null,
      "outputs": [
        {
          "output_type": "execute_result",
          "data": {
            "text/html": [
              "<div>\n",
              "<style scoped>\n",
              "    .dataframe tbody tr th:only-of-type {\n",
              "        vertical-align: middle;\n",
              "    }\n",
              "\n",
              "    .dataframe tbody tr th {\n",
              "        vertical-align: top;\n",
              "    }\n",
              "\n",
              "    .dataframe thead th {\n",
              "        text-align: right;\n",
              "    }\n",
              "</style>\n",
              "<table border=\"1\" class=\"dataframe\">\n",
              "  <thead>\n",
              "    <tr style=\"text-align: right;\">\n",
              "      <th></th>\n",
              "      <th>Tweet</th>\n",
              "      <th>Class</th>\n",
              "    </tr>\n",
              "  </thead>\n",
              "  <tbody>\n",
              "    <tr>\n",
              "      <th>0</th>\n",
              "      <td>الوزير جبران باسيل تاج راسك يا جربان ممنوع بعد...</td>\n",
              "      <td>abusive</td>\n",
              "    </tr>\n",
              "    <tr>\n",
              "      <th>1</th>\n",
              "      <td>صديقي انت ابن جامعه اللعبه اكبر من داعش اللعبه...</td>\n",
              "      <td>normal</td>\n",
              "    </tr>\n",
              "    <tr>\n",
              "      <th>2</th>\n",
              "      <td>و مصلحة لبنان تبدأ باستخراج النفط و الغاز لوقف...</td>\n",
              "      <td>normal</td>\n",
              "    </tr>\n",
              "    <tr>\n",
              "      <th>3</th>\n",
              "      <td>وليد جنبلاط كاتب الحكمة يا قذر</td>\n",
              "      <td>abusive</td>\n",
              "    </tr>\n",
              "    <tr>\n",
              "      <th>4</th>\n",
              "      <td>شو بتلبقلك كلمة خنزير بتجي مفصله على قياسك وشك...</td>\n",
              "      <td>abusive</td>\n",
              "    </tr>\n",
              "    <tr>\n",
              "      <th>5</th>\n",
              "      <td>يا جبران باسيل يا معلم يا ريس يا استاذ بدك حضن...</td>\n",
              "      <td>normal</td>\n",
              "    </tr>\n",
              "    <tr>\n",
              "      <th>6</th>\n",
              "      <td>ما سمعنا جعاركم مبارح على القصف الإسرائيلي يلي...</td>\n",
              "      <td>hate</td>\n",
              "    </tr>\n",
              "    <tr>\n",
              "      <th>7</th>\n",
              "      <td>نصيحة احكي مع الرئيس ميشال عون او هاجم جبران ب...</td>\n",
              "      <td>normal</td>\n",
              "    </tr>\n",
              "    <tr>\n",
              "      <th>8</th>\n",
              "      <td>صافي يا بقر</td>\n",
              "      <td>abusive</td>\n",
              "    </tr>\n",
              "    <tr>\n",
              "      <th>9</th>\n",
              "      <td>لا تعتب عليه هيدا اسمه ابو صرماي</td>\n",
              "      <td>abusive</td>\n",
              "    </tr>\n",
              "  </tbody>\n",
              "</table>\n",
              "</div>"
            ],
            "text/plain": [
              "                                               Tweet    Class\n",
              "0  الوزير جبران باسيل تاج راسك يا جربان ممنوع بعد...  abusive\n",
              "1  صديقي انت ابن جامعه اللعبه اكبر من داعش اللعبه...   normal\n",
              "2  و مصلحة لبنان تبدأ باستخراج النفط و الغاز لوقف...   normal\n",
              "3                    وليد جنبلاط كاتب الحكمة يا قذر   abusive\n",
              "4  شو بتلبقلك كلمة خنزير بتجي مفصله على قياسك وشك...  abusive\n",
              "5  يا جبران باسيل يا معلم يا ريس يا استاذ بدك حضن...   normal\n",
              "6  ما سمعنا جعاركم مبارح على القصف الإسرائيلي يلي...     hate\n",
              "7  نصيحة احكي مع الرئيس ميشال عون او هاجم جبران ب...   normal\n",
              "8                                        صافي يا بقر  abusive\n",
              "9                  لا تعتب عليه هيدا اسمه ابو صرماي   abusive"
            ]
          },
          "metadata": {
            "tags": []
          },
          "execution_count": 5
        }
      ]
    },
    {
      "cell_type": "code",
      "metadata": {
        "colab": {
          "base_uri": "https://localhost:8080/"
        },
        "id": "dhItu7LiIGGp",
        "outputId": "55f5b9f5-43fc-408d-e2c7-87221959e272"
      },
      "source": [
        "data.shape"
      ],
      "execution_count": null,
      "outputs": [
        {
          "output_type": "execute_result",
          "data": {
            "text/plain": [
              "(5846, 2)"
            ]
          },
          "metadata": {
            "tags": []
          },
          "execution_count": 6
        }
      ]
    },
    {
      "cell_type": "code",
      "metadata": {
        "colab": {
          "base_uri": "https://localhost:8080/"
        },
        "id": "L1Z3TqM56zEE",
        "outputId": "e0a53d1a-40ef-4926-9eb8-38c4d43bb316"
      },
      "source": [
        "np.unique(data['Class'])"
      ],
      "execution_count": null,
      "outputs": [
        {
          "output_type": "execute_result",
          "data": {
            "text/plain": [
              "array(['abusive', 'hate', 'normal'], dtype=object)"
            ]
          },
          "metadata": {
            "tags": []
          },
          "execution_count": 7
        }
      ]
    },
    {
      "cell_type": "markdown",
      "metadata": {
        "id": "533BdXK1s38J"
      },
      "source": [
        "# Exploratory Data Analysis"
      ]
    },
    {
      "cell_type": "markdown",
      "metadata": {
        "id": "a9ZleSHAs38K"
      },
      "source": [
        "### Number of Tweets per Class"
      ]
    },
    {
      "cell_type": "code",
      "metadata": {
        "id": "WXqUJXjqs38K",
        "outputId": "7666384a-fb76-41d2-c4fb-3645cb8bec72"
      },
      "source": [
        "plt.figure(figsize=(11,7))\n",
        "\n",
        "ax = sns.countplot(y=data['Class'], data=data, color='purple', order = data['Class'].value_counts().index)\n",
        "\n",
        "plt.xlabel('')\n",
        "plt.ylabel('')\n",
        "plt.title('Number of Tweets per Each Class')\n",
        "\n",
        "plt.show()"
      ],
      "execution_count": null,
      "outputs": [
        {
          "output_type": "display_data",
          "data": {
            "image/png": "[encoded data removed]",
            "text/plain": [
              "<Figure size 792x504 with 1 Axes>"
            ]
          },
          "metadata": {
            "tags": [],
            "needs_background": "light"
          }
        }
      ]
    },
    {
      "cell_type": "markdown",
      "metadata": {
        "id": "l-vx4twTs38K"
      },
      "source": [
        "### Word Cloud for the Most Frequent Words"
      ]
    },
    {
      "cell_type": "code",
      "metadata": {
        "id": "UdhKGvMbs38L"
      },
      "source": [
        "texts = data['Tweet']\n",
        "texts = [comment.split(\" \") for comment in texts]\n",
        "texts = [' '.join(comment) for comment in texts]\n",
        "texts = ' '.join(texts)\n",
        "\n",
        "reshaped_text = arabic_reshaper.reshape(texts)\n",
        "bidi_text = get_display(reshaped_text)"
      ],
      "execution_count": null,
      "outputs": []
    },
    {
      "cell_type": "code",
      "metadata": {
        "id": "csbtGQAas38L",
        "outputId": "c95a63ac-e2ae-43cd-ef90-b0e005180394"
      },
      "source": [
        "wordcloud = WordCloud(font_path = 'tahoma.ttf',\n",
        "                      background_color='black',\n",
        "                      stopwords=(stops and stop_word_comp),\n",
        "                      max_words=200, \n",
        "                      random_state=42).generate(bidi_text)\n",
        "\n",
        "plt.figure(figsize=(14,10))\n",
        "plt.axis(\"off\")\n",
        "plt.title(\"Words frequented in text\", fontsize=15)\n",
        "plt.imshow(wordcloud.recolor(colormap= 'viridis' , random_state=42), alpha=0.98)\n",
        "plt.show()"
      ],
      "execution_count": null,
      "outputs": [
        {
          "output_type": "display_data",
          "data": {
            "image/png": "[encoded data removed]",
            "text/plain": [
              "<Figure size 1008x720 with 1 Axes>"
            ]
          },
          "metadata": {
            "tags": [],
            "needs_background": "light"
          }
        }
      ]
    },
    {
      "cell_type": "markdown",
      "metadata": {
        "id": "L6o_-L3zs38L"
      },
      "source": [
        "### Top Unigrams after Removing Stop Words"
      ]
    },
    {
      "cell_type": "code",
      "metadata": {
        "id": "H1hLjrnds38M",
        "outputId": "bdc1dca7-eaee-422c-f3b4-1e580e4c175f"
      },
      "source": [
        "def get_top_n_words(corpus, n=None):\n",
        "    vec = CountVectorizer(stop_words = stops and stop_word_comp).fit(corpus)\n",
        "    bag_of_words = vec.transform(corpus)\n",
        "    sum_words = bag_of_words.sum(axis=0) \n",
        "    words_freq = [(word, sum_words[0, idx]) for word, idx in vec.vocabulary_.items()]\n",
        "    words_freq =sorted(words_freq, key = lambda x: x[1], reverse=True)\n",
        "    return words_freq[:n]\n",
        "\n",
        "common_words = get_top_n_words(data['Tweet'], 20)\n",
        "\n",
        "for word, freq in common_words:\n",
        "    print(word, freq)\n",
        "\n",
        "df1 = pd.DataFrame(common_words, columns = ['Tweet' , 'count'])"
      ],
      "execution_count": null,
      "outputs": [
        {
          "output_type": "stream",
          "text": [
            "يا 1347\n",
            "جبران 1080\n",
            "باسيل 1078\n",
            "انت 536\n",
            "بس 384\n",
            "شو 383\n",
            "الله 353\n",
            "عم 331\n",
            "لبنان 277\n",
            "مش 244\n",
            "هوا 204\n",
            "وهاب 204\n",
            "كول 194\n",
            "شي 188\n",
            "قطر 179\n",
            "الوزير 170\n",
            "كلب 163\n",
            "يلي 157\n",
            "مين 156\n",
            "هيك 144\n"
          ],
          "name": "stdout"
        }
      ]
    },
    {
      "cell_type": "markdown",
      "metadata": {
        "id": "DBQkp_bks38M"
      },
      "source": [
        "### Top Bigrams after Removing Stop Words"
      ]
    },
    {
      "cell_type": "code",
      "metadata": {
        "id": "YXl-vKHLs38M",
        "outputId": "80f9fc3c-dffc-4884-fd2e-4da488acbd82"
      },
      "source": [
        "def get_top_n_bigram(corpus, n=None):\n",
        "    vec = CountVectorizer(ngram_range=(2, 2), stop_words = stops and stop_word_comp).fit(corpus)\n",
        "    bag_of_words = vec.transform(corpus)\n",
        "    sum_words = bag_of_words.sum(axis=0) \n",
        "    words_freq = [(word, sum_words[0, idx]) for word, idx in vec.vocabulary_.items()]\n",
        "    words_freq =sorted(words_freq, key = lambda x: x[1], reverse=True)\n",
        "    return words_freq[:n]\n",
        "\n",
        "common_words = get_top_n_bigram(data['Tweet'], 20)\n",
        "\n",
        "for word, freq in common_words:\n",
        "    print(word, freq)\n",
        "\n",
        "df2 = pd.DataFrame(common_words, columns = ['Tweet' , 'count'])"
      ],
      "execution_count": null,
      "outputs": [
        {
          "output_type": "stream",
          "text": [
            "جبران باسيل 1015\n",
            "كول هوا 166\n",
            "الوزير جبران 89\n",
            "وئام وهاب 61\n",
            "معالي الوزير 56\n",
            "وزير الخارجية 53\n",
            "ميشال عون 49\n",
            "يا كلب 41\n",
            "العقاب لوهاب 37\n",
            "ابو دياب 37\n",
            "لوهاب وهاب 36\n",
            "وهاب قاتل 36\n",
            "قاتل ابو 36\n",
            "حزب الله 36\n",
            "عماد عثمان 35\n",
            "عم تحكي 34\n",
            "سعد الحريري 32\n",
            "بلا شرف 28\n",
            "الخارجية جبران 27\n",
            "وزير خارجية 27\n"
          ],
          "name": "stdout"
        }
      ]
    },
    {
      "cell_type": "markdown",
      "metadata": {
        "id": "YFHDdVXEs38N"
      },
      "source": [
        "### Top Trigrams after Removing Stop Words"
      ]
    },
    {
      "cell_type": "code",
      "metadata": {
        "id": "b63KObzHs38N",
        "outputId": "bd972b29-da3f-43f0-d209-27b6c6bf0c45"
      },
      "source": [
        "def get_top_n_trigram(corpus, n=None):\n",
        "    vec = CountVectorizer(ngram_range=(3, 3), stop_words = stops and stop_word_comp).fit(corpus)\n",
        "    bag_of_words = vec.transform(corpus)\n",
        "    sum_words = bag_of_words.sum(axis=0) \n",
        "    words_freq = [(word, sum_words[0, idx]) for word, idx in vec.vocabulary_.items()]\n",
        "    words_freq =sorted(words_freq, key = lambda x: x[1], reverse=True)\n",
        "    return words_freq[:n]\n",
        "\n",
        "common_words = get_top_n_trigram(data['Tweet'], 20)\n",
        "\n",
        "for word, freq in common_words:\n",
        "    print(word, freq)\n",
        "\n",
        "df3 = pd.DataFrame(common_words, columns = ['Tweet' , 'count'])"
      ],
      "execution_count": null,
      "outputs": [
        {
          "output_type": "stream",
          "text": [
            "الوزير جبران باسيل 88\n",
            "العقاب لوهاب وهاب 36\n",
            "لوهاب وهاب قاتل 36\n",
            "وهاب قاتل ابو 36\n",
            "قاتل ابو دياب 36\n",
            "الخارجية جبران باسيل 25\n",
            "وزير خارجية لبنان 21\n",
            "الرئيس ميشال عون 19\n",
            "وزير الخارجية جبران 18\n",
            "يا جبران باسيل 17\n",
            "التيار الوطني الحر 17\n",
            "اللبناني جبران باسيل 16\n",
            "الملك جبران باسيل 16\n",
            "جبران باسيل بدو 15\n",
            "وزير الخارجية اللبناني 15\n",
            "الخارجية اللبناني جبران 15\n",
            "كول هوا يا 14\n",
            "يا استاذ وئام 14\n",
            "يا معالي الوزير 14\n",
            "يا بلا شرف 13\n"
          ],
          "name": "stdout"
        }
      ]
    },
    {
      "cell_type": "markdown",
      "metadata": {
        "id": "-iODzr8WkuGz"
      },
      "source": [
        "# Pre-Cleaning Feature Extraction"
      ]
    },
    {
      "cell_type": "code",
      "metadata": {
        "id": "8vevQPEmlFqq"
      },
      "source": [
        "# def avg_word(sentence):\n",
        "#     words = sentence.split()\n",
        "#     if len(words) == 0:\n",
        "#         return 0\n",
        "#     return (sum(len(word) for word in words)/len(words))\n",
        "\n",
        "# def emoji_counter(sentence):\n",
        "#     return emoji.emoji_count(sentence)\n",
        "\n",
        "# data['word_count'] = data['Tweet'].apply(lambda x: len(str(x).split(\" \")))\n",
        "# data['char_count'] = data['Tweet'].str.len() ## this also includes spaces\n",
        "# data['avg_char_per_word'] = data['Tweet'].apply(lambda x: avg_word(x))\n",
        "# data['emoji_count'] = data['Tweet'].apply(lambda x: emoji_counter(x))\n",
        "\n",
        "# data = data.sort_values(by='emoji_count',ascending=[0])\n",
        "# data.head()"
      ],
      "execution_count": null,
      "outputs": []
    },
    {
      "cell_type": "markdown",
      "metadata": {
        "id": "yi-vGQ7wASjp"
      },
      "source": [
        "# Data Cleaning and Preprocessing"
      ]
    },
    {
      "cell_type": "markdown",
      "metadata": {
        "id": "wl4J8vZhNJHG"
      },
      "source": [
        "## Text Normalization"
      ]
    },
    {
      "cell_type": "code",
      "metadata": {
        "id": "qEPn0TkUPo0O"
      },
      "source": [
        "def normalizeArabic(text):\n",
        "    text = text.strip()\n",
        "    text = re.sub(\"[إأٱآا]\", \"ا\", str(text))\n",
        "    #text = re.sub(\"ى\", \"ي\", text)\n",
        "    #text = re.sub(\"ؤ\", \"ء\", text)\n",
        "    #text = re.sub(\"ئ\", \"ء\", text)\n",
        "    #text = re.sub(\"ة\", \"ه\", text)\n",
        "    noise = re.compile(\"\"\" ّ    | # Tashdid\n",
        "                             َ    | # Fatha\n",
        "                             ً    | # Tanwin Fath\n",
        "                             ُ    | # Damma\n",
        "                             ٌ    | # Tanwin Damm\n",
        "                             ِ    | # Kasra\n",
        "                             ٍ    | # Tanwin Kasr\n",
        "                             ْ    | # Sukun\n",
        "                             ـ     # Tatwil/Kashida\n",
        "                         \"\"\", re.VERBOSE)\n",
        "    text = re.sub(noise, '', text)\n",
        "    text = re.sub(r'(.)\\1+', r\"\\1\\1\", text)\n",
        "    return araby.strip_tashkeel(text)"
      ],
      "execution_count": null,
      "outputs": []
    },
    {
      "cell_type": "code",
      "metadata": {
        "colab": {
          "base_uri": "https://localhost:8080/"
        },
        "id": "PT3wSP9zoPcy",
        "outputId": "48ad5218-5a84-4ee1-e7cf-eb851a65e179"
      },
      "source": [
        "data['Tweet'] = data['Tweet'].apply(lambda x:normalizeArabic(x))\n",
        "data.head()"
      ],
      "execution_count": null,
      "outputs": [
        {
          "output_type": "execute_result",
          "data": {
            "text/html": [
              "<div>\n",
              "<style scoped>\n",
              "    .dataframe tbody tr th:only-of-type {\n",
              "        vertical-align: middle;\n",
              "    }\n",
              "\n",
              "    .dataframe tbody tr th {\n",
              "        vertical-align: top;\n",
              "    }\n",
              "\n",
              "    .dataframe thead th {\n",
              "        text-align: right;\n",
              "    }\n",
              "</style>\n",
              "<table border=\"1\" class=\"dataframe\">\n",
              "  <thead>\n",
              "    <tr style=\"text-align: right;\">\n",
              "      <th></th>\n",
              "      <th>Tweet</th>\n",
              "      <th>Class</th>\n",
              "    </tr>\n",
              "  </thead>\n",
              "  <tbody>\n",
              "    <tr>\n",
              "      <th>0</th>\n",
              "      <td>الوزير جبران باسيل تاج راسك يا جربان ممنوع بعد...</td>\n",
              "      <td>abusive</td>\n",
              "    </tr>\n",
              "    <tr>\n",
              "      <th>1</th>\n",
              "      <td>صديقي انت ابن جامعه اللعبه اكبر من داعش اللعبه...</td>\n",
              "      <td>normal</td>\n",
              "    </tr>\n",
              "    <tr>\n",
              "      <th>2</th>\n",
              "      <td>و مصلحة لبنان تبدا باستخراج النفط و الغاز لوقف...</td>\n",
              "      <td>normal</td>\n",
              "    </tr>\n",
              "    <tr>\n",
              "      <th>3</th>\n",
              "      <td>وليد جنبلاط كاتب الحكمة يا قذر</td>\n",
              "      <td>abusive</td>\n",
              "    </tr>\n",
              "    <tr>\n",
              "      <th>4</th>\n",
              "      <td>شو بتلبقلك كلمة خنزير بتجي مفصله على قياسك وشكلك</td>\n",
              "      <td>abusive</td>\n",
              "    </tr>\n",
              "  </tbody>\n",
              "</table>\n",
              "</div>"
            ],
            "text/plain": [
              "                                               Tweet    Class\n",
              "0  الوزير جبران باسيل تاج راسك يا جربان ممنوع بعد...  abusive\n",
              "1  صديقي انت ابن جامعه اللعبه اكبر من داعش اللعبه...   normal\n",
              "2  و مصلحة لبنان تبدا باستخراج النفط و الغاز لوقف...   normal\n",
              "3                     وليد جنبلاط كاتب الحكمة يا قذر  abusive\n",
              "4   شو بتلبقلك كلمة خنزير بتجي مفصله على قياسك وشكلك  abusive"
            ]
          },
          "metadata": {
            "tags": []
          },
          "execution_count": 9
        }
      ]
    },
    {
      "cell_type": "markdown",
      "metadata": {
        "id": "b7mNIvVCiyDQ"
      },
      "source": [
        "## Removing Stop Words"
      ]
    },
    {
      "cell_type": "code",
      "metadata": {
        "id": "MqAxdDnRhxmM"
      },
      "source": [
        "stops = set(stopwords.words(\"arabic\"))\n",
        "\n",
        "stop_word_comp = {\"،\",\"آض\",\"آمينَ\",\"آه\",\"آهاً\",\"آي\",\"أ\",\"أب\",\"أجل\",\"أجمع\",\"أخ\",\"أخذ\",\"أصبح\",\"أضحى\",\"أقبل\",\"أقل\",\"أكثر\",\"ألا\",\"أم\",\"أما\",\"أمامك\",\n",
        "                  \"أمامكَ\",\"أمسى\",\"أمّا\",\"أن\",\"أنا\",\"أنت\",\"أنتم\",\"أنتما\",\"أنتن\",\"أنتِ\",\"أنشأ\",\"أنّى\",\"أو\",\"أوشك\",\"أولئك\",\"أولئكم\",\n",
        "                  \"أولاء\",\"أولالك\",\"أوّهْ\",\"أي\",\"أيا\",\"أين\",\"أينما\",\"أيّ\",\"أَنَّ\",\"أََيُّ\",\"أُفٍّ\",\"إذ\",\"إذا\",\"إذاً\",\"إذما\",\"إذن\",\"إلى\",\n",
        "                  \"إليكم\",\"إليكما\",\"إليكنّ\",\"إليكَ\",\"إلَيْكَ\",\"إلّا\",\"إمّا\",\"إن\",\"إنّما\",\"إي\",\"إياك\",\"إياكم\",\"إياكما\",\"إياكن\",\"إيانا\",\"إياه\",\n",
        "                  \"إياها\",\"إياهم\",\"إياهما\",\"إياهن\",\"إياي\",\"إيهٍ\",\"إِنَّ\",\"ا\",\"ابتدأ\",\"اثر\",\"اجل\",\"احد\",\"اخرى\",\"اخلولق\",\"اذا\",\"اربعة\",\n",
        "                  \"ارتدّ\",\"استحال\",\"اطار\",\"اعادة\",\"اعلنت\",\"اف\",\"اكثر\",\"اكد\",\"الألاء\",\"الألى\",\"الا\",\"الاخيرة\",\"الان\",\"الاول\",\"الاولى\",\n",
        "                  \"التى\",\"التي\",\"الثاني\",\"الثانية\",\"الذاتي\",\"الذى\",\"الذي\",\"الذين\",\"السابق\",\"الف\",\"اللائي\",\"اللاتي\",\"اللتان\",\"اللتيا\",\"اللتين\",\n",
        "                  \"اللذان\",\"اللذين\",\"اللواتي\",\"الماضي\",\"المقبل\",\"الوقت\",\"الى\",\"اليوم\",\"اما\",\"امام\",\"امس\",\"ان\",\"انبرى\",\"انقلب\",\"انه\",\n",
        "                  \"انها\",\"او\",\"اول\",\"اي\",\"ايار\",\"ايام\",\"ايضا\",\"ب\",\"بات\",\"باسم\",\"بان\",\"بخٍ\",\"برس\",\"بسبب\",\"بسّ\",\"بشكل\",\"بضع\",\n",
        "                  \"بطآن\",\"بعد\",\"بعض\",\"بك\",\"بكم\",\"بكما\",\"بكن\",\"بل\",\"بلى\",\"بما\",\"بماذا\",\"بمن\",\"بن\",\"بنا\",\"به\",\"بها\",\"بي\",\"بيد\",\n",
        "                  \"بين\",\"بَسْ\",\"بَلْهَ\",\"بِئْسَ\",\"تانِ\",\"تانِك\",\"تبدّل\",\"تجاه\",\"تحوّل\",\"تلقاء\",\"تلك\",\"تلكم\",\"تلكما\",\"تم\",\"تينك\",\"تَيْنِ\",\"تِه\",\n",
        "                  \"تِي\",\"ثلاثة\",\"ثم\",\"ثمّ\",\"ثمّة\",\"ثُمَّ\",\"جعل\",\"جلل\",\"جميع\",\"جير\",\"حار\",\"حاشا\",\"حاليا\",\"حاي\",\"حتى\",\"حرى\",\"حسب\",\n",
        "                  \"حم\",\"حوالى\",\"حول\",\"حيث\",\"حيثما\",\"حين\",\"حيَّ\",\"حَبَّذَا\",\"حَتَّى\",\"حَذارِ\",\"خلا\",\"خلال\",\"دون\",\"دونك\",\"ذا\",\"ذات\",\n",
        "                  \"ذاك\",\"ذانك\",\"ذانِ\",\"ذلك\",\"ذلكم\",\"ذلكما\",\"ذلكن\",\"ذو\",\"ذوا\",\"ذواتا\",\"ذواتي\",\"ذيت\",\"ذينك\",\"ذَيْنِ\",\"ذِه\",\"ذِي\",\"راح\",\n",
        "                  \"رجع\",\"رويدك\",\"ريث\",\"رُبَّ\",\"زيارة\",\"سبحان\",\"سرعان\",\"سنة\",\"سنوات\",\"سوف\",\"سوى\",\"سَاءَ\",\"سَاءَمَا\",\"شبه\",\"شخصا\",\n",
        "                  \"شرع\",\"شَتَّانَ\",\"صار\",\"صباح\",\"صفر\",\"صهٍ\",\"صهْ\",\"ضد\",\"ضمن\",\"طاق\",\"طالما\",\"طفق\",\"طَق\",\"ظلّ\",\"عاد\",\"عام\",\n",
        "                  \"عاما\",\"عامة\",\"عدا\",\"عدة\",\"عدد\",\"عدم\",\"عسى\",\"عشر\",\"عشرة\",\"علق\",\"على\",\"عليك\",\"عليه\",\"عليها\",\"علًّ\",\"عن\",\n",
        "                  \"عند\",\"عندما\",\"عوض\",\"عين\",\"عَدَسْ\",\"عَمَّا\",\"غدا\",\"غير\",\"ـ\",\"ف\",\"فان\",\"فلان\",\"فو\",\"فى\",\"في\",\"فيم\",\"فيما\",\n",
        "                  \"فيه\",\"فيها\",\"قال\",\"قام\",\"قبل\",\"قد\",\"قطّ\",\"قلما\",\"قوة\",\"كأنّما\",\"كأين\",\"كأيّ\",\"كأيّن\",\"كاد\",\"كان\",\"كانت\",\"كذا\",\n",
        "                  \"كذلك\",\"كرب\",\"كل\",\"كلا\",\"كلاهما\",\"كلتا\",\"كلم\",\"كليكما\",\"كليهما\",\"كلّما\",\"كلَّا\",\"كم\",\"كما\",\"كي\",\"كيت\",\"كيف\",\n",
        "                  \"كيفما\",\"كَأَنَّ\",\"كِخ\",\"لئن\",\"لا\",\"لات\",\"لاسيما\",\"لدن\",\"لدى\",\"لعمر\",\"لقاء\",\"لك\",\"لكم\",\"لكما\",\"لكن\",\"لكنَّما\",\"لكي\",\n",
        "                  \"لكيلا\",\"للامم\",\"لم\",\"لما\",\"لمّا\",\"لن\",\"لنا\",\"له\",\"لها\",\"لو\",\"لوكالة\",\"لولا\",\"لوما\",\"لي\",\"لَسْتَ\",\"لَسْتُ\",\"لَسْتُم\",\"لَسْتُمَا\",\n",
        "                  \"لَسْتُنَّ\",\"لَسْتِ\",\"لَسْنَ\",\"لَعَلَّ\",\"لَكِنَّ\",\"لَيْتَ\",\"لَيْسَ\",\"لَيْسَا\",\"لَيْسَتَا\",\"لَيْسَتْ\",\"لَيْسُوا\",\"لَِسْنَا\",\"ما\",\"ماانفك\",\"مابرح\",\"مادام\",\n",
        "                  \"ماذا\",\"مازال\",\"مافتئ\",\"مايو\",\"متى\",\"مثل\",\"مذ\",\"مساء\",\"مع\",\"معاذ\",\"مقابل\",\"مكانكم\",\"مكانكما\",\"مكانكنّ\",\"مكانَك\",\n",
        "                  \"مليار\",\"مليون\",\"مما\",\"ممن\",\"من\",\"منذ\",\"منها\",\"مه\",\"مهما\",\"مَنْ\",\"مِن\",\"نحن\",\"نحو\",\"نعم\",\"نفس\",\"نفسه\",\"نهاية\",\n",
        "                  \"نَخْ\",\"نِعِمّا\",\"نِعْمَ\",\"ها\",\"هاؤم\",\"هاكَ\",\"هاهنا\",\"هبّ\",\"هذا\",\"هذه\",\"هكذا\",\"هل\",\"هلمَّ\",\"هلّا\",\"هم\",\"هما\",\"هن\",\"هنا\",\n",
        "                  \"هناك\",\"هنالك\",\"هو\",\"هي\",\"هيا\",\"هيت\",\"هيّا\",\"هَؤلاء\",\"هَاتانِ\",\"هَاتَيْنِ\",\"هَاتِه\",\"هَاتِي\",\"هَجْ\",\"هَذا\",\"هَذانِ\",\"هَذَيْنِ\",\"هَذِه\",\n",
        "                  \"هَذِي\",\"هَيْهَاتَ\",\"و\",\"و6\",\"وا\",\"واحد\",\"واضاف\",\"واضافت\",\"واكد\",\"وان\",\"واهاً\",\"واوضح\",\"وراءَك\",\"وفي\",\"وقال\",\"وقالت\",\n",
        "                  \"وقد\",\"وقف\",\"وكان\",\"وكانت\",\"ولا\",\"ولم\",\"ومن\",\"مَن\",\"وهو\",\"وهي\",\"ويكأنّ\",\"وَيْ\",\"وُشْكَانََ\",\"يكون\",\"يمكن\",\"يوم\",\"ّأيّان\"}"
      ],
      "execution_count": null,
      "outputs": []
    },
    {
      "cell_type": "code",
      "metadata": {
        "id": "NqkDzJ_ysbzG"
      },
      "source": [
        "def tokenize_text(text):\n",
        "    tokens = word_tokenize(text) \n",
        "    tokens = [token.strip() for token in tokens]\n",
        "    return tokens\n",
        "\n",
        "def remove_stopwords(text):\n",
        "    tokens = tokenize_text(text)\n",
        "    filtered_tokens = [token for token in tokens if token not in stops and token not in stop_word_comp]\n",
        "    filtered_text = ' '.join(filtered_tokens)    \n",
        "    return filtered_text"
      ],
      "execution_count": null,
      "outputs": []
    },
    {
      "cell_type": "code",
      "metadata": {
        "colab": {
          "base_uri": "https://localhost:8080/"
        },
        "id": "e7OgjMfqrkCc",
        "outputId": "5cd456bf-bcde-4f99-bec7-31642aa7fc31"
      },
      "source": [
        "data['Tweet'] = data['Tweet'].apply(lambda x:remove_stopwords(x))\n",
        "data.head()"
      ],
      "execution_count": null,
      "outputs": [
        {
          "output_type": "execute_result",
          "data": {
            "text/html": [
              "<div>\n",
              "<style scoped>\n",
              "    .dataframe tbody tr th:only-of-type {\n",
              "        vertical-align: middle;\n",
              "    }\n",
              "\n",
              "    .dataframe tbody tr th {\n",
              "        vertical-align: top;\n",
              "    }\n",
              "\n",
              "    .dataframe thead th {\n",
              "        text-align: right;\n",
              "    }\n",
              "</style>\n",
              "<table border=\"1\" class=\"dataframe\">\n",
              "  <thead>\n",
              "    <tr style=\"text-align: right;\">\n",
              "      <th></th>\n",
              "      <th>Tweet</th>\n",
              "      <th>Class</th>\n",
              "    </tr>\n",
              "  </thead>\n",
              "  <tbody>\n",
              "    <tr>\n",
              "      <th>0</th>\n",
              "      <td>الوزير جبران باسيل تاج راسك جربان ممنوع المساس...</td>\n",
              "      <td>abusive</td>\n",
              "    </tr>\n",
              "    <tr>\n",
              "      <th>1</th>\n",
              "      <td>صديقي انت ابن جامعه اللعبه اكبر داعش اللعبه سن...</td>\n",
              "      <td>normal</td>\n",
              "    </tr>\n",
              "    <tr>\n",
              "      <th>2</th>\n",
              "      <td>مصلحة لبنان تبدا باستخراج النفط الغاز لوقف الش...</td>\n",
              "      <td>normal</td>\n",
              "    </tr>\n",
              "    <tr>\n",
              "      <th>3</th>\n",
              "      <td>وليد جنبلاط كاتب الحكمة قذر</td>\n",
              "      <td>abusive</td>\n",
              "    </tr>\n",
              "    <tr>\n",
              "      <th>4</th>\n",
              "      <td>شو بتلبقلك كلمة خنزير بتجي مفصله قياسك وشكلك</td>\n",
              "      <td>abusive</td>\n",
              "    </tr>\n",
              "  </tbody>\n",
              "</table>\n",
              "</div>"
            ],
            "text/plain": [
              "                                               Tweet    Class\n",
              "0  الوزير جبران باسيل تاج راسك جربان ممنوع المساس...  abusive\n",
              "1  صديقي انت ابن جامعه اللعبه اكبر داعش اللعبه سن...   normal\n",
              "2  مصلحة لبنان تبدا باستخراج النفط الغاز لوقف الش...   normal\n",
              "3                        وليد جنبلاط كاتب الحكمة قذر  abusive\n",
              "4       شو بتلبقلك كلمة خنزير بتجي مفصله قياسك وشكلك  abusive"
            ]
          },
          "metadata": {
            "tags": []
          },
          "execution_count": 12
        }
      ]
    },
    {
      "cell_type": "markdown",
      "metadata": {
        "id": "FBeTY8ClEaDO"
      },
      "source": [
        "## Stemming"
      ]
    },
    {
      "cell_type": "code",
      "metadata": {
        "id": "8qEQnTIoEcEj"
      },
      "source": [
        "# st = ISRIStemmer()\n",
        "\n",
        "# def stem(text):\n",
        "#   for token in word_tokenize(text):\n",
        "#     text = ' '.join(st.stem(token))\n",
        "#   return text"
      ],
      "execution_count": null,
      "outputs": []
    },
    {
      "cell_type": "code",
      "metadata": {
        "id": "lsLq0MjIBL2X"
      },
      "source": [
        "# ArListem = ArabicLightStemmer()\n",
        "\n",
        "# def stem(text):\n",
        "#     zen = TextBlob(text)\n",
        "#     words = zen.words\n",
        "#     cleaned = list()\n",
        "#     for w in words:\n",
        "#         ArListem.light_stem(w)\n",
        "#         cleaned.append(ArListem.get_root())\n",
        "#     return \" \".join(cleaned)"
      ],
      "execution_count": null,
      "outputs": []
    },
    {
      "cell_type": "code",
      "metadata": {
        "id": "hNkvAsvh_NJu"
      },
      "source": [
        "# data['Tweet'] = data['Tweet'].apply(lambda x:stem(x))\n",
        "# data.head()"
      ],
      "execution_count": null,
      "outputs": []
    },
    {
      "cell_type": "markdown",
      "metadata": {
        "id": "zuTb9UzUtquU"
      },
      "source": [
        "## Removing Emojis"
      ]
    },
    {
      "cell_type": "code",
      "metadata": {
        "id": "-4xB3LUbtp-o"
      },
      "source": [
        "def remove_emoji(text):\n",
        "    emoji_pattern = re.compile(\"[\"\n",
        "                                   u\"\\U0001F600-\\U0001F64F\"  # emoticons\n",
        "                                   u\"\\U0001F300-\\U0001F5FF\"  # symbols & pictographs\n",
        "                                   u\"\\U0001F680-\\U0001F6FF\"  # transport & map symbols\n",
        "                                   u\"\\U0001F1E0-\\U0001F1FF\"  # flags (iOS)\n",
        "                                   u\"\\U00002702-\\U000027B0\"\n",
        "                                   u\"\\U000024C2-\\U0001F251\"\n",
        "                                   \"]+\", flags=re.UNICODE)\n",
        "    text = emoji_pattern.sub(r'', text)\n",
        "    return text"
      ],
      "execution_count": null,
      "outputs": []
    },
    {
      "cell_type": "code",
      "metadata": {
        "colab": {
          "base_uri": "https://localhost:8080/"
        },
        "id": "a7gYXgM8y-wD",
        "outputId": "4e32ca9a-31b5-43a6-a8b3-b035aa130ff8"
      },
      "source": [
        "data['Tweet'] = data['Tweet'].apply(lambda x:remove_emoji(x))\n",
        "data.head()"
      ],
      "execution_count": null,
      "outputs": [
        {
          "output_type": "execute_result",
          "data": {
            "text/html": [
              "<div>\n",
              "<style scoped>\n",
              "    .dataframe tbody tr th:only-of-type {\n",
              "        vertical-align: middle;\n",
              "    }\n",
              "\n",
              "    .dataframe tbody tr th {\n",
              "        vertical-align: top;\n",
              "    }\n",
              "\n",
              "    .dataframe thead th {\n",
              "        text-align: right;\n",
              "    }\n",
              "</style>\n",
              "<table border=\"1\" class=\"dataframe\">\n",
              "  <thead>\n",
              "    <tr style=\"text-align: right;\">\n",
              "      <th></th>\n",
              "      <th>Tweet</th>\n",
              "      <th>Class</th>\n",
              "    </tr>\n",
              "  </thead>\n",
              "  <tbody>\n",
              "    <tr>\n",
              "      <th>0</th>\n",
              "      <td>الوزير جبران باسيل تاج راسك جربان ممنوع المساس...</td>\n",
              "      <td>abusive</td>\n",
              "    </tr>\n",
              "    <tr>\n",
              "      <th>1</th>\n",
              "      <td>صديقي انت ابن جامعه اللعبه اكبر داعش اللعبه سن...</td>\n",
              "      <td>normal</td>\n",
              "    </tr>\n",
              "    <tr>\n",
              "      <th>2</th>\n",
              "      <td>مصلحة لبنان تبدا باستخراج النفط الغاز لوقف الش...</td>\n",
              "      <td>normal</td>\n",
              "    </tr>\n",
              "    <tr>\n",
              "      <th>3</th>\n",
              "      <td>وليد جنبلاط كاتب الحكمة قذر</td>\n",
              "      <td>abusive</td>\n",
              "    </tr>\n",
              "    <tr>\n",
              "      <th>4</th>\n",
              "      <td>شو بتلبقلك كلمة خنزير بتجي مفصله قياسك وشكلك</td>\n",
              "      <td>abusive</td>\n",
              "    </tr>\n",
              "  </tbody>\n",
              "</table>\n",
              "</div>"
            ],
            "text/plain": [
              "                                               Tweet    Class\n",
              "0  الوزير جبران باسيل تاج راسك جربان ممنوع المساس...  abusive\n",
              "1  صديقي انت ابن جامعه اللعبه اكبر داعش اللعبه سن...   normal\n",
              "2  مصلحة لبنان تبدا باستخراج النفط الغاز لوقف الش...   normal\n",
              "3                        وليد جنبلاط كاتب الحكمة قذر  abusive\n",
              "4       شو بتلبقلك كلمة خنزير بتجي مفصله قياسك وشكلك  abusive"
            ]
          },
          "metadata": {
            "tags": []
          },
          "execution_count": 17
        }
      ]
    },
    {
      "cell_type": "markdown",
      "metadata": {
        "id": "25aQDi-8zT71"
      },
      "source": [
        "## Text Cleaning"
      ]
    },
    {
      "cell_type": "code",
      "metadata": {
        "id": "wlCoqRzLzVkf"
      },
      "source": [
        "def clean_text(text):\n",
        "    text = re.sub('[%s]' % re.escape(\"\"\"!\"#$%&'()*+,،-./:;<=>؟?@[\\]^_`{|}~\"\"\"), ' ', text)  # remove punctuation\n",
        "    text = re.sub('\\s+', ' ', text)  \n",
        "    text = re.sub(\"\\d+\", \" \", text)\n",
        "    text = re.sub('\\W+', ' ', text)\n",
        "    text = re.sub('[A-Za-z]+',' ',text)\n",
        "    text = re.sub(r'\\\\u[A-Za-z0-9\\\\]+',' ',text)\n",
        "    text = re.sub('\\s+', ' ', text)  \n",
        "    return text"
      ],
      "execution_count": null,
      "outputs": []
    },
    {
      "cell_type": "code",
      "metadata": {
        "colab": {
          "base_uri": "https://localhost:8080/"
        },
        "id": "Qto3uvtoCQ5n",
        "outputId": "1cac06cc-3492-4b49-bf14-99aafb0d27dd"
      },
      "source": [
        "data['Tweet'] = data['Tweet'].apply(lambda x:clean_text(x))\n",
        "data.head()"
      ],
      "execution_count": null,
      "outputs": [
        {
          "output_type": "execute_result",
          "data": {
            "text/html": [
              "<div>\n",
              "<style scoped>\n",
              "    .dataframe tbody tr th:only-of-type {\n",
              "        vertical-align: middle;\n",
              "    }\n",
              "\n",
              "    .dataframe tbody tr th {\n",
              "        vertical-align: top;\n",
              "    }\n",
              "\n",
              "    .dataframe thead th {\n",
              "        text-align: right;\n",
              "    }\n",
              "</style>\n",
              "<table border=\"1\" class=\"dataframe\">\n",
              "  <thead>\n",
              "    <tr style=\"text-align: right;\">\n",
              "      <th></th>\n",
              "      <th>Tweet</th>\n",
              "      <th>Class</th>\n",
              "    </tr>\n",
              "  </thead>\n",
              "  <tbody>\n",
              "    <tr>\n",
              "      <th>0</th>\n",
              "      <td>الوزير جبران باسيل تاج راسك جربان ممنوع المساس...</td>\n",
              "      <td>abusive</td>\n",
              "    </tr>\n",
              "    <tr>\n",
              "      <th>1</th>\n",
              "      <td>صديقي انت ابن جامعه اللعبه اكبر داعش اللعبه سن...</td>\n",
              "      <td>normal</td>\n",
              "    </tr>\n",
              "    <tr>\n",
              "      <th>2</th>\n",
              "      <td>مصلحة لبنان تبدا باستخراج النفط الغاز لوقف الش...</td>\n",
              "      <td>normal</td>\n",
              "    </tr>\n",
              "    <tr>\n",
              "      <th>3</th>\n",
              "      <td>وليد جنبلاط كاتب الحكمة قذر</td>\n",
              "      <td>abusive</td>\n",
              "    </tr>\n",
              "    <tr>\n",
              "      <th>4</th>\n",
              "      <td>شو بتلبقلك كلمة خنزير بتجي مفصله قياسك وشكلك</td>\n",
              "      <td>abusive</td>\n",
              "    </tr>\n",
              "  </tbody>\n",
              "</table>\n",
              "</div>"
            ],
            "text/plain": [
              "                                               Tweet    Class\n",
              "0  الوزير جبران باسيل تاج راسك جربان ممنوع المساس...  abusive\n",
              "1  صديقي انت ابن جامعه اللعبه اكبر داعش اللعبه سن...   normal\n",
              "2  مصلحة لبنان تبدا باستخراج النفط الغاز لوقف الش...   normal\n",
              "3                        وليد جنبلاط كاتب الحكمة قذر  abusive\n",
              "4       شو بتلبقلك كلمة خنزير بتجي مفصله قياسك وشكلك  abusive"
            ]
          },
          "metadata": {
            "tags": []
          },
          "execution_count": 19
        }
      ]
    },
    {
      "cell_type": "markdown",
      "metadata": {
        "id": "FRqQAT59bB73"
      },
      "source": [
        "# Splitting the Dataset into Train, Validation, and Test"
      ]
    },
    {
      "cell_type": "code",
      "metadata": {
        "id": "qU7Cs5TSdD9n"
      },
      "source": [
        "le = preprocessing.LabelEncoder()\n",
        "le.fit(data.Class)\n",
        "y_encode = le.transform(data.Class)\n",
        "\n",
        "# le.inverse_transform(y_encode)"
      ],
      "execution_count": null,
      "outputs": []
    },
    {
      "cell_type": "code",
      "metadata": {
        "id": "KRXre2XP8Fwr"
      },
      "source": [
        "data_df = pd.DataFrame({'Target Label': y_encode, 'Target Name': data.Class, 'Tweet': data.Tweet})"
      ],
      "execution_count": null,
      "outputs": []
    },
    {
      "cell_type": "code",
      "metadata": {
        "colab": {
          "base_uri": "https://localhost:8080/"
        },
        "id": "WgXgXwBu80fi",
        "outputId": "d44a4440-a0ec-4ecb-eb75-fb0a25cfa1f8"
      },
      "source": [
        "data_df.head()"
      ],
      "execution_count": null,
      "outputs": [
        {
          "output_type": "execute_result",
          "data": {
            "text/html": [
              "<div>\n",
              "<style scoped>\n",
              "    .dataframe tbody tr th:only-of-type {\n",
              "        vertical-align: middle;\n",
              "    }\n",
              "\n",
              "    .dataframe tbody tr th {\n",
              "        vertical-align: top;\n",
              "    }\n",
              "\n",
              "    .dataframe thead th {\n",
              "        text-align: right;\n",
              "    }\n",
              "</style>\n",
              "<table border=\"1\" class=\"dataframe\">\n",
              "  <thead>\n",
              "    <tr style=\"text-align: right;\">\n",
              "      <th></th>\n",
              "      <th>Target Label</th>\n",
              "      <th>Target Name</th>\n",
              "      <th>Tweet</th>\n",
              "    </tr>\n",
              "  </thead>\n",
              "  <tbody>\n",
              "    <tr>\n",
              "      <th>0</th>\n",
              "      <td>0</td>\n",
              "      <td>abusive</td>\n",
              "      <td>الوزير جبران باسيل تاج راسك جربان ممنوع المساس...</td>\n",
              "    </tr>\n",
              "    <tr>\n",
              "      <th>1</th>\n",
              "      <td>2</td>\n",
              "      <td>normal</td>\n",
              "      <td>صديقي انت ابن جامعه اللعبه اكبر داعش اللعبه سن...</td>\n",
              "    </tr>\n",
              "    <tr>\n",
              "      <th>2</th>\n",
              "      <td>2</td>\n",
              "      <td>normal</td>\n",
              "      <td>مصلحة لبنان تبدا باستخراج النفط الغاز لوقف الش...</td>\n",
              "    </tr>\n",
              "    <tr>\n",
              "      <th>3</th>\n",
              "      <td>0</td>\n",
              "      <td>abusive</td>\n",
              "      <td>وليد جنبلاط كاتب الحكمة قذر</td>\n",
              "    </tr>\n",
              "    <tr>\n",
              "      <th>4</th>\n",
              "      <td>0</td>\n",
              "      <td>abusive</td>\n",
              "      <td>شو بتلبقلك كلمة خنزير بتجي مفصله قياسك وشكلك</td>\n",
              "    </tr>\n",
              "  </tbody>\n",
              "</table>\n",
              "</div>"
            ],
            "text/plain": [
              "   Target Label Target Name                                              Tweet\n",
              "0             0     abusive  الوزير جبران باسيل تاج راسك جربان ممنوع المساس...\n",
              "1             2      normal  صديقي انت ابن جامعه اللعبه اكبر داعش اللعبه سن...\n",
              "2             2      normal  مصلحة لبنان تبدا باستخراج النفط الغاز لوقف الش...\n",
              "3             0     abusive                        وليد جنبلاط كاتب الحكمة قذر\n",
              "4             0     abusive       شو بتلبقلك كلمة خنزير بتجي مفصله قياسك وشكلك"
            ]
          },
          "metadata": {
            "tags": []
          },
          "execution_count": 22
        }
      ]
    },
    {
      "cell_type": "code",
      "metadata": {
        "id": "XQO760ifnXzB"
      },
      "source": [
        "train_corpus, test_corpus, train_label_nums, test_label_nums, train_label_names, test_label_names = train_test_split(np.array(data_df['Tweet']),\n",
        "                                                                                                                         np.array(data_df['Target Label']),\n",
        "                                                                                                                         np.array(data_df['Target Name']),\n",
        "                                                                                                                         stratify=data_df['Target Label'],\n",
        "                                                                                                                         test_size=0.15, random_state=42)\n",
        "\n",
        "train_corpus, valid_corpus, train_label_nums, valid_label_nums, train_label_names, valid_label_names = train_test_split(train_corpus,\n",
        "                                                                                                                          train_label_nums,\n",
        "                                                                                                                          train_label_names,\n",
        "                                                                                                                          stratify=train_label_nums,\n",
        "                                                                                                                          test_size=0.25, random_state=42)"
      ],
      "execution_count": null,
      "outputs": []
    },
    {
      "cell_type": "code",
      "metadata": {
        "colab": {
          "base_uri": "https://localhost:8080/"
        },
        "id": "_MCUz4IBe55A",
        "outputId": "e52ad211-2bfe-4090-9d78-dd42c2db51f5"
      },
      "source": [
        "print('The Train Corpus has: ', len(train_corpus), ' rows' )\n",
        "print('The Validation Corpus has: ', len(valid_corpus), ' rows' )\n",
        "print('The Test Corpus has: ', len(test_corpus), ' rows' )"
      ],
      "execution_count": null,
      "outputs": [
        {
          "output_type": "stream",
          "text": [
            "The Train Corpus has:  3726  rows\n",
            "The Validation Corpus has:  1243  rows\n",
            "The Test Corpus has:  877  rows\n"
          ],
          "name": "stdout"
        }
      ]
    },
    {
      "cell_type": "markdown",
      "metadata": {
        "id": "Vrus_cV4XLHR"
      },
      "source": [
        "# Models"
      ]
    },
    {
      "cell_type": "markdown",
      "metadata": {
        "id": "mvsUHWLGaoUb"
      },
      "source": [
        "### 1. Multinomial Naive Bayes Classifier"
      ]
    },
    {
      "cell_type": "code",
      "metadata": {
        "id": "Ybkt7Q-F__6n"
      },
      "source": [
        "text_mnb = Pipeline([('vect', CountVectorizer()), ('tfidf', TfidfTransformer()), ('mnb', MultinomialNB())])\n",
        "\n",
        "parameters_mnb = {\n",
        "    'vect__min_df': [0.1, 0.3, 0.5],\n",
        "    'vect__max_df': [0.5, 0.75, 1.0],\n",
        "    'vect__max_features': [None, 5000, 10000, 50000],\n",
        "    'vect__ngram_range': [(1, 1), (1, 2)],  \n",
        "    'tfidf__use_idf': [True, False],\n",
        "    'tfidf__norm': ['l1', 'l2', None],\n",
        "    'mnb__fit_prior': [True, False],\n",
        "    'mnb__alpha': [0.00001, 0.0001, 0.001, 0.01, 1],\n",
        "}"
      ],
      "execution_count": null,
      "outputs": []
    },
    {
      "cell_type": "code",
      "metadata": {
        "colab": {
          "base_uri": "https://localhost:8080/"
        },
        "id": "yekwSWrba22h",
        "outputId": "b790b9e7-c2ad-4e00-9562-3e1b7ed1356e"
      },
      "source": [
        "grid_search_mnb = GridSearchCV(text_mnb, parameters_mnb, n_jobs=-1, cv=5, refit=True)\n",
        "\n",
        "grid_search_mnb.fit(train_corpus, train_label_names)"
      ],
      "execution_count": null,
      "outputs": [
        {
          "output_type": "execute_result",
          "data": {
            "text/plain": [
              "GridSearchCV(cv=5,\n",
              "             estimator=Pipeline(steps=[('vect', CountVectorizer()),\n",
              "                                       ('tfidf', TfidfTransformer()),\n",
              "                                       ('mnb', MultinomialNB())]),\n",
              "             n_jobs=-1,\n",
              "             param_grid={'mnb__alpha': [1e-05, 0.0001, 0.001, 0.01, 1],\n",
              "                         'mnb__fit_prior': [True, False],\n",
              "                         'tfidf__norm': ['l1', 'l2', None],\n",
              "                         'tfidf__use_idf': [True, False],\n",
              "                         'vect__max_df': [0.5, 0.75, 1.0],\n",
              "                         'vect__max_features': [None, 5000, 10000, 50000],\n",
              "                         'vect__min_df': [0.1, 0.3, 0.5],\n",
              "                         'vect__ngram_range': [(1, 1), (1, 2)]})"
            ]
          },
          "metadata": {
            "tags": []
          },
          "execution_count": 107
        }
      ]
    },
    {
      "cell_type": "code",
      "metadata": {
        "colab": {
          "base_uri": "https://localhost:8080/"
        },
        "id": "5xnkCwRpWKsF",
        "outputId": "e35abe60-9153-4fe7-b58a-957bc73eaf37"
      },
      "source": [
        "print(\"Best score: %0.3f\" % grid_search_mnb.best_score_)\n",
        "print(\"Best parameters set:\")\n",
        "\n",
        "best_parameters_mnb = grid_search_mnb.best_estimator_.get_params()\n",
        "\n",
        "for param_name in (parameters_mnb.keys()):\n",
        "    print(\"\\t%s: %r\" % (param_name, best_parameters_mnb[param_name]))"
      ],
      "execution_count": null,
      "outputs": [
        {
          "output_type": "stream",
          "text": [
            "Best score: 0.624\n",
            "Best parameters set:\n",
            "\tvect__min_df: 0.1\n",
            "\tvect__max_df: 0.5\n",
            "\tvect__max_features: None\n",
            "\tvect__ngram_range: (1, 1)\n",
            "\ttfidf__use_idf: True\n",
            "\ttfidf__norm: 'l1'\n",
            "\tmnb__fit_prior: True\n",
            "\tmnb__alpha: 1e-05\n"
          ],
          "name": "stdout"
        }
      ]
    },
    {
      "cell_type": "code",
      "metadata": {
        "id": "aRAluWLss38W"
      },
      "source": [
        "grid_search_mnb_train = grid_search_mnb.score(train_corpus, train_label_names)\n",
        "grid_search_mnb_valid = grid_search_mnb.score(valid_corpus, valid_label_names)"
      ],
      "execution_count": null,
      "outputs": []
    },
    {
      "cell_type": "code",
      "metadata": {
        "colab": {
          "base_uri": "https://localhost:8080/"
        },
        "id": "y_lAVuKsWfdn",
        "outputId": "4ef62a32-f87b-43fe-c80c-9d330b24ce93"
      },
      "source": [
        "print(\"Best Multinomial Classifier Train Accuracy: {}\".format(grid_search_mnb.score(train_corpus, train_label_names)))\n",
        "print(\"Best Multinomial Classifier Valid Accuracy: {}\".format(grid_search_mnb.score(valid_corpus, valid_label_names)))"
      ],
      "execution_count": null,
      "outputs": [
        {
          "output_type": "stream",
          "text": [
            "Best Multinomial Classifier Train Accuracy: 0.6242619431025228\n",
            "Best Multinomial Classifier Valid Accuracy: 0.6242960579243765\n"
          ],
          "name": "stdout"
        }
      ]
    },
    {
      "cell_type": "markdown",
      "metadata": {
        "id": "XK8tcghouuQu"
      },
      "source": [
        "### 2. Logistic Regression Classifier"
      ]
    },
    {
      "cell_type": "code",
      "metadata": {
        "id": "miaU1jsOuxGQ"
      },
      "source": [
        "text_log = Pipeline([('vect', CountVectorizer()), ('tfidf', TfidfTransformer()), ('log', LogisticRegression())])\n",
        "\n",
        "parameters_log = {\n",
        "    'vect__min_df': [0.0, 0.1, 0.3, 0.5],\n",
        "    'vect__max_df': [0.5, 0.75, 1.0],\n",
        "    'vect__max_features': [None, 5000, 10000, 50000],\n",
        "    'vect__ngram_range': [(1, 1), (1, 2)], \n",
        "    'tfidf__use_idf': [True, False],\n",
        "    'tfidf__norm': ['l1', 'l2', None],\n",
        "    'log__solver': ['lbfgs', 'liblinear'], \n",
        "    'log__penalty': ['l1', 'l2'], \n",
        "    'log__C': [200, 100, 50, 10],\n",
        "}"
      ],
      "execution_count": null,
      "outputs": []
    },
    {
      "cell_type": "code",
      "metadata": {
        "colab": {
          "base_uri": "https://localhost:8080/"
        },
        "id": "mKloBsKpvu8K",
        "outputId": "90f6068c-afa0-4852-a507-3cf133923b3f"
      },
      "source": [
        "grid_search_log = GridSearchCV(text_log, parameters_log, n_jobs=-1, cv=3, refit=True)\n",
        "\n",
        "grid_search_log.fit(train_corpus, train_label_names)"
      ],
      "execution_count": null,
      "outputs": [
        {
          "output_type": "execute_result",
          "data": {
            "text/plain": [
              "GridSearchCV(cv=3,\n",
              "             estimator=Pipeline(steps=[('vect', CountVectorizer()),\n",
              "                                       ('tfidf', TfidfTransformer()),\n",
              "                                       ('log', LogisticRegression())]),\n",
              "             n_jobs=-1,\n",
              "             param_grid={'log__C': [200, 100, 50, 10],\n",
              "                         'log__penalty': ['l1', 'l2'],\n",
              "                         'log__solver': ['lbfgs', 'liblinear'],\n",
              "                         'tfidf__norm': ['l1', 'l2', None],\n",
              "                         'tfidf__use_idf': [True, False],\n",
              "                         'vect__max_df': [0.5, 0.75, 1.0],\n",
              "                         'vect__max_features': [None, 5000, 10000, 50000],\n",
              "                         'vect__min_df': [0.0, 0.1, 0.3, 0.5],\n",
              "                         'vect__ngram_range': [(1, 1), (1, 2)]})"
            ]
          },
          "metadata": {
            "tags": []
          },
          "execution_count": 66
        }
      ]
    },
    {
      "cell_type": "code",
      "metadata": {
        "colab": {
          "base_uri": "https://localhost:8080/"
        },
        "id": "X0Vr1MdMmSsv",
        "outputId": "3f8f5848-955f-4b35-8d3d-417cb1ff63d1"
      },
      "source": [
        "print(\"Best score: %0.3f\" % grid_search_log.best_score_)\n",
        "print(\"Best parameters set:\")\n",
        "\n",
        "best_parameters_log = grid_search_log.best_estimator_.get_params()\n",
        "\n",
        "for param_name in sorted(parameters_log.keys()):\n",
        "    print(\"\\t%s: %r\" % (param_name, best_parameters_log[param_name]))"
      ],
      "execution_count": null,
      "outputs": [
        {
          "output_type": "stream",
          "text": [
            "Best score: 0.779\n",
            "Best parameters set:\n",
            "\tlog__C: 200\n",
            "\tlog__penalty: 'l1'\n",
            "\tlog__solver: 'liblinear'\n",
            "\ttfidf__norm: None\n",
            "\ttfidf__use_idf: True\n",
            "\tvect__max_df: 0.75\n",
            "\tvect__max_features: 50000\n",
            "\tvect__min_df: 0.0\n",
            "\tvect__ngram_range: (1, 1)\n"
          ],
          "name": "stdout"
        }
      ]
    },
    {
      "cell_type": "code",
      "metadata": {
        "id": "5b0WbagRs38Y"
      },
      "source": [
        "grid_search_log_train = grid_search_log.score(train_corpus, train_label_names)\n",
        "grid_search_log_valid = grid_search_log.score(valid_corpus, valid_label_names)"
      ],
      "execution_count": null,
      "outputs": []
    },
    {
      "cell_type": "code",
      "metadata": {
        "colab": {
          "base_uri": "https://localhost:8080/"
        },
        "id": "gz_vEvZIm1ix",
        "outputId": "028fc5a2-32c7-4b7b-a659-1a75de836e7c"
      },
      "source": [
        "print(\"Best Logistic Classifier Train Accuracy: {}\".format(grid_search_log.score(train_corpus, train_label_names)))\n",
        "print(\"Best Logistic Classifier Valid Accuracy: {}\".format(grid_search_log.score(valid_corpus, valid_label_names)))"
      ],
      "execution_count": null,
      "outputs": [
        {
          "output_type": "stream",
          "text": [
            "Best Logistic Classifier Train Accuracy: 0.9994632313472893\n",
            "Best Logistic Classifier Valid Accuracy: 0.7803700724054706\n"
          ],
          "name": "stdout"
        }
      ]
    },
    {
      "cell_type": "markdown",
      "metadata": {
        "id": "yELDl3nJitin"
      },
      "source": [
        "### 3. Reduced Logistic Regression Classifier "
      ]
    },
    {
      "cell_type": "code",
      "metadata": {
        "id": "VH-QwI3Kl_Ro"
      },
      "source": [
        "text_log_reduced = Pipeline([('vect', CountVectorizer(min_df = 0, max_df = 1, max_features = None, ngram_range = (1,2))), \n",
        "                             ('tfidf', TfidfTransformer(use_idf = True, norm = None)), ('svd', TruncatedSVD()), ('log', LogisticRegression(C = 50, penalty = 'l1', solver = 'liblinear'))])\n",
        "\n",
        "parameters_log_reduced = {\n",
        "    'svd__n_components':[1000, 5000] \n",
        "}"
      ],
      "execution_count": null,
      "outputs": []
    },
    {
      "cell_type": "code",
      "metadata": {
        "colab": {
          "base_uri": "https://localhost:8080/"
        },
        "id": "YrZwtPYWnDLX",
        "outputId": "f5de81eb-81cc-4443-9cb9-a2e217a5f58b"
      },
      "source": [
        "grid_search_log_reduced = GridSearchCV(text_log_reduced, parameters_log_reduced, n_jobs=-1, cv=3, refit=True)\n",
        "\n",
        "grid_search_log_reduced.fit(train_corpus, train_label_names)"
      ],
      "execution_count": null,
      "outputs": [
        {
          "output_type": "execute_result",
          "data": {
            "text/plain": [
              "GridSearchCV(cv=3,\n",
              "             estimator=Pipeline(steps=[('vect',\n",
              "                                        CountVectorizer(max_df=1, min_df=0,\n",
              "                                                        ngram_range=(1, 2))),\n",
              "                                       ('tfidf', TfidfTransformer(norm=None)),\n",
              "                                       ('svd', TruncatedSVD()),\n",
              "                                       ('log',\n",
              "                                        LogisticRegression(C=50, penalty='l1',\n",
              "                                                           solver='liblinear'))]),\n",
              "             n_jobs=-1, param_grid={'svd__n_components': [1000, 5000]})"
            ]
          },
          "metadata": {
            "tags": []
          },
          "execution_count": 72
        }
      ]
    },
    {
      "cell_type": "code",
      "metadata": {
        "colab": {
          "base_uri": "https://localhost:8080/"
        },
        "id": "zuqI81rFuQW5",
        "outputId": "47b73c45-de14-45b9-b0d7-ee7586a6b393"
      },
      "source": [
        "print(\"Best score: %0.3f\" % grid_search_log_reduced.best_score_)\n",
        "print(\"Best parameters set:\")\n",
        "\n",
        "best_parameters_log_reduced = grid_search_log_reduced.best_estimator_.get_params()\n",
        "\n",
        "for param_name in sorted(parameters_log_reduced.keys()):\n",
        "    print(\"\\t%s: %r\" % (param_name, best_parameters_log_reduced[param_name]))"
      ],
      "execution_count": null,
      "outputs": [
        {
          "output_type": "stream",
          "text": [
            "Best score: 0.650\n",
            "Best parameters set:\n",
            "\tsvd__n_components: 5000\n"
          ],
          "name": "stdout"
        }
      ]
    },
    {
      "cell_type": "code",
      "metadata": {
        "id": "BeI4VEG1s38Z"
      },
      "source": [
        "grid_search_reduced_log_train = grid_search_log_reduced.score(train_corpus, train_label_names)\n",
        "grid_search_reduced_log_valid = grid_search_log_reduced.score(valid_corpus, valid_label_names)"
      ],
      "execution_count": null,
      "outputs": []
    },
    {
      "cell_type": "code",
      "metadata": {
        "colab": {
          "base_uri": "https://localhost:8080/"
        },
        "id": "O4F6TYMZyEFV",
        "outputId": "71deccc6-c32c-43fb-caa2-dfbb6456be60"
      },
      "source": [
        "print(\"Best Reduced Logistic Classifier Train Accuracy: {}\".format(grid_search_log_reduced.score(train_corpus, train_label_names)))\n",
        "print(\"Best Reduced Logistic Classifier Valid Accuracy: {}\".format(grid_search_log_reduced.score(valid_corpus, valid_label_names)))"
      ],
      "execution_count": null,
      "outputs": [
        {
          "output_type": "stream",
          "text": [
            "Best Reduced Logistic Classifier Train Accuracy: 0.9841653247450349\n",
            "Best Reduced Logistic Classifier Valid Accuracy: 0.6484312148028962\n"
          ],
          "name": "stdout"
        }
      ]
    },
    {
      "cell_type": "markdown",
      "metadata": {
        "id": "GlkTi_bNs38Z"
      },
      "source": [
        "### 4. Support Vector Machine Classifier"
      ]
    },
    {
      "cell_type": "code",
      "metadata": {
        "id": "EDltsu0us38a"
      },
      "source": [
        "text_svc = Pipeline([('vect', CountVectorizer()), ('tfidf', TfidfTransformer()), ('svc', SVC())])\n",
        "\n",
        "parameters_svc = {\n",
        "    'vect__min_df': [0, 0.1],\n",
        "    'vect__max_df': [0.5, 1.0],\n",
        "    #'vect__max_features': [None, 10000, 20000],\n",
        "    'vect__ngram_range': [(1, 1), (1, 2)],  \n",
        "    'tfidf__norm': ['l1', 'l2', None],\n",
        "    #'svc__kernel': ['linear', 'poly', 'rbf', 'sigmoid'],\n",
        "    'svc__kernel': ['linear', 'rbf'],\n",
        "    'svc__C': [10, 15, 20],\n",
        "}"
      ],
      "execution_count": null,
      "outputs": []
    },
    {
      "cell_type": "code",
      "metadata": {
        "id": "wMfx-irrs38a",
        "outputId": "f4a6a0f3-301b-4664-d125-15766e83d5c4"
      },
      "source": [
        "grid_search_svc = GridSearchCV(text_svc, parameters_svc, n_jobs=-1, cv=3, refit=True)\n",
        "\n",
        "grid_search_svc.fit(train_corpus, train_label_names)"
      ],
      "execution_count": null,
      "outputs": [
        {
          "output_type": "execute_result",
          "data": {
            "text/plain": [
              "GridSearchCV(cv=3,\n",
              "             estimator=Pipeline(steps=[('vect', CountVectorizer()),\n",
              "                                       ('tfidf', TfidfTransformer()),\n",
              "                                       ('svc', SVC())]),\n",
              "             n_jobs=-1,\n",
              "             param_grid={'svc__C': [10, 15, 20],\n",
              "                         'svc__kernel': ['linear', 'rbf'],\n",
              "                         'tfidf__norm': ['l1', 'l2', None],\n",
              "                         'vect__max_df': [0.5, 1.0], 'vect__min_df': [0, 0.1],\n",
              "                         'vect__ngram_range': [(1, 1), (1, 2)]})"
            ]
          },
          "metadata": {
            "tags": []
          },
          "execution_count": 195
        }
      ]
    },
    {
      "cell_type": "code",
      "metadata": {
        "id": "1W2FHGIfs38b",
        "outputId": "fdc912ff-7985-459f-9c36-6377f1831529"
      },
      "source": [
        "print(\"Best score: %0.3f\" % grid_search_svc.best_score_)\n",
        "print(\"Best parameters set:\")\n",
        "\n",
        "best_parameters_svc = grid_search_svc.best_estimator_.get_params()\n",
        "\n",
        "for param_name in (parameters_svc.keys()):\n",
        "    print(\"\\t%s: %r\" % (param_name, best_parameters_svc[param_name]))"
      ],
      "execution_count": null,
      "outputs": [
        {
          "output_type": "stream",
          "text": [
            "Best score: 0.769\n",
            "Best parameters set:\n",
            "\tvect__min_df: 0\n",
            "\tvect__max_df: 0.5\n",
            "\tvect__ngram_range: (1, 2)\n",
            "\ttfidf__norm: 'l2'\n",
            "\tsvc__kernel: 'linear'\n",
            "\tsvc__C: 10\n"
          ],
          "name": "stdout"
        }
      ]
    },
    {
      "cell_type": "code",
      "metadata": {
        "id": "iLBLJ-bjs38b"
      },
      "source": [
        "grid_search_svc_train = grid_search_svc.score(train_corpus, train_label_names)\n",
        "grid_search_svc_valid = grid_search_svc.score(valid_corpus, valid_label_names)"
      ],
      "execution_count": null,
      "outputs": []
    },
    {
      "cell_type": "code",
      "metadata": {
        "id": "63UATWj7s38c",
        "outputId": "5d5508d5-1381-4cdf-db81-73d4fe7a7f37"
      },
      "source": [
        "print(\"Best SVC Classifier Train Accuracy: {}\".format(grid_search_svc.score(train_corpus, train_label_names)))\n",
        "print(\"Best SVC Classifier Valid Accuracy: {}\".format(grid_search_svc.score(valid_corpus, valid_label_names)))"
      ],
      "execution_count": null,
      "outputs": [
        {
          "output_type": "stream",
          "text": [
            "Best SVC Classifier Train Accuracy: 0.999194847020934\n",
            "Best SVC Classifier Valid Accuracy: 0.7843925985518906\n"
          ],
          "name": "stdout"
        }
      ]
    },
    {
      "cell_type": "markdown",
      "metadata": {
        "id": "v4JN0bk-s38c"
      },
      "source": [
        "### 5. Stochastic Gradient Descent Classifier"
      ]
    },
    {
      "cell_type": "code",
      "metadata": {
        "id": "JFZ7YNdks38c"
      },
      "source": [
        "text_sgd = Pipeline([('vect', CountVectorizer()), ('tfidf', TfidfTransformer()), ('sgd', SGDClassifier())])\n",
        "\n",
        "parameters_sgd = {\n",
        "    'vect__min_df': [0.0, 0.1, 0.3, 0.5],\n",
        "    'vect__max_df': [0.5, 0.75, 1.0],\n",
        "    'vect__max_features': [None, 10000, 20000, 30000],\n",
        "    'vect__ngram_range': [(1, 1), (1, 2)], \n",
        "    'tfidf__norm': ['l1', 'l2', None],\n",
        "    'sgd__penalty': ['l2', 'l1', 'elasticnet'], \n",
        "    'sgd__alpha': [0.00001, 0.0001, 0.001, 0.1], \n",
        "}"
      ],
      "execution_count": null,
      "outputs": []
    },
    {
      "cell_type": "code",
      "metadata": {
        "id": "PEjcEocbs38c",
        "outputId": "d9c15bb0-43e9-4572-f7bd-b5b717b9dcba"
      },
      "source": [
        "grid_search_sgd = GridSearchCV(text_sgd, parameters_sgd, n_jobs=-1, cv=3, refit=True)\n",
        "\n",
        "grid_search_sgd.fit(train_corpus, train_label_names)"
      ],
      "execution_count": null,
      "outputs": [
        {
          "output_type": "execute_result",
          "data": {
            "text/plain": [
              "GridSearchCV(cv=3,\n",
              "             estimator=Pipeline(steps=[('vect', CountVectorizer()),\n",
              "                                       ('tfidf', TfidfTransformer()),\n",
              "                                       ('sgd', SGDClassifier())]),\n",
              "             n_jobs=-1,\n",
              "             param_grid={'sgd__alpha': [1e-05, 0.0001, 0.001, 0.1],\n",
              "                         'sgd__penalty': ['l2', 'l1', 'elasticnet'],\n",
              "                         'tfidf__norm': ['l1', 'l2', None],\n",
              "                         'vect__max_df': [0.5, 0.75, 1.0],\n",
              "                         'vect__max_features': [None, 10000, 20000, 30000],\n",
              "                         'vect__min_df': [0.0, 0.1, 0.3, 0.5],\n",
              "                         'vect__ngram_range': [(1, 1), (1, 2)]})"
            ]
          },
          "metadata": {
            "tags": []
          },
          "execution_count": 81
        }
      ]
    },
    {
      "cell_type": "code",
      "metadata": {
        "id": "OlsgCzoNs38d",
        "outputId": "cbee778a-c17e-4f94-ed15-b27b20e21edb"
      },
      "source": [
        "print(\"Best score: %0.3f\" % grid_search_sgd.best_score_)\n",
        "print(\"Best parameters set:\")\n",
        "\n",
        "best_parameters_sgd = grid_search_sgd.best_estimator_.get_params()\n",
        "\n",
        "for param_name in sorted(parameters_sgd.keys()):\n",
        "    print(\"\\t%s: %r\" % (param_name, best_parameters_sgd[param_name]))"
      ],
      "execution_count": null,
      "outputs": [
        {
          "output_type": "stream",
          "text": [
            "Best score: 0.773\n",
            "Best parameters set:\n",
            "\tsgd__alpha: 1e-05\n",
            "\tsgd__penalty: 'l2'\n",
            "\ttfidf__norm: 'l2'\n",
            "\tvect__max_df: 0.5\n",
            "\tvect__max_features: None\n",
            "\tvect__min_df: 0.0\n",
            "\tvect__ngram_range: (1, 2)\n"
          ],
          "name": "stdout"
        }
      ]
    },
    {
      "cell_type": "code",
      "metadata": {
        "id": "AeMLC-H9s38d"
      },
      "source": [
        "grid_search_sgd_train = grid_search_sgd.score(train_corpus, train_label_names)\n",
        "grid_search_sgd_valid = grid_search_sgd.score(valid_corpus, valid_label_names)"
      ],
      "execution_count": null,
      "outputs": []
    },
    {
      "cell_type": "code",
      "metadata": {
        "id": "MazX8Fp-s38d",
        "outputId": "858a4a71-9fb4-40bd-992b-d70f35ce4224"
      },
      "source": [
        "print(\"Best SGD Classifier Train Accuracy: {}\".format(grid_search_sgd.score(train_corpus, train_label_names)))\n",
        "print(\"Best SGD Classifier Valid Accuracy: {}\".format(grid_search_sgd.score(valid_corpus, valid_label_names)))"
      ],
      "execution_count": null,
      "outputs": [
        {
          "output_type": "stream",
          "text": [
            "Best SGD Classifier Train Accuracy: 0.9994632313472893\n",
            "Best SGD Classifier Valid Accuracy: 0.7819790828640386\n"
          ],
          "name": "stdout"
        }
      ]
    },
    {
      "cell_type": "markdown",
      "metadata": {
        "id": "9EudUpHns38d"
      },
      "source": [
        "### 6. Random Forest Classifier"
      ]
    },
    {
      "cell_type": "code",
      "metadata": {
        "id": "7pMu1IwGs38d"
      },
      "source": [
        "text_rfc = Pipeline([('vect', CountVectorizer()), ('tfidf', TfidfTransformer()), ('rfc', RandomForestClassifier())])\n",
        "\n",
        "parameters_rfc = {\n",
        "    #'vect__min_df': [0.0, 0.1, 0.3, 0.5],\n",
        "    #'vect__max_df': [0.5, 0.75, 1.0],\n",
        "    'vect__ngram_range': [(1, 1), (1, 2)], \n",
        "    'tfidf__norm': ['l1', 'l2'],\n",
        "    'rfc__n_estimators': [50, 100, 500], \n",
        "    'rfc__criterion': ['gini', 'entropy'],\n",
        "    'rfc__max_features': [\"auto\", \"sqrt\", \"log2\"],\n",
        "    'rfc__bootstrap': [True, False]\n",
        "}"
      ],
      "execution_count": null,
      "outputs": []
    },
    {
      "cell_type": "code",
      "metadata": {
        "id": "C98da7tls38e",
        "outputId": "f4ec0dce-1d10-4835-807d-0817b26643ec"
      },
      "source": [
        "grid_search_rfc = GridSearchCV(text_rfc, parameters_rfc, n_jobs=-1, verbose=1, cv=2, refit=True)\n",
        "\n",
        "grid_search_rfc.fit(train_corpus, train_label_names)"
      ],
      "execution_count": null,
      "outputs": [
        {
          "output_type": "stream",
          "text": [
            "Fitting 2 folds for each of 144 candidates, totalling 288 fits\n"
          ],
          "name": "stdout"
        },
        {
          "output_type": "execute_result",
          "data": {
            "text/plain": [
              "GridSearchCV(cv=2,\n",
              "             estimator=Pipeline(steps=[('vect', CountVectorizer()),\n",
              "                                       ('tfidf', TfidfTransformer()),\n",
              "                                       ('rfc', RandomForestClassifier())]),\n",
              "             n_jobs=-1,\n",
              "             param_grid={'rfc__bootstrap': [True, False],\n",
              "                         'rfc__criterion': ['gini', 'entropy'],\n",
              "                         'rfc__max_features': ['auto', 'sqrt', 'log2'],\n",
              "                         'rfc__n_estimators': [50, 100, 500],\n",
              "                         'tfidf__norm': ['l1', 'l2'],\n",
              "                         'vect__ngram_range': [(1, 1), (1, 2)]},\n",
              "             verbose=1)"
            ]
          },
          "metadata": {
            "tags": []
          },
          "execution_count": 104
        }
      ]
    },
    {
      "cell_type": "code",
      "metadata": {
        "id": "glhP7MKgs38e",
        "outputId": "85d0c9c0-51f9-4a5e-bfdb-afa513df5f4e"
      },
      "source": [
        "print(\"Best score: %0.3f\" % grid_search_rfc.best_score_)\n",
        "print(\"Best parameters set:\")\n",
        "\n",
        "best_parameters_rfc = grid_search_rfc.best_estimator_.get_params()\n",
        "\n",
        "for param_name in sorted(parameters_rfc.keys()):\n",
        "    print(\"\\t%s: %r\" % (param_name, best_parameters_rfc[param_name]))"
      ],
      "execution_count": null,
      "outputs": [
        {
          "output_type": "stream",
          "text": [
            "Best score: 0.750\n",
            "Best parameters set:\n",
            "\trfc__bootstrap: False\n",
            "\trfc__criterion: 'gini'\n",
            "\trfc__max_features: 'sqrt'\n",
            "\trfc__n_estimators: 500\n",
            "\ttfidf__norm: 'l2'\n",
            "\tvect__ngram_range: (1, 2)\n"
          ],
          "name": "stdout"
        }
      ]
    },
    {
      "cell_type": "code",
      "metadata": {
        "id": "5eGerQb7s38e"
      },
      "source": [
        "grid_search_rfc_train = grid_search_rfc.score(train_corpus, train_label_names)\n",
        "grid_search_rfc_valid = grid_search_rfc.score(valid_corpus, valid_label_names)"
      ],
      "execution_count": null,
      "outputs": []
    },
    {
      "cell_type": "code",
      "metadata": {
        "id": "xmgFuruls38e",
        "outputId": "f7ab76f0-749a-45e5-a03b-9ac12ecb3e2d"
      },
      "source": [
        "print(\"Best Random Forest Classifier Train Accuracy: {}\".format(grid_search_rfc.score(train_corpus, train_label_names)))\n",
        "print(\"Best Random Forest Classifier Valid Accuracy: {}\".format(grid_search_rfc.score(valid_corpus, valid_label_names)))"
      ],
      "execution_count": null,
      "outputs": [
        {
          "output_type": "stream",
          "text": [
            "Best Random Forest Classifier Train Accuracy: 0.9994632313472893\n",
            "Best Random Forest Classifier Valid Accuracy: 0.7546259050683829\n"
          ],
          "name": "stdout"
        }
      ]
    },
    {
      "cell_type": "markdown",
      "metadata": {
        "id": "5KLKH8fvs38f"
      },
      "source": [
        "### 7. K-Nearest Neighbors Classifier"
      ]
    },
    {
      "cell_type": "code",
      "metadata": {
        "id": "_wuK5pxZs38f"
      },
      "source": [
        "text_knn = Pipeline([('vect', CountVectorizer()), ('tfidf', TfidfTransformer()), ('knn', KNeighborsClassifier())])\n",
        "\n",
        "parameters_knn = {\n",
        "    'vect__min_df': [0, 0.1, 0.5],\n",
        "    'vect__max_df': [0.5, 0.75, 1.0],\n",
        "    'vect__max_features': [None, 10000, 50000],\n",
        "    'vect__ngram_range': [(1, 1), (1, 2)],  \n",
        "    'tfidf__use_idf': [True, False],\n",
        "    'tfidf__norm': ['l1', 'l2', None],\n",
        "    'knn__n_neighbors': [10,20, 50, 100],\n",
        "    'knn__algorithm': ['auto', 'ball_tree', 'kd_tree', 'brute'],\n",
        "}"
      ],
      "execution_count": null,
      "outputs": []
    },
    {
      "cell_type": "code",
      "metadata": {
        "id": "_RA1R4Cws38f",
        "outputId": "1dd2e57c-aed6-4da3-ab38-1aab84986add"
      },
      "source": [
        "grid_search_knn = GridSearchCV(text_knn, parameters_knn, n_jobs=-1, verbose=1, cv=3, refit=True)\n",
        "\n",
        "grid_search_knn.fit(train_corpus, train_label_names)"
      ],
      "execution_count": null,
      "outputs": [
        {
          "output_type": "stream",
          "text": [
            "Fitting 3 folds for each of 5184 candidates, totalling 15552 fits\n"
          ],
          "name": "stdout"
        },
        {
          "output_type": "execute_result",
          "data": {
            "text/plain": [
              "GridSearchCV(cv=3,\n",
              "             estimator=Pipeline(steps=[('vect', CountVectorizer()),\n",
              "                                       ('tfidf', TfidfTransformer()),\n",
              "                                       ('knn', KNeighborsClassifier())]),\n",
              "             n_jobs=-1,\n",
              "             param_grid={'knn__algorithm': ['auto', 'ball_tree', 'kd_tree',\n",
              "                                            'brute'],\n",
              "                         'knn__n_neighbors': [10, 20, 50, 100],\n",
              "                         'tfidf__norm': ['l1', 'l2', None],\n",
              "                         'tfidf__use_idf': [True, False],\n",
              "                         'vect__max_df': [0.5, 0.75, 1.0],\n",
              "                         'vect__max_features': [None, 10000, 50000],\n",
              "                         'vect__min_df': [0, 0.1, 0.5],\n",
              "                         'vect__ngram_range': [(1, 1), (1, 2)]},\n",
              "             verbose=1)"
            ]
          },
          "metadata": {
            "tags": []
          },
          "execution_count": 114
        }
      ]
    },
    {
      "cell_type": "code",
      "metadata": {
        "id": "BWeLlBDIs38f",
        "outputId": "e3788c0e-0e53-4179-bba4-df4f3517b249"
      },
      "source": [
        "print(\"Best score: %0.3f\" % grid_search_knn.best_score_)\n",
        "print(\"Best parameters set:\")\n",
        "\n",
        "best_parameters_knn = grid_search_knn.best_estimator_.get_params()\n",
        "\n",
        "for param_name in sorted(parameters_knn.keys()):\n",
        "    print(\"\\t%s: %r\" % (param_name, best_parameters_knn[param_name]))"
      ],
      "execution_count": null,
      "outputs": [
        {
          "output_type": "stream",
          "text": [
            "Best score: 0.746\n",
            "Best parameters set:\n",
            "\tknn__algorithm: 'auto'\n",
            "\tknn__n_neighbors: 20\n",
            "\ttfidf__norm: 'l2'\n",
            "\ttfidf__use_idf: True\n",
            "\tvect__max_df: 0.5\n",
            "\tvect__max_features: None\n",
            "\tvect__min_df: 0\n",
            "\tvect__ngram_range: (1, 2)\n"
          ],
          "name": "stdout"
        }
      ]
    },
    {
      "cell_type": "code",
      "metadata": {
        "id": "hQUQLYHus38f"
      },
      "source": [
        "grid_search_knn_train = grid_search_knn.score(train_corpus, train_label_names)\n",
        "grid_search_knn_valid = grid_search_knn.score(valid_corpus, valid_label_names)"
      ],
      "execution_count": null,
      "outputs": []
    },
    {
      "cell_type": "code",
      "metadata": {
        "id": "8vIFgCJSs38g",
        "outputId": "022268f4-e684-447d-eaa9-2eaf7b4db953"
      },
      "source": [
        "print(\"Best KNN Classifier Train Accuracy: {}\".format(grid_search_knn.score(train_corpus, train_label_names)))\n",
        "print(\"Best KNN Classifier Valid Accuracy: {}\".format(grid_search_knn.score(valid_corpus, valid_label_names)))"
      ],
      "execution_count": null,
      "outputs": [
        {
          "output_type": "stream",
          "text": [
            "Best KNN Classifier Train Accuracy: 0.773215244229737\n",
            "Best KNN Classifier Valid Accuracy: 0.7312952534191473\n"
          ],
          "name": "stdout"
        }
      ]
    },
    {
      "cell_type": "markdown",
      "metadata": {
        "id": "0Pbolc2Ls38g"
      },
      "source": [
        "### 8. Ada Boosting Classifier"
      ]
    },
    {
      "cell_type": "code",
      "metadata": {
        "id": "B1b8VmrIs38g"
      },
      "source": [
        "text_ada = Pipeline([('vect', CountVectorizer()), ('tfidf', TfidfTransformer()), ('ada', AdaBoostClassifier())])\n",
        "\n",
        "parameters_ada = {\n",
        "    #'vect__min_df': [0.0, 0.1, 0.3, 0.5],\n",
        "    #'vect__max_df': [0.5, 0.75, 1.0],\n",
        "    'vect__ngram_range': [(1, 1), (1, 2)],  \n",
        "    'tfidf__use_idf': [True, False],\n",
        "    'tfidf__norm': ['l1', 'l2', None],\n",
        "    'ada__n_estimators': [100, 200, 500],\n",
        "    'ada__learning_rate': [0.001, 0.01, 0.1, 1, 10],\n",
        "    'ada__algorithm': ['SAMME', 'SAMME.R']\n",
        "}"
      ],
      "execution_count": null,
      "outputs": []
    },
    {
      "cell_type": "code",
      "metadata": {
        "id": "8IO9V7zns38g",
        "outputId": "1ab6f6f2-a9c2-49ef-f89b-e3880f744b5b"
      },
      "source": [
        "grid_search_ada = GridSearchCV(text_ada, parameters_ada, n_jobs=-1, verbose=1, cv=3, refit=True)\n",
        "\n",
        "grid_search_ada.fit(train_corpus, train_label_names)"
      ],
      "execution_count": null,
      "outputs": [
        {
          "output_type": "stream",
          "text": [
            "Fitting 3 folds for each of 360 candidates, totalling 1080 fits\n"
          ],
          "name": "stdout"
        },
        {
          "output_type": "execute_result",
          "data": {
            "text/plain": [
              "GridSearchCV(cv=3,\n",
              "             estimator=Pipeline(steps=[('vect', CountVectorizer()),\n",
              "                                       ('tfidf', TfidfTransformer()),\n",
              "                                       ('ada', AdaBoostClassifier())]),\n",
              "             n_jobs=-1,\n",
              "             param_grid={'ada__algorithm': ['SAMME', 'SAMME.R'],\n",
              "                         'ada__learning_rate': [0.001, 0.01, 0.1, 1, 10],\n",
              "                         'ada__n_estimators': [100, 200, 500],\n",
              "                         'tfidf__norm': ['l1', 'l2', None],\n",
              "                         'tfidf__use_idf': [True, False],\n",
              "                         'vect__ngram_range': [(1, 1), (1, 2)]},\n",
              "             verbose=1)"
            ]
          },
          "metadata": {
            "tags": []
          },
          "execution_count": 175
        }
      ]
    },
    {
      "cell_type": "code",
      "metadata": {
        "id": "FAFLu6Cqs38g",
        "outputId": "ad07f70a-9d5d-4943-b1fd-6dfca92452e9"
      },
      "source": [
        "print(\"Best score: %0.3f\" % grid_search_ada.best_score_)\n",
        "print(\"Best parameters set:\")\n",
        "\n",
        "best_parameters_ada = grid_search_ada.best_estimator_.get_params()\n",
        "\n",
        "for param_name in sorted(parameters_ada.keys()):\n",
        "    print(\"\\t%s: %r\" % (param_name, best_parameters_ada[param_name]))"
      ],
      "execution_count": null,
      "outputs": [
        {
          "output_type": "stream",
          "text": [
            "Best score: 0.720\n",
            "Best parameters set:\n",
            "\tada__algorithm: 'SAMME.R'\n",
            "\tada__learning_rate: 0.1\n",
            "\tada__n_estimators: 500\n",
            "\ttfidf__norm: 'l1'\n",
            "\ttfidf__use_idf: False\n",
            "\tvect__ngram_range: (1, 2)\n"
          ],
          "name": "stdout"
        }
      ]
    },
    {
      "cell_type": "code",
      "metadata": {
        "id": "ZiuZz3-2s38h"
      },
      "source": [
        "grid_search_ada_train = grid_search_ada.score(train_corpus, train_label_names)\n",
        "grid_search_ada_valid = grid_search_ada.score(valid_corpus, valid_label_names)"
      ],
      "execution_count": null,
      "outputs": []
    },
    {
      "cell_type": "code",
      "metadata": {
        "id": "Xk3rJXPbs38h",
        "outputId": "ea60c108-d040-443e-e28c-b6bce55f85e1"
      },
      "source": [
        "print(\"Best Ada Boost Classifier Train Accuracy: {}\".format(grid_search_ada.score(train_corpus, train_label_names)))\n",
        "print(\"Best Ada Boost Classifier Valid Accuracy: {}\".format(grid_search_ada.score(valid_corpus, valid_label_names)))"
      ],
      "execution_count": null,
      "outputs": [
        {
          "output_type": "stream",
          "text": [
            "Best ADA Classifier Train Accuracy: 0.7399355877616747\n",
            "Best ADA Classifier Valid Accuracy: 0.7288817377312953\n"
          ],
          "name": "stdout"
        }
      ]
    },
    {
      "cell_type": "markdown",
      "metadata": {
        "id": "ye682zybs38h"
      },
      "source": [
        "### 9. Gaussin Naive Bayes Classifier"
      ]
    },
    {
      "cell_type": "code",
      "metadata": {
        "id": "xQmasWA1s38h"
      },
      "source": [
        "text_gnb = Pipeline([('vect', CountVectorizer()), ('tfidf', TfidfTransformer()), \n",
        "                     ('ftf', FunctionTransformer(lambda x: x.todense(), accept_sparse=True)), ('gnb', GaussianNB())])\n",
        "\n",
        "parameters_gnb = {\n",
        "    'vect__min_df': [0.0, 0.1, 0.3, 0.5],\n",
        "    'vect__max_df': [0.5, 0.75, 1.0],\n",
        "    'vect__ngram_range': [(1, 1), (1, 2)],\n",
        "    'vect__max_features': [None, 10000, 50000],\n",
        "    'tfidf__use_idf': [True, False],\n",
        "    'tfidf__norm': ['l1', 'l2', None],\n",
        "}"
      ],
      "execution_count": null,
      "outputs": []
    },
    {
      "cell_type": "code",
      "metadata": {
        "id": "UQhmfYGts38i",
        "outputId": "e5cae9be-43d6-417d-afff-b428f348c507"
      },
      "source": [
        "grid_search_gnb = GridSearchCV(text_gnb, parameters_gnb, n_jobs=-1, verbose=1, cv=3, refit=True)\n",
        "\n",
        "grid_search_gnb.fit(train_corpus, train_label_names)"
      ],
      "execution_count": null,
      "outputs": [
        {
          "output_type": "stream",
          "text": [
            "Fitting 3 folds for each of 432 candidates, totalling 1296 fits\n"
          ],
          "name": "stdout"
        },
        {
          "output_type": "execute_result",
          "data": {
            "text/plain": [
              "GridSearchCV(cv=3,\n",
              "             estimator=Pipeline(steps=[('vect', CountVectorizer()),\n",
              "                                       ('tfidf', TfidfTransformer()),\n",
              "                                       ('ftf',\n",
              "                                        FunctionTransformer(accept_sparse=True,\n",
              "                                                            func=<function <lambda> at 0x000002ACE9DC3CA0>)),\n",
              "                                       ('gnb', GaussianNB())]),\n",
              "             n_jobs=-1,\n",
              "             param_grid={'tfidf__norm': ['l1', 'l2', None],\n",
              "                         'tfidf__use_idf': [True, False],\n",
              "                         'vect__max_df': [0.5, 0.75, 1.0],\n",
              "                         'vect__max_features': [None, 10000, 50000],\n",
              "                         'vect__min_df': [0.0, 0.1, 0.3, 0.5],\n",
              "                         'vect__ngram_range': [(1, 1), (1, 2)]},\n",
              "             verbose=1)"
            ]
          },
          "metadata": {
            "tags": []
          },
          "execution_count": 207
        }
      ]
    },
    {
      "cell_type": "code",
      "metadata": {
        "id": "fQuT9zyGs38i",
        "outputId": "02efe921-23b8-4180-ab4f-b93e82333f2e"
      },
      "source": [
        "print(\"Best score: %0.3f\" % grid_search_gnb.best_score_)\n",
        "print(\"Best parameters set:\")\n",
        "\n",
        "best_parameters_gnb = grid_search_gnb.best_estimator_.get_params()\n",
        "\n",
        "for param_name in sorted(parameters_gnb.keys()):\n",
        "    print(\"\\t%s: %r\" % (param_name, best_parameters_gnb[param_name]))"
      ],
      "execution_count": null,
      "outputs": [
        {
          "output_type": "stream",
          "text": [
            "Best score: 0.627\n",
            "Best parameters set:\n",
            "\ttfidf__norm: 'l1'\n",
            "\ttfidf__use_idf: False\n",
            "\tvect__max_df: 0.5\n",
            "\tvect__max_features: None\n",
            "\tvect__min_df: 0.0\n",
            "\tvect__ngram_range: (1, 2)\n"
          ],
          "name": "stdout"
        }
      ]
    },
    {
      "cell_type": "code",
      "metadata": {
        "id": "LSr2tCnIs38i"
      },
      "source": [
        "grid_search_gnb_train = grid_search_gnb.score(train_corpus, train_label_names)\n",
        "grid_search_gnb_valid = grid_search_gnb.score(valid_corpus, valid_label_names)"
      ],
      "execution_count": null,
      "outputs": []
    },
    {
      "cell_type": "code",
      "metadata": {
        "id": "zeFU1Sqbs38i",
        "outputId": "65eff8fe-c3b7-4e1b-944b-efe59afb01fc"
      },
      "source": [
        "print(\"Best Gaussian Naive Bayes Classifier Train Accuracy: {}\".format(grid_search_gnb.score(train_corpus, train_label_names)))\n",
        "print(\"Best Gaussian Naive Bayes Classifier Valid Accuracy: {}\".format(grid_search_gnb.score(valid_corpus, valid_label_names)))"
      ],
      "execution_count": null,
      "outputs": [
        {
          "output_type": "stream",
          "text": [
            "Best Gaussian Naive Bayes Classifier Train Accuracy: 0.9951690821256038\n",
            "Best Gaussian Naive Bayes Classifier Valid Accuracy: 0.6580852775543041\n"
          ],
          "name": "stdout"
        }
      ]
    },
    {
      "cell_type": "markdown",
      "metadata": {
        "id": "LJcf_z1xs38i"
      },
      "source": [
        "### 10. Gradient Boosting Classifier"
      ]
    },
    {
      "cell_type": "code",
      "metadata": {
        "id": "l2jP4m0Vs38j"
      },
      "source": [
        "text_grd = Pipeline([('vect', CountVectorizer()), ('tfidf', TfidfTransformer()), ('grd', GradientBoostingClassifier())])\n",
        "\n",
        "parameters_grd = {\n",
        "    #'vect__min_df': [0.0, 0.1],\n",
        "    #'vect__max_df': [0.5, 1.0],\n",
        "    'vect__ngram_range': [(1, 1), (1, 2)],  \n",
        "    'tfidf__use_idf': [True, False],\n",
        "    'tfidf__norm': ['l1', 'l2'],\n",
        "    'grd__n_estimators': [100, 200, 500],\n",
        "    'grd__learning_rate': [0.001, 0.01, 0.1],\n",
        "    'grd__loss': ['deviance', 'exponential']\n",
        "}"
      ],
      "execution_count": null,
      "outputs": []
    },
    {
      "cell_type": "code",
      "metadata": {
        "id": "DEAbGKjbs38j",
        "outputId": "368acefe-5cef-41e8-f465-075b6ecbd9a7"
      },
      "source": [
        "grid_search_grd = GridSearchCV(text_grd, parameters_grd, n_jobs=-1, verbose=1, cv=3, refit=True)\n",
        "\n",
        "grid_search_grd.fit(train_corpus, train_label_names)"
      ],
      "execution_count": null,
      "outputs": [
        {
          "output_type": "stream",
          "text": [
            "Fitting 3 folds for each of 144 candidates, totalling 432 fits\n"
          ],
          "name": "stdout"
        },
        {
          "output_type": "execute_result",
          "data": {
            "text/plain": [
              "GridSearchCV(cv=3,\n",
              "             estimator=Pipeline(steps=[('vect', CountVectorizer()),\n",
              "                                       ('tfidf', TfidfTransformer()),\n",
              "                                       ('grd', GradientBoostingClassifier())]),\n",
              "             n_jobs=-1,\n",
              "             param_grid={'grd__learning_rate': [0.001, 0.01, 0.1],\n",
              "                         'grd__loss': ['deviance', 'exponential'],\n",
              "                         'grd__n_estimators': [100, 200, 500],\n",
              "                         'tfidf__norm': ['l1', 'l2'],\n",
              "                         'tfidf__use_idf': [True, False],\n",
              "                         'vect__ngram_range': [(1, 1), (1, 2)]},\n",
              "             verbose=1)"
            ]
          },
          "metadata": {
            "tags": []
          },
          "execution_count": 222
        }
      ]
    },
    {
      "cell_type": "code",
      "metadata": {
        "id": "cHYMFvCJs38j",
        "outputId": "3ae0343e-6503-43ec-9eed-acca65985b12"
      },
      "source": [
        "print(\"Best score: %0.3f\" % grid_search_grd.best_score_)\n",
        "print(\"Best parameters set:\")\n",
        "\n",
        "best_parameters_grd = grid_search_grd.best_estimator_.get_params()\n",
        "\n",
        "for param_name in sorted(parameters_grd.keys()):\n",
        "    print(\"\\t%s: %r\" % (param_name, best_parameters_grd[param_name]))"
      ],
      "execution_count": null,
      "outputs": [
        {
          "output_type": "stream",
          "text": [
            "Best score: 0.756\n",
            "Best parameters set:\n",
            "\tgrd__learning_rate: 0.1\n",
            "\tgrd__loss: 'deviance'\n",
            "\tgrd__n_estimators: 500\n",
            "\ttfidf__norm: 'l1'\n",
            "\ttfidf__use_idf: False\n",
            "\tvect__ngram_range: (1, 1)\n"
          ],
          "name": "stdout"
        }
      ]
    },
    {
      "cell_type": "code",
      "metadata": {
        "id": "EmL0kJBvs38j"
      },
      "source": [
        "grid_search_grd_train = grid_search_grd.score(train_corpus, train_label_names)\n",
        "grid_search_grd_valid = grid_search_grd.score(valid_corpus, valid_label_names)"
      ],
      "execution_count": null,
      "outputs": []
    },
    {
      "cell_type": "code",
      "metadata": {
        "id": "Q_KZ1G_Ps38k",
        "outputId": "3fa3f63d-ebeb-482d-b655-8dc855f1ee6f"
      },
      "source": [
        "print(\"Best Gradient Boost Classifier Train Accuracy: {}\".format(grid_search_grd.score(train_corpus, train_label_names)))\n",
        "print(\"Best Gradient Boost Classifier Valid Accuracy: {}\".format(grid_search_grd.score(valid_corpus, valid_label_names)))"
      ],
      "execution_count": null,
      "outputs": [
        {
          "output_type": "stream",
          "text": [
            "Best Gradient Boost Classifier Train Accuracy: 0.9130434782608695\n",
            "Best Gradient Boost Classifier Valid Accuracy: 0.7594529364440868\n"
          ],
          "name": "stdout"
        }
      ]
    },
    {
      "cell_type": "markdown",
      "metadata": {
        "id": "umt81rmis38k"
      },
      "source": [
        "### 11. Voting Classifier "
      ]
    },
    {
      "cell_type": "code",
      "metadata": {
        "id": "toN4Pn68s38l"
      },
      "source": [
        "text_voting = Pipeline([('vect', CountVectorizer()), ('tfidf', TfidfTransformer()), ('voting', VotingClassifier\n",
        "                    (estimators=[('log', LogisticRegression(C=200, penalty='l1', solver='liblinear')), \n",
        "                                 ('svc', SVC(kernel='linear', C=10)), \n",
        "                                 ('sgd', SGDClassifier(alpha=0.00001, penalty='l2')), \n",
        "                                 ('grd', GradientBoostingClassifier(learning_rate=0.1, loss='deviance', n_estimators=500)), \n",
        "                                 ('rfc', RandomForestClassifier(bootstrap=False, criterion = 'gini', max_features='sqrt'))]))])\n",
        "\n",
        "parameters_voting = {\n",
        "    'vect__min_df': [0.0, 0.1, 0.2],\n",
        "    'vect__max_df': [0.5, 0.75, 1],\n",
        "    'vect__ngram_range': [(1, 1), (1, 2)],  \n",
        "    'tfidf__use_idf': [True, False],\n",
        "    'tfidf__norm': ['l1', 'l2'],\n",
        "    'voting__voting': ['hard', 'soft']\n",
        "}"
      ],
      "execution_count": null,
      "outputs": []
    },
    {
      "cell_type": "code",
      "metadata": {
        "id": "SJ19vR_Ys38l",
        "outputId": "f01e6632-04e0-4b01-8177-6b91361cfb66"
      },
      "source": [
        "grid_search_voting = GridSearchCV(text_voting, parameters_voting, n_jobs=-1, verbose=1, cv=3, refit=True)\n",
        "\n",
        "grid_search_voting.fit(train_corpus, train_label_names)"
      ],
      "execution_count": null,
      "outputs": [
        {
          "output_type": "stream",
          "text": [
            "Fitting 3 folds for each of 144 candidates, totalling 432 fits\n"
          ],
          "name": "stdout"
        },
        {
          "output_type": "execute_result",
          "data": {
            "text/plain": [
              "GridSearchCV(cv=3,\n",
              "             estimator=Pipeline(steps=[('vect', CountVectorizer()),\n",
              "                                       ('tfidf', TfidfTransformer()),\n",
              "                                       ('voting',\n",
              "                                        VotingClassifier(estimators=[('log',\n",
              "                                                                      LogisticRegression(C=200,\n",
              "                                                                                         penalty='l1',\n",
              "                                                                                         solver='liblinear')),\n",
              "                                                                     ('svc',\n",
              "                                                                      SVC(C=10,\n",
              "                                                                          kernel='linear')),\n",
              "                                                                     ('sgd',\n",
              "                                                                      SGDClassifier(alpha=1e-05)),\n",
              "                                                                     ('grd',\n",
              "                                                                      GradientBoostingClassifier(n_estimators=500)),\n",
              "                                                                     ('rfc',\n",
              "                                                                      RandomForestClassifier(bootstrap=False,\n",
              "                                                                                             max_features='sqrt'))]))]),\n",
              "             n_jobs=-1,\n",
              "             param_grid={'tfidf__norm': ['l1', 'l2'],\n",
              "                         'tfidf__use_idf': [True, False],\n",
              "                         'vect__max_df': [0.5, 0.75, 1],\n",
              "                         'vect__min_df': [0.0, 0.1, 0.2],\n",
              "                         'vect__ngram_range': [(1, 1), (1, 2)],\n",
              "                         'voting__voting': ['hard', 'soft']},\n",
              "             verbose=1)"
            ]
          },
          "metadata": {
            "tags": []
          },
          "execution_count": 258
        }
      ]
    },
    {
      "cell_type": "code",
      "metadata": {
        "id": "Ky8PjuzLs38m",
        "outputId": "7f9fd25d-7bc5-4177-f3d2-73fba4a48da6"
      },
      "source": [
        "print(\"Best score: %0.3f\" % grid_search_voting.best_score_)\n",
        "print(\"Best parameters set:\")\n",
        "\n",
        "best_parameters_voting = grid_search_voting.best_estimator_.get_params()\n",
        "\n",
        "for param_name in sorted(parameters_voting.keys()):\n",
        "    print(\"\\t%s: %r\" % (param_name, best_parameters_voting[param_name]))"
      ],
      "execution_count": null,
      "outputs": [
        {
          "output_type": "stream",
          "text": [
            "Best score: 0.776\n",
            "Best parameters set:\n",
            "\ttfidf__norm: 'l2'\n",
            "\ttfidf__use_idf: True\n",
            "\tvect__max_df: 0.75\n",
            "\tvect__min_df: 0.0\n",
            "\tvect__ngram_range: (1, 2)\n",
            "\tvoting__voting: 'hard'\n"
          ],
          "name": "stdout"
        }
      ]
    },
    {
      "cell_type": "code",
      "metadata": {
        "id": "y8NmqERGs38m"
      },
      "source": [
        "grid_search_voting_train = grid_search_voting.score(train_corpus, train_label_names)\n",
        "grid_search_voting_valid = grid_search_voting.score(valid_corpus, valid_label_names)"
      ],
      "execution_count": null,
      "outputs": []
    },
    {
      "cell_type": "code",
      "metadata": {
        "id": "qN-UsxFqs38m",
        "outputId": "e4927929-8253-49b1-f2e7-cb4e9165efb0"
      },
      "source": [
        "print(\"Best Voting Classifier Train Accuracy: {}\".format(grid_search_voting.score(train_corpus, train_label_names)))\n",
        "print(\"Best Voting Classifier Valid Accuracy: {}\".format(grid_search_voting.score(valid_corpus, valid_label_names)))"
      ],
      "execution_count": null,
      "outputs": [
        {
          "output_type": "stream",
          "text": [
            "Best Voting Classifier Train Accuracy: 0.9994632313472893\n",
            "Best Voting Classifier Valid Accuracy: 0.7892196299275945\n"
          ],
          "name": "stdout"
        }
      ]
    },
    {
      "cell_type": "markdown",
      "metadata": {
        "id": "IWvJAetvs38m"
      },
      "source": [
        "# Scores"
      ]
    },
    {
      "cell_type": "code",
      "metadata": {
        "id": "6BVyrxVDs38n"
      },
      "source": [
        "models_scores = pd.DataFrame([['Multinomial Naive Bayes', grid_search_mnb_train, grid_search_mnb_valid,],  \n",
        "                              ['Gaussian Naive Bayes', grid_search_gnb_train, grid_search_gnb_valid,],\n",
        "                              ['Logitic Regression', grid_search_log_train, grid_search_log_valid,],\n",
        "                              ['Reduced Logistic Regression', grid_search_reduced_log_train, grid_search_reduced_log_valid,], \n",
        "                              ['K-Neighrest Neighbors', grid_search_knn_train, grid_search_knn_valid,],\n",
        "                              ['Support Vector Classifier', grid_search_svc_train, grid_search_svc_valid,],\n",
        "                              ['Stochastic Gradient Descent', grid_search_sgd_train, grid_search_sgd_valid,],\n",
        "                              ['Random Foreset Classifier', grid_search_rfc_train, grid_search_rfc_valid,],\n",
        "                              ['Ada Boosting Classifier', grid_search_ada_train, grid_search_ada_valid,],\n",
        "                              ['Gradient Boosting Classifier', grid_search_grd_train, grid_search_grd_valid,],\n",
        "                              ['Voting Classifier', grid_search_voting_train, grid_search_voting_valid,]],\n",
        "                columns=['Model', 'Train Score (TF)', 'Validation Score (TF)'])"
      ],
      "execution_count": null,
      "outputs": []
    },
    {
      "cell_type": "code",
      "metadata": {
        "id": "7HHbj1yps38n",
        "outputId": "fbc649bd-0cdb-4e68-ae1d-c845fecd98dd"
      },
      "source": [
        "models_scores"
      ],
      "execution_count": null,
      "outputs": [
        {
          "output_type": "execute_result",
          "data": {
            "text/html": [
              "<div>\n",
              "<style scoped>\n",
              "    .dataframe tbody tr th:only-of-type {\n",
              "        vertical-align: middle;\n",
              "    }\n",
              "\n",
              "    .dataframe tbody tr th {\n",
              "        vertical-align: top;\n",
              "    }\n",
              "\n",
              "    .dataframe thead th {\n",
              "        text-align: right;\n",
              "    }\n",
              "</style>\n",
              "<table border=\"1\" class=\"dataframe\">\n",
              "  <thead>\n",
              "    <tr style=\"text-align: right;\">\n",
              "      <th></th>\n",
              "      <th>Model</th>\n",
              "      <th>Train Score (TF)</th>\n",
              "      <th>Validation Score (TF)</th>\n",
              "    </tr>\n",
              "  </thead>\n",
              "  <tbody>\n",
              "    <tr>\n",
              "      <th>0</th>\n",
              "      <td>Multinomial Naive Bayes</td>\n",
              "      <td>0.624262</td>\n",
              "      <td>0.624296</td>\n",
              "    </tr>\n",
              "    <tr>\n",
              "      <th>1</th>\n",
              "      <td>Gaussian Naive Bayes</td>\n",
              "      <td>0.995169</td>\n",
              "      <td>0.658085</td>\n",
              "    </tr>\n",
              "    <tr>\n",
              "      <th>2</th>\n",
              "      <td>Logitic Regression</td>\n",
              "      <td>0.999463</td>\n",
              "      <td>0.780370</td>\n",
              "    </tr>\n",
              "    <tr>\n",
              "      <th>3</th>\n",
              "      <td>Reduced Logistic Regression</td>\n",
              "      <td>0.984165</td>\n",
              "      <td>0.648431</td>\n",
              "    </tr>\n",
              "    <tr>\n",
              "      <th>4</th>\n",
              "      <td>K-Neighrest Neighbors</td>\n",
              "      <td>0.773215</td>\n",
              "      <td>0.731295</td>\n",
              "    </tr>\n",
              "    <tr>\n",
              "      <th>5</th>\n",
              "      <td>Support Vector Classifier</td>\n",
              "      <td>0.999195</td>\n",
              "      <td>0.784393</td>\n",
              "    </tr>\n",
              "    <tr>\n",
              "      <th>6</th>\n",
              "      <td>Stochastic Gradient Descent</td>\n",
              "      <td>0.999463</td>\n",
              "      <td>0.781979</td>\n",
              "    </tr>\n",
              "    <tr>\n",
              "      <th>7</th>\n",
              "      <td>Random Foreset Classifier</td>\n",
              "      <td>0.999463</td>\n",
              "      <td>0.754626</td>\n",
              "    </tr>\n",
              "    <tr>\n",
              "      <th>8</th>\n",
              "      <td>Ada Boosting Classifier</td>\n",
              "      <td>0.739936</td>\n",
              "      <td>0.728882</td>\n",
              "    </tr>\n",
              "    <tr>\n",
              "      <th>9</th>\n",
              "      <td>Gradient Boosting Classifier</td>\n",
              "      <td>0.913043</td>\n",
              "      <td>0.759453</td>\n",
              "    </tr>\n",
              "  </tbody>\n",
              "</table>\n",
              "</div>"
            ],
            "text/plain": [
              "                          Model  Train Score (TF)  Validation Score (TF)\n",
              "0       Multinomial Naive Bayes          0.624262               0.624296\n",
              "1          Gaussian Naive Bayes          0.995169               0.658085\n",
              "2            Logitic Regression          0.999463               0.780370\n",
              "3   Reduced Logistic Regression          0.984165               0.648431\n",
              "4         K-Neighrest Neighbors          0.773215               0.731295\n",
              "5     Support Vector Classifier          0.999195               0.784393\n",
              "6   Stochastic Gradient Descent          0.999463               0.781979\n",
              "7     Random Foreset Classifier          0.999463               0.754626\n",
              "8       Ada Boosting Classifier          0.739936               0.728882\n",
              "9  Gradient Boosting Classifier          0.913043               0.759453"
            ]
          },
          "metadata": {
            "tags": []
          },
          "execution_count": 228
        }
      ]
    },
    {
      "cell_type": "markdown",
      "metadata": {
        "id": "vTUGVZnSs38n"
      },
      "source": [
        "# Saving the Models"
      ]
    },
    {
      "cell_type": "code",
      "metadata": {
        "id": "8tJ8OqtBs38n"
      },
      "source": [
        "joblib.dump(grid_search_mnb, 'grid_search_mnb.pkl')\n",
        "joblib.dump(grid_search_log, 'grid_search_log.pkl')\n",
        "joblib.dump(grid_search_gnb, 'grid_search_gnb.pkl')\n",
        "joblib.dump(grid_search_log_reduced, 'grid_search_log_reduced.pkl')\n",
        "joblib.dump(grid_search_knn, 'grid_search_knn.pkl')\n",
        "joblib.dump(grid_search_svc, 'grid_search_svc.pkl')\n",
        "joblib.dump(grid_search_sgd, 'grid_search_sgd.pkl')\n",
        "joblib.dump(grid_search_rfc, 'grid_search_rfc.pkl')\n",
        "joblib.dump(grid_search_ada, 'grid_search_ada.pkl')\n",
        "joblib.dump(grid_search_grd, 'grid_search_grd.pkl')\n",
        "joblib.dump(grid_search_voting, 'grid_search_voting.pkl')"
      ],
      "execution_count": null,
      "outputs": []
    },
    {
      "cell_type": "markdown",
      "metadata": {
        "id": "ZJ65Mzirs38n"
      },
      "source": [
        "# Retraining the Best Models"
      ]
    },
    {
      "cell_type": "markdown",
      "metadata": {
        "id": "TS4vfpYQs38o"
      },
      "source": [
        "#### Concentrating the Training and Validation Sets. The model will be Tested on the Testing Set"
      ]
    },
    {
      "cell_type": "code",
      "metadata": {
        "id": "iYo8Lpnrs38o"
      },
      "source": [
        "train_corpus_updated = np.concatenate((train_corpus, valid_corpus))\n",
        "train_label_updated = np.concatenate((train_label_names, valid_label_names))"
      ],
      "execution_count": null,
      "outputs": []
    },
    {
      "cell_type": "markdown",
      "metadata": {
        "id": "ql1LSAyns38o"
      },
      "source": [
        "#### Building the Pipeline"
      ]
    },
    {
      "cell_type": "markdown",
      "metadata": {
        "id": "7yL33xXCs38o"
      },
      "source": [
        "Ideally, we should have included the GridSearch.best_estimaror_ object in our pipelines, but for some reason it wasn't working. Instead, we recreated the models using the optimal hyperparameters"
      ]
    },
    {
      "cell_type": "code",
      "metadata": {
        "id": "M_EDe_R6s38o"
      },
      "source": [
        "pipeline_mnb = Pipeline([('vect1', CountVectorizer(min_df=0.1, max_df=0.5, ngram_range=(1,1))), \n",
        "                         ('tfidf1', TfidfTransformer(use_idf=True, norm='l1')), \n",
        "                         ('mnb', MultinomialNB(fit_prior=True, alpha=0.00001))])\n",
        "\n",
        "pipeline_log = Pipeline([('vect2', CountVectorizer(min_df=0.0, max_df=0.75, ngram_range=(1,1))), \n",
        "                         ('tfidf2', TfidfTransformer(use_idf=True, norm=None)), \n",
        "                         ('log', LogisticRegression(C=200, penalty='l1', solver='liblinear'))])\n",
        "\n",
        "pipeline_svc = Pipeline([('vect3', CountVectorizer(min_df=0.0, max_df=0.5, ngram_range=(1,2))), \n",
        "                         ('tfidf3', TfidfTransformer(use_idf=True, norm='l2')), \n",
        "                         ('svc', SVC(C=15, kernel='linear'))])\n",
        "\n",
        "pipeline_sgd = Pipeline([('vect4', CountVectorizer(min_df=0.0, max_df=0.5, ngram_range=(1,2))), \n",
        "                         ('tfidf4', TfidfTransformer(use_idf=True, norm='l2')), \n",
        "                         ('sgd', SGDClassifier(penalty='l2', alpha=0.0001))])\n",
        "\n",
        "pipeline_rfc = Pipeline([('vect5', CountVectorizer(min_df=0.0, max_df=0.5, ngram_range=(1,2))), \n",
        "                         ('tfidf5', TfidfTransformer(use_idf=True, norm='l2')), \n",
        "                         ('rfc', RandomForestClassifier(bootstrap=False, criterion='gini', max_features='sqrt', n_estimators=500))])\n",
        "\n",
        "pipeline_knn = Pipeline([('vect6', CountVectorizer(min_df=0.0, max_df=0.5, ngram_range=(1,2), max_features=None)), \n",
        "                         ('tfidf6', TfidfTransformer(use_idf=True, norm='l2')), \n",
        "                         ('knn', KNeighborsClassifier(algorithm='auto', n_neighbors=20))])\n",
        "\n",
        "pipeline_ada = Pipeline([('vect7', CountVectorizer(min_df=0.0, max_df=0.5, ngram_range=(1,2), max_features=None)), \n",
        "                         ('tfidf7', TfidfTransformer(use_idf=True, norm='l1')), \n",
        "                         ('ada', AdaBoostClassifier(algorithm='SAMME.R', learning_rate=0.1, n_estimators=500))])\n",
        "\n",
        "pipeline_grd = Pipeline([('vect8', CountVectorizer(min_df=0.0, max_df=1, ngram_range=(1,1), max_features=None)), \n",
        "                         ('tfidf9', TfidfTransformer(use_idf=False, norm='l1')), \n",
        "                         ('grd', GradientBoostingClassifier(learning_rate=0.1, loss='deviance', n_estimators=500))])\n",
        "\n",
        "pipeline_voting = Pipeline([('vect9', CountVectorizer(min_df=0, max_df=0.75, ngram_range=(1,2))), ('tfidf9', TfidfTransformer(norm='l2', use_idf=True)), \n",
        "                            ('voting', VotingClassifier(estimators =[\n",
        "                                 ('log', LogisticRegression(C=200, penalty='l1', solver='liblinear')), \n",
        "                                 ('svc', SVC(kernel='linear', C=10)), \n",
        "                                 ('sgd', SGDClassifier(alpha=0.00001, penalty='l2')), \n",
        "                                 ('grd', GradientBoostingClassifier(learning_rate=0.1, loss='deviance', n_estimators=500)), \n",
        "                                 ('rfc', RandomForestClassifier(bootstrap=False, criterion = 'gini', max_features='sqrt'))]))])"
      ],
      "execution_count": null,
      "outputs": []
    },
    {
      "cell_type": "code",
      "metadata": {
        "id": "SISB6tbBs38p"
      },
      "source": [
        "pipelines = [pipeline_mnb, pipeline_log, pipeline_svc, pipeline_sgd, pipeline_rfc, pipeline_knn, pipeline_ada, \n",
        "             pipeline_grd, pipeline_voting]\n",
        "\n",
        "pipe_dict = {0: 'Multinomial Naive Bayes', 1: 'Logistic Regression', 2: 'Support Vector Classifier', 3:'SGD Classifier',\n",
        "             4: 'Random Forest Classifier', 5: 'KNeighbors Classifier', 6: 'Ada Boost Classifier',\n",
        "             7: 'Gradient Boosting Classifier', 8: 'Voting Classifier'}"
      ],
      "execution_count": null,
      "outputs": []
    },
    {
      "cell_type": "markdown",
      "metadata": {
        "id": "bBixJqJGs38p"
      },
      "source": [
        "### Fitting and Scoring the Models"
      ]
    },
    {
      "cell_type": "code",
      "metadata": {
        "id": "gB4GGx-ps38p"
      },
      "source": [
        "for pipe in pipelines:\n",
        "    pipe.fit(train_corpus_updated, train_label_updated)"
      ],
      "execution_count": null,
      "outputs": []
    },
    {
      "cell_type": "code",
      "metadata": {
        "id": "BAuevhubs38p",
        "outputId": "9a199409-ff96-436b-add8-83bd2bc5a1c4"
      },
      "source": [
        "for i,model in enumerate(pipelines):\n",
        "    print(\"{} Train Accuracy:{}\".format(pipe_dict[i], model.score(train_corpus_updated, train_label_updated)))"
      ],
      "execution_count": null,
      "outputs": [
        {
          "output_type": "stream",
          "text": [
            "Multinomial Naive Bayes Train Accuracy:0.6242704769571342\n",
            "Logistic Regression Train Accuracy:0.9993962567921111\n",
            "Support Vector Classifier Train Accuracy:0.9993962567921111\n",
            "SGD Classifier Train Accuracy:0.9983900181122962\n",
            "Random Forest Classifier Train Accuracy:0.9993962567921111\n",
            "KNeighbors Classifier Train Accuracy:0.7796337291205474\n",
            "Ada Boost Classifier Train Accuracy:0.7422016502314349\n",
            "Gradient Boosting Classifier Train Accuracy:0.6242704769571342\n",
            "Voting Classifier Train Accuracy:0.9993962567921111\n"
          ],
          "name": "stdout"
        }
      ]
    },
    {
      "cell_type": "code",
      "metadata": {
        "id": "aV6Q2MrUs38p",
        "outputId": "50ec60f1-ff4f-4a43-c288-6cc8f3520b56"
      },
      "source": [
        "for i,model in enumerate(pipelines):\n",
        "    print(\"{} Test Accuracy:{}\".format(pipe_dict[i], model.score(test_corpus, test_label_names)))"
      ],
      "execution_count": null,
      "outputs": [
        {
          "output_type": "stream",
          "text": [
            "Multinomial Naive Bayes Test Accuracy:0.6248574686431014\n",
            "Logistic Regression Test Accuracy:0.7833523375142531\n",
            "Support Vector Classifier Test Accuracy:0.7970353477765109\n",
            "SGD Classifier Test Accuracy:0.7958950969213227\n",
            "Random Forest Classifier Test Accuracy:0.7822120866590649\n",
            "KNeighbors Classifier Test Accuracy:0.7594070695553021\n",
            "Ada Boost Classifier Test Accuracy:0.734321550741163\n",
            "Gradient Boosting Classifier Test Accuracy:0.6248574686431014\n",
            "Voting Classifier Test Accuracy:0.7936145952109465\n"
          ],
          "name": "stdout"
        }
      ]
    },
    {
      "cell_type": "markdown",
      "metadata": {
        "id": "toNjYp3Ns38q"
      },
      "source": [
        "##### It seems that SVC has the highest predictive performance"
      ]
    },
    {
      "cell_type": "markdown",
      "metadata": {
        "id": "Boq0hA4Ks38q"
      },
      "source": [
        "# Saving our Best Model"
      ]
    },
    {
      "cell_type": "markdown",
      "metadata": {
        "id": "LaTPzUa2s38q"
      },
      "source": [
        "### Concentrating the Training, Validation, and Test Sets."
      ]
    },
    {
      "cell_type": "code",
      "metadata": {
        "id": "HjlY0M9Rs38q"
      },
      "source": [
        "whole_corpus = np.concatenate((train_corpus_updated, test_corpus))\n",
        "whole_label_names = np.concatenate((train_label_updated, test_label_names))"
      ],
      "execution_count": null,
      "outputs": []
    },
    {
      "cell_type": "markdown",
      "metadata": {
        "id": "-SovryPjs38q"
      },
      "source": [
        "### Fitting our Final Pipeline"
      ]
    },
    {
      "cell_type": "code",
      "metadata": {
        "id": "cbZtQEgQs38q",
        "outputId": "84d44332-dc6a-46e2-b3e3-dee34cabb1ed"
      },
      "source": [
        "pipeline_svc.fit(whole_corpus, whole_label_names)"
      ],
      "execution_count": null,
      "outputs": [
        {
          "output_type": "execute_result",
          "data": {
            "text/plain": [
              "Pipeline(steps=[('vect3',\n",
              "                 CountVectorizer(max_df=0.5, min_df=0.0, ngram_range=(1, 2))),\n",
              "                ('tfidf3', TfidfTransformer()),\n",
              "                ('svc', SVC(C=15, kernel='linear'))])"
            ]
          },
          "metadata": {
            "tags": []
          },
          "execution_count": 32
        }
      ]
    },
    {
      "cell_type": "markdown",
      "metadata": {
        "id": "iw1LTzAOs38r"
      },
      "source": [
        "### Pickling the Final Model"
      ]
    },
    {
      "cell_type": "code",
      "metadata": {
        "id": "NOBbvVxHs38r",
        "outputId": "cbbe43eb-c3b3-4ab4-e527-dc4ae3ca6f70"
      },
      "source": [
        "joblib.dump(pipeline_svc, 'pipeline_svc.joblib')"
      ],
      "execution_count": null,
      "outputs": [
        {
          "output_type": "execute_result",
          "data": {
            "text/plain": [
              "['pipeline_svc.joblib']"
            ]
          },
          "metadata": {
            "tags": []
          },
          "execution_count": 33
        }
      ]
    },
    {
      "cell_type": "code",
      "metadata": {
        "id": "Tn8HrYxvs38r"
      },
      "source": [
        "os.chdir(r'C:\\Users\\samer\\Dropbox\\MSBA 315 - Project')"
      ],
      "execution_count": null,
      "outputs": []
    },
    {
      "cell_type": "code",
      "metadata": {
        "id": "M-Yz-vkls38r"
      },
      "source": [
        "svc_model = joblib.load('pipeline_svc.joblib')"
      ],
      "execution_count": null,
      "outputs": []
    },
    {
      "cell_type": "code",
      "metadata": {
        "id": "mbCNzuI5s38r"
      },
      "source": [
        "x = [\"حمار\"]"
      ],
      "execution_count": null,
      "outputs": []
    },
    {
      "cell_type": "code",
      "metadata": {
        "id": "cfumAb1Xs38s",
        "outputId": "ba07f582-e3d6-4f18-b61f-196dee007e0f"
      },
      "source": [
        "svc_model.predict(x)"
      ],
      "execution_count": null,
      "outputs": [
        {
          "output_type": "execute_result",
          "data": {
            "text/plain": [
              "array(['abusive'], dtype=object)"
            ]
          },
          "metadata": {
            "tags": []
          },
          "execution_count": 38
        }
      ]
    }
  ]
}